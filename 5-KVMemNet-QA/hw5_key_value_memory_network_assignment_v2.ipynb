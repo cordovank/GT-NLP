{
 "cells": [
  {
   "cell_type": "markdown",
   "source": [
    "#Preamble\n",
    "\n",
    "This mini-project involves working through all the steps of a problem, whereas prior assignments asked you to just implement core functions. We will give you a dataset, but you will also have the opportunity to manipulate the data in ways that you find beneficial to the overall project and to explain why and how those manipulations mattered. This will be in addition to building the model from scratch, developing the training loop, and implementing testing. The code will be accompanied by a report written into the notebook.\n",
    "\n",
    "This project will have you working with attention mechanism, in a new type of system for question-answering. This will provide you with experience working with attention mechanisms while not directly working with transformers.\n",
    "\n",
    "This assignment is not autograded. You can modify any code cells as long as you achieve the requirements of each graded component."
   ],
   "metadata": {
    "id": "3M1CFw-VT5vI"
   }
  },
  {
   "cell_type": "markdown",
   "metadata": {
    "id": "yhZzhjGaTj9P"
   },
   "source": [
    "# Introduction\n",
    "\n",
    "Memory networks learn to access external memory stores (a database or, in the case of this assignment, a dictionary). Key-Value Memory Networks specifically assume that the external memory store is organized as a dictionary with keys and values. In theory memory networks are useful when one wants a neural network to be able to know a lot of information but we don't want to try to encode that information directly into the parameters of the network. This means information can be changed in the external memory database without retraining the neural network.\n",
    "\n",
    "Given a question, e.g., \"Where was Alexander Hamilton born?\", a key-value memory network learns an embedding such that the question has a high cosine similarity to a particular key in the external dictionary. Because there are many keys that need to be matched against, key-value memory networks implement an attention-scoring mechanism to select a key. Because attention is a probabilistic score, the key-value memory network retrieves a sum of embeddings weighted according to the attention score. This weighted embedding is then compared to values using a second attention-scoring mechanism. The value with the highest cosine similarity can then be retrieved and returned as the answer.\n",
    "\n",
    "Memory networks were an important part of the evolution of question-answering systems that have been eclipsed by transformers. However, the attention mechanism in a key-value memory network is very similar to the self-attention inside a transformer, so implementing a key-value memory network is a really great way to experiment and learn about self-attention without the added complexity of transformers.\n",
    "\n",
    "Key-value memory networks are also closely related to retieval-based generation networks, except we will be retrieving facts from a dictionary instead of via the internet. However, the embedding of retrieved data will be similar.\n",
    "\n",
    "Key-value memory networks are described in this [paper](https://arxiv.org/abs/1606.03126). It is recommended that you read the paper, but we will also walk through the steps you will need to complete."
   ]
  },
  {
   "cell_type": "markdown",
   "metadata": {
    "id": "XLQP14bxNXDx"
   },
   "source": [
    "# Some imports\n",
    "\n"
   ]
  },
  {
   "cell_type": "markdown",
   "source": [
    "You may add imports as necessary."
   ],
   "metadata": {
    "id": "FAe6-NtARNjW"
   }
  },
  {
   "cell_type": "code",
   "metadata": {
    "id": "JfnqkHKkITC3",
    "ExecuteTime": {
     "end_time": "2025-04-20T17:55:55.035260Z",
     "start_time": "2025-04-20T17:55:54.006094Z"
    }
   },
   "source": [
    "import time\n",
    "from datetime import datetime\n",
    "\n",
    "import torch\n",
    "import torch.nn as nn\n",
    "from torch import optim\n",
    "import torch.nn.functional as F\n",
    "import re\n",
    "import os\n",
    "import json\n",
    "import random\n",
    "import numpy as np\n",
    "import pickle\n",
    "from tqdm import tqdm\n",
    "import nltk\n",
    "from nltk.corpus import stopwords\n",
    "import matplotlib.pyplot as plt"
   ],
   "outputs": [],
   "execution_count": 1
  },
  {
   "cell_type": "code",
   "metadata": {
    "id": "AviW7dfn6pUi",
    "ExecuteTime": {
     "end_time": "2025-04-20T17:55:55.064172Z",
     "start_time": "2025-04-20T17:55:55.042603Z"
    }
   },
   "source": [
    "# device = 'cuda' if torch.cuda.is_available() else 'cpu'\n",
    "# device\n",
    "\n",
    "device = torch.device(\"mps\" if torch.backends.mps.is_available() else (\"cuda\" if torch.cuda.is_available() else \"cpu\"))\n",
    "print(device)"
   ],
   "outputs": [
    {
     "name": "stdout",
     "output_type": "stream",
     "text": [
      "mps\n"
     ]
    }
   ],
   "execution_count": 2
  },
  {
   "cell_type": "markdown",
   "source": [
    "Unidecode is useful for getting rid of issues that arise from unicode. This should not be used if we care about unicode, but for the purposes of an instructional exercise, it eliminates a lot of edge cases that come up with unicode."
   ],
   "metadata": {
    "id": "fQM96JBsVHwF"
   }
  },
  {
   "cell_type": "code",
   "metadata": {
    "id": "EYuVdhWfAcGQ",
    "ExecuteTime": {
     "end_time": "2025-04-15T05:00:46.811541Z",
     "start_time": "2025-04-15T05:00:45.734919Z"
    }
   },
   "source": [
    "!pip install unidecode"
   ],
   "outputs": [
    {
     "name": "stdout",
     "output_type": "stream",
     "text": [
      "Requirement already satisfied: unidecode in /Applications/anaconda3/envs/nlp_hw5/lib/python3.10/site-packages (1.3.8)\r\n"
     ]
    }
   ],
   "execution_count": 3
  },
  {
   "cell_type": "code",
   "metadata": {
    "id": "3E_fVmV2_8ub",
    "ExecuteTime": {
     "end_time": "2025-04-20T17:55:58.725999Z",
     "start_time": "2025-04-20T17:55:58.721891Z"
    }
   },
   "source": [
    "import unidecode"
   ],
   "outputs": [],
   "execution_count": 3
  },
  {
   "cell_type": "markdown",
   "metadata": {
    "id": "p_bDmt5iSD_j"
   },
   "source": [
    "If you need to have a reduced vocabulary, you can create an unknown \"unk\" token and add it to the vocabulary. Make sure the token index in the vocabulary and `UNK_ID` match."
   ]
  },
  {
   "cell_type": "code",
   "metadata": {
    "id": "DDHhoxzyAByu",
    "ExecuteTime": {
     "end_time": "2025-04-20T17:55:59.283088Z",
     "start_time": "2025-04-20T17:55:59.280792Z"
    }
   },
   "source": [
    "UNK = 'unk'\n",
    "UNK_ID = '0'"
   ],
   "outputs": [],
   "execution_count": 4
  },
  {
   "cell_type": "markdown",
   "metadata": {
    "id": "Sl6J8BwVpHCw"
   },
   "source": [
    "# Some utilities"
   ]
  },
  {
   "cell_type": "markdown",
   "source": [
    "You may edit these as necessary."
   ],
   "metadata": {
    "id": "4LVVnmlNRKTp"
   }
  },
  {
   "cell_type": "markdown",
   "metadata": {
    "id": "4KF3VeFoSenc"
   },
   "source": [
    "Stem words"
   ]
  },
  {
   "cell_type": "code",
   "metadata": {
    "id": "CPwG_8VrNUop",
    "ExecuteTime": {
     "end_time": "2025-04-20T17:56:00.019859Z",
     "start_time": "2025-04-20T17:56:00.017783Z"
    }
   },
   "source": [
    "# Stemming the text\n",
    "def simple_stemmer(text):\n",
    "    ps=nltk.porter.PorterStemmer()\n",
    "    text= [ps.stem(word) for word in text]\n",
    "    return text"
   ],
   "outputs": [],
   "execution_count": 5
  },
  {
   "cell_type": "markdown",
   "metadata": {
    "id": "mDg9vUiDShG-"
   },
   "source": [
    "Simple tokenizer that only keeps letters and numbers."
   ]
  },
  {
   "cell_type": "code",
   "metadata": {
    "id": "eEofSDrQ9fg_",
    "ExecuteTime": {
     "end_time": "2025-04-20T17:56:00.409107Z",
     "start_time": "2025-04-20T17:56:00.406991Z"
    }
   },
   "source": [
    "def tokenize(line):\n",
    "    line = re.sub(r'[^a-zA-Z0-9]', ' ', unidecode.unidecode(line)) # remove punctuation\n",
    "    line = line.lower().split()  # lower case\n",
    "    return line"
   ],
   "outputs": [],
   "execution_count": 6
  },
  {
   "cell_type": "markdown",
   "metadata": {
    "id": "IH2QW9FjSrJh"
   },
   "source": [
    "A standard vocabulary object class"
   ]
  },
  {
   "cell_type": "code",
   "metadata": {
    "id": "25siAXsXOJj9",
    "ExecuteTime": {
     "end_time": "2025-04-20T17:56:01.645721Z",
     "start_time": "2025-04-20T17:56:01.641649Z"
    }
   },
   "source": [
    "class Vocab:\n",
    "    def __init__(self, name = 'vocab'):\n",
    "        self.name = name\n",
    "        self._word2index = {}\n",
    "        self._word2count = {}\n",
    "        self._index2word = {}\n",
    "        self._n_words = 0\n",
    "\n",
    "    def get_words(self):\n",
    "      return list(self._word2count.keys())\n",
    "\n",
    "    def num_words(self):\n",
    "      return self._n_words\n",
    "\n",
    "    def word2index(self, word):\n",
    "      return self._word2index[word]\n",
    "\n",
    "    def index2word(self, word):\n",
    "      return self._index2word[word]\n",
    "\n",
    "    def word2count(self, word):\n",
    "      return self._word2count[word]\n",
    "\n",
    "    def add_sentence(self, sentence):\n",
    "        for word in tokenize(sentence):\n",
    "            self.add_word(word)\n",
    "\n",
    "    def add_word(self, word):\n",
    "        if word not in self._word2index:\n",
    "            self._word2index[word] = self._n_words\n",
    "            self._word2count[word] = 1\n",
    "            self._index2word[self._n_words] = word\n",
    "            self._n_words += 1\n",
    "        else:\n",
    "            self._word2count[word] += 1"
   ],
   "outputs": [],
   "execution_count": 7
  },
  {
   "cell_type": "markdown",
   "metadata": {
    "id": "esAT3lG1S5cV"
   },
   "source": [
    "Make a bag of words from a sentence, given a vocabulary. Can return a bag of word counts or a bag of word presences."
   ]
  },
  {
   "cell_type": "code",
   "metadata": {
    "id": "oKJP2y8g-TFE",
    "ExecuteTime": {
     "end_time": "2025-04-20T17:56:02.793796Z",
     "start_time": "2025-04-20T17:56:02.791354Z"
    }
   },
   "source": [
    "def multihot(s, vocab, preserve_counts = False):\n",
    "  tokens = np.array([vocab.word2index(t) for t in tokenize(s)])\n",
    "  mhot = np.zeros((tokens.size, vocab.num_words()))\n",
    "  mhot[np.arange(tokens.size), tokens] = 1\n",
    "  if preserve_counts:\n",
    "    return mhot.sum(0)\n",
    "  else:\n",
    "    return mhot.sum(0) >= 1\n"
   ],
   "outputs": [],
   "execution_count": 8
  },
  {
   "cell_type": "markdown",
   "metadata": {
    "id": "4w8BflMUTLW_"
   },
   "source": [
    "If you have a reduced vocabulary, use this to replace out-of-vocab words. If you use this, you may want to merge it with `multihot` above to avoid tokenizing twice."
   ]
  },
  {
   "cell_type": "code",
   "metadata": {
    "id": "LfvAfjEl7Z6j",
    "ExecuteTime": {
     "end_time": "2025-04-20T17:56:03.494127Z",
     "start_time": "2025-04-20T17:56:03.491915Z"
    }
   },
   "source": [
    "def unkit(s, vocab):\n",
    "  return ' '.join(list(map(lambda x: UNK if x not in vocab._word2index else x, tokenize(s))))"
   ],
   "outputs": [],
   "execution_count": 9
  },
  {
   "cell_type": "markdown",
   "metadata": {
    "id": "YHZm-bAanrrf"
   },
   "source": [
    "# Part A: Download and Process Data (0 points)"
   ]
  },
  {
   "cell_type": "markdown",
   "metadata": {
    "id": "u-L61V7tVPok"
   },
   "source": [
    "This dataset contains the information in tables that are commonly used in Wikipedia biography pages. Each person has different rows of information pertaining to their notable accomplishments and details about their life. There are a large number of types of information that can appear as rows in the biography tables, however they are relatively uniform. We call the keys of the rows \"relations\".\n",
    "\n",
    "For example [Alexander Hamilton](https://en.wikipedia.org/wiki/Alexander_Hamilton) has information about the President he worked for as Secretary of State, birth date, date of death, parents' names, etc.\n",
    "\n",
    "The code below will download the dataset and process it to create two things:\n",
    "- `DB`: a hash table that map titles of biography wikipedia articles to table information. The table information is represented as a nested hash table containing relations as keys, and associated values. For example, `DB['alexander hamilton'] = {'party': 'federalist',\n",
    " 'spouse': 'elizabeth schuyler', ...}`\n",
    "- `VOCAB`: A vocabulary object that maps words to tokens and vice versa."
   ]
  },
  {
   "cell_type": "code",
   "execution_count": 9,
   "metadata": {
    "id": "PYzcdAR2ntvm",
    "ExecuteTime": {
     "end_time": "2025-04-09T22:46:50.699342Z",
     "start_time": "2025-04-09T22:46:41.934795Z"
    }
   },
   "outputs": [
    {
     "name": "stdout",
     "output_type": "stream",
     "text": [
      "Cloning into 'wikipedia-biography-dataset'...\r\n",
      "remote: Enumerating objects: 93, done.\u001B[K\r\n",
      "remote: Total 93 (delta 0), reused 0 (delta 0), pack-reused 93 (from 1)\u001B[K\r\n",
      "Receiving objects: 100% (93/93), 338.68 MiB | 44.66 MiB/s, done.\r\n",
      "Resolving deltas: 100% (43/43), done.\r\n"
     ]
    }
   ],
   "source": [
    "!git clone https://github.com/rlebret/wikipedia-biography-dataset.git"
   ]
  },
  {
   "cell_type": "code",
   "execution_count": 10,
   "metadata": {
    "id": "RZEHbtftn17L",
    "ExecuteTime": {
     "end_time": "2025-04-09T22:47:00.852969Z",
     "start_time": "2025-04-09T22:46:53.481618Z"
    }
   },
   "outputs": [
    {
     "name": "stdout",
     "output_type": "stream",
     "text": [
      "Archive:  tmp.zip\r\n",
      "   creating: wikipedia-biography-dataset/test/\r\n",
      "  inflating: wikipedia-biography-dataset/test/test.box  \r\n",
      "  inflating: wikipedia-biography-dataset/test/test.id  \r\n",
      "  inflating: wikipedia-biography-dataset/test/test.nb  \r\n",
      "  inflating: wikipedia-biography-dataset/test/test.sent  \r\n",
      "  inflating: wikipedia-biography-dataset/test/test.url  \r\n",
      "  inflating: wikipedia-biography-dataset/test/test.contributors  \r\n",
      "  inflating: wikipedia-biography-dataset/test/test.title  \r\n",
      "   creating: wikipedia-biography-dataset/train/\r\n",
      "  inflating: wikipedia-biography-dataset/train/train.box  \r\n",
      "  inflating: wikipedia-biography-dataset/train/train.id  \r\n",
      "  inflating: wikipedia-biography-dataset/train/train.nb  \r\n",
      "  inflating: wikipedia-biography-dataset/train/train.sent  \r\n",
      "  inflating: wikipedia-biography-dataset/train/train.url  \r\n",
      "  inflating: wikipedia-biography-dataset/train/train.contributors  \r\n",
      "  inflating: wikipedia-biography-dataset/train/train.title  \r\n",
      "   creating: wikipedia-biography-dataset/valid/\r\n",
      "  inflating: wikipedia-biography-dataset/valid/valid.box  \r\n",
      "  inflating: wikipedia-biography-dataset/valid/valid.id  \r\n",
      "  inflating: wikipedia-biography-dataset/valid/valid.nb  \r\n",
      "  inflating: wikipedia-biography-dataset/valid/valid.sent  \r\n",
      "  inflating: wikipedia-biography-dataset/valid/valid.url  \r\n",
      "  inflating: wikipedia-biography-dataset/valid/valid.contributors  \r\n",
      "  inflating: wikipedia-biography-dataset/valid/valid.title  \r\n",
      "  inflating: wikipedia-biography-dataset/LICENSE.txt  \r\n",
      "  inflating: wikipedia-biography-dataset/.DS_Store  \r\n",
      "  inflating: wikipedia-biography-dataset/._.DS_Store  \r\n",
      "  inflating: wikipedia-biography-dataset/README.txt  \r\n"
     ]
    }
   ],
   "source": [
    "!cat wikipedia-biography-dataset/wikipedia-biography-dataset.z?? > tmp.zip\n",
    "!unzip -o tmp.zip\n",
    "!rm tmp.zip"
   ]
  },
  {
   "cell_type": "markdown",
   "metadata": {
    "id": "1rRYqmfSTcw0"
   },
   "source": [
    "Get all the wikipedia titles."
   ]
  },
  {
   "cell_type": "code",
   "metadata": {
    "id": "mdVrlCf-4TAq",
    "ExecuteTime": {
     "end_time": "2025-04-20T17:56:11.104918Z",
     "start_time": "2025-04-20T17:56:11.001535Z"
    }
   },
   "source": [
    "train_titles = []\n",
    "with open(\"wikipedia-biography-dataset/train/train.title\", \"r\") as file:\n",
    "  for line in file:\n",
    "    train_titles.append(line.rstrip())"
   ],
   "outputs": [],
   "execution_count": 10
  },
  {
   "cell_type": "markdown",
   "metadata": {
    "id": "YOkCic0NTeuS"
   },
   "source": [
    "Boxes contain all the information, with each line corresponding to a title in `titles`."
   ]
  },
  {
   "cell_type": "code",
   "metadata": {
    "id": "C80pu63x4o-Y",
    "ExecuteTime": {
     "end_time": "2025-04-20T17:56:12.680487Z",
     "start_time": "2025-04-20T17:56:11.751605Z"
    }
   },
   "source": [
    "train_boxes = []\n",
    "with open(\"wikipedia-biography-dataset/train/train.box\", \"r\") as file:\n",
    "  for line in file:\n",
    "    train_boxes.append(line.rstrip())"
   ],
   "outputs": [],
   "execution_count": 11
  },
  {
   "cell_type": "markdown",
   "metadata": {
    "id": "63cxS1DWTk0h"
   },
   "source": [
    "This will make the DB object, a dictionary of dictionaries for each wikipedia title, which is more or less the same as names. This function only keeps politicians (containing the \"office\" key term) and strips out information about images. It can be improved in many ways."
   ]
  },
  {
   "cell_type": "code",
   "metadata": {
    "id": "Pr97KJLc4v7v",
    "ExecuteTime": {
     "end_time": "2025-04-20T17:56:13.849348Z",
     "start_time": "2025-04-20T17:56:13.846532Z"
    }
   },
   "source": [
    "# Make a dictionary of dictionaries\n",
    "def make_db(titles, boxes):\n",
    "  db = {} # The DB\n",
    "  # Iterate through titles\n",
    "  for i in tqdm(range(len(titles))):\n",
    "    box = boxes[i] # Grab the corresponding box information\n",
    "    d  = {} # Inner dictionary\n",
    "    # Build a dict for the ith entry\n",
    "    # grab each key:value pair\n",
    "    for pair in re.findall(r'([a-zA-Z_]+)[0-9]*\\:([\\w\\d]+)', box):\n",
    "      key, value = pair\n",
    "      # Do a bit of cleaning\n",
    "      key = key.strip()\n",
    "      value = value.strip()\n",
    "      # If the key contains the word image, we probably don't want to keep it\n",
    "      if 'image' not in key:\n",
    "        # The regex maintains underscores, strip those off\n",
    "        if key[-1] == '_':\n",
    "          key = key[:-1]\n",
    "        # Make a new entry in inner dictionary if we don't have one\n",
    "        if key not in d:\n",
    "          d[key] = value\n",
    "        # Keys with compound values are split up, which is annoying, so put them back together\n",
    "        else:\n",
    "          d[key] += ' ' + value\n",
    "    # If it has an office key, keep it.\n",
    "    if 'office' in d:\n",
    "      db[titles[i]] = d\n",
    "  return db"
   ],
   "outputs": [],
   "execution_count": 12
  },
  {
   "cell_type": "markdown",
   "metadata": {
    "id": "S9hB1o63U45e"
   },
   "source": [
    "Build the vocab from the DB. Convert the whole thing into a string, tokenize it, and feed the surviving words into the vocab."
   ]
  },
  {
   "cell_type": "code",
   "metadata": {
    "id": "p13O5dcVvdZu",
    "ExecuteTime": {
     "end_time": "2025-04-20T17:56:15.732285Z",
     "start_time": "2025-04-20T17:56:15.730044Z"
    }
   },
   "source": [
    "def make_vocab(DB):\n",
    "  # Make the vocab object\n",
    "  vocab = Vocab()\n",
    "  # Tokenize the data by converting the entire DB into a string\n",
    "  tokens = tokenize(str(DB))\n",
    "  # Iterate through all the tokens (tqdm provides a progress bar)\n",
    "  for t in tqdm(tokens):\n",
    "    vocab.add_word(t)\n",
    "  return vocab"
   ],
   "outputs": [],
   "execution_count": 13
  },
  {
   "cell_type": "markdown",
   "metadata": {
    "id": "Zkjf7mbAVA9H"
   },
   "source": [
    "If you want to discard rare words, this will rebuild the vocab. This is just an example."
   ]
  },
  {
   "cell_type": "code",
   "metadata": {
    "id": "448Ww-BFtBL3",
    "ExecuteTime": {
     "end_time": "2025-04-20T17:56:16.868084Z",
     "start_time": "2025-04-20T17:56:16.865410Z"
    }
   },
   "source": [
    "def reduce_vocab(vocab, min_word_occurrence = 2):\n",
    "  # make a new vocab\n",
    "  vocab2 = Vocab(\"top\")\n",
    "  # Add the UNK token\n",
    "  vocab2.add_word(UNK)\n",
    "  # Iterate through vocabulary\n",
    "  for w in list(vocab._word2count.keys()):\n",
    "    count = vocab._word2count[w]\n",
    "    idx = vocab._word2index[w]\n",
    "    # If the word count passes threshold, add it to the new vocabulary object\n",
    "    if count >= min_word_occurrence:\n",
    "      vocab2.add_word(w)\n",
    "      vocab2._word2count[w] = count\n",
    "  # Return the new vocabulary object\n",
    "  return vocab2"
   ],
   "outputs": [],
   "execution_count": 14
  },
  {
   "cell_type": "markdown",
   "metadata": {
    "id": "iVS602YPVE9N"
   },
   "source": [
    "Make the DB"
   ]
  },
  {
   "cell_type": "code",
   "metadata": {
    "id": "cio_ZwncrGf0",
    "ExecuteTime": {
     "end_time": "2025-04-19T22:51:04.454812Z",
     "start_time": "2025-04-19T22:50:26.984472Z"
    }
   },
   "source": [
    "DB = make_db(train_titles, train_boxes)"
   ],
   "outputs": [
    {
     "name": "stderr",
     "output_type": "stream",
     "text": [
      "100%|██████████| 582659/582659 [00:37<00:00, 15558.86it/s]\n"
     ]
    }
   ],
   "execution_count": 123
  },
  {
   "cell_type": "markdown",
   "metadata": {
    "id": "ETLqtWtyVKLE"
   },
   "source": [
    "Make the VOCAB"
   ]
  },
  {
   "cell_type": "code",
   "metadata": {
    "id": "lc7oi3p54SOb",
    "ExecuteTime": {
     "end_time": "2025-04-19T22:51:22.121272Z",
     "start_time": "2025-04-19T22:51:15.352740Z"
    }
   },
   "source": [
    "VOCAB = make_vocab(DB)\n",
    "print(VOCAB.num_words())"
   ],
   "outputs": [
    {
     "name": "stderr",
     "output_type": "stream",
     "text": [
      "100%|██████████| 2997937/2997937 [00:01<00:00, 2660700.81it/s]"
     ]
    },
    {
     "name": "stdout",
     "output_type": "stream",
     "text": [
      "96093\n"
     ]
    },
    {
     "name": "stderr",
     "output_type": "stream",
     "text": [
      "\n"
     ]
    }
   ],
   "execution_count": 124
  },
  {
   "cell_type": "markdown",
   "metadata": {
    "id": "Y9AP3Dcle5VC"
   },
   "source": [
    "## Save Processed Data"
   ]
  },
  {
   "cell_type": "markdown",
   "metadata": {
    "id": "QiTQxguSXEuq"
   },
   "source": [
    "You may find it useful to save the processed dataset to your Google Drive.\n",
    "\n",
    "It is recommended that you save the file to your Google Drive. To mount your Google Drive, open the file icon on the left side of the screen to get to the option). To save the file in your Google Drive use the path `'drive/MyDrive/filename'`.)\n",
    "\n",
    "Otherwise, save the file locally. Make sure to save it in the same directory as this notebook. Use the command `!ls` to see what files are in your current directory."
   ]
  },
  {
   "cell_type": "code",
   "source": [
    "MY_DRIVE = \"LOCAL\" # Set this to \"GOOGLE\" if saving to Google Drive\n",
    "path = 'drive/MyDrive/' if MY_DRIVE == \"GOOGLE\" else ''\n",
    "\n",
    "if MY_DRIVE == \"GOOGLE\":\n",
    "    from google.colab import drive\n",
    "    drive.mount('/content/drive')"
   ],
   "metadata": {
    "collapsed": false,
    "ExecuteTime": {
     "end_time": "2025-04-20T17:56:22.986225Z",
     "start_time": "2025-04-20T17:56:22.984200Z"
    }
   },
   "outputs": [],
   "execution_count": 15
  },
  {
   "cell_type": "code",
   "metadata": {
    "id": "DwagcDU_Ut2Q",
    "ExecuteTime": {
     "end_time": "2025-04-20T17:56:23.184416Z",
     "start_time": "2025-04-20T17:56:23.182086Z"
    }
   },
   "source": [
    "def save_data(path, data, name=\"data\"):\n",
    "    with open(f\"{path}{name}\", \"wb\") as f:\n",
    "        pickle.dump(data, f, protocol=None, fix_imports=True, buffer_callback=None)"
   ],
   "outputs": [],
   "execution_count": 16
  },
  {
   "cell_type": "code",
   "source": [
    "# Save the vocab and DB\n",
    "save_data(path, VOCAB, name=\"vocab\")\n",
    "save_data(path, DB, name=\"data\")"
   ],
   "metadata": {
    "collapsed": false
   },
   "outputs": [],
   "execution_count": null
  },
  {
   "cell_type": "markdown",
   "metadata": {
    "id": "lzlH6IKhe_Qa"
   },
   "source": [
    "## Load processed data"
   ]
  },
  {
   "cell_type": "markdown",
   "metadata": {
    "id": "2AlkMbibXYWg"
   },
   "source": [
    "If you have saved the processed data in your Google Drive (or locally), you can re-load it with these commands."
   ]
  },
  {
   "cell_type": "code",
   "metadata": {
    "id": "IinOyL_4C1Hx",
    "ExecuteTime": {
     "end_time": "2025-04-20T17:56:33.876307Z",
     "start_time": "2025-04-20T17:56:33.873196Z"
    }
   },
   "source": [
    "def load_data(path, name=\"data\"):\n",
    "    with open(f\"{path}{name}\", \"rb\") as f:\n",
    "        data = pickle.load(f)\n",
    "    return data"
   ],
   "outputs": [],
   "execution_count": 18
  },
  {
   "metadata": {
    "ExecuteTime": {
     "end_time": "2025-04-20T17:56:35.955766Z",
     "start_time": "2025-04-20T17:56:35.839018Z"
    }
   },
   "cell_type": "code",
   "source": [
    "VOCAB = load_data(path, name=\"vocab\")\n",
    "DB = load_data(path, name=\"data\")"
   ],
   "outputs": [],
   "execution_count": 19
  },
  {
   "cell_type": "markdown",
   "metadata": {
    "id": "vcZcFUxrfCnB"
   },
   "source": [
    "## Data example"
   ]
  },
  {
   "cell_type": "markdown",
   "metadata": {
    "id": "jKKoOuLCVYxd"
   },
   "source": [
    "Get to know your data."
   ]
  },
  {
   "cell_type": "code",
   "metadata": {
    "id": "dbLkOyB2pp_M",
    "ExecuteTime": {
     "end_time": "2025-04-20T17:56:38.251940Z",
     "start_time": "2025-04-20T17:56:38.246348Z"
    }
   },
   "source": "DB[\"alexander hamilton\"]",
   "outputs": [
    {
     "data": {
      "text/plain": [
       "{'name': 'alexander hamilton',\n",
       " 'office': '1st united states secretary of the treasury senior officer of the army delegate to the congress of the confederation from new york',\n",
       " 'president': 'george washington john adams',\n",
       " 'term_start': 'september 11 1789 december 14 1799 november 3 1788 november 4 1782',\n",
       " 'term_end': 'january 31 1795 june 15 1800 march 2 1789 june 21 1783',\n",
       " 'predecessor': 'position established george washington egbert benson seat established',\n",
       " 'successor': 'oliver wolcott jr james wilkinson seat abolished seat abolished',\n",
       " 'birth_date': '11 january 1755',\n",
       " 'birth_place': 'charlestown nevis british west indies',\n",
       " 'death_date': 'july 12 1804 aged 47 or 49',\n",
       " 'death_place': 'new york city new york u',\n",
       " 'party': 'federalist',\n",
       " 'spouse': 'elizabeth schuyler',\n",
       " 'children': 'philip angelica alexander james alexander john church william stephen eliza holly phil',\n",
       " 'alma_mater': 'kings college new york',\n",
       " 'religion': 'presbyterian episcopalian convert',\n",
       " 'signature': 'alexander hamilton signaturert',\n",
       " 'allegiance': 'flag_of_new_york _ 1778 svg 23px new york 1775 1777 united states 1795 23px 1777 1800',\n",
       " 'branch': 'flag_of_new_york _ 1778 svg 23px new york company of artillery united states 1777 23px continental army 25px united states army',\n",
       " 'serviceyears': '1775 1776 militia 1776 1781 1798 1800',\n",
       " 'rank': '23px',\n",
       " 'article_title': 'alexander hamilton'}"
      ]
     },
     "execution_count": 20,
     "metadata": {},
     "output_type": "execute_result"
    }
   ],
   "execution_count": 20
  },
  {
   "cell_type": "markdown",
   "metadata": {
    "id": "ITACHJTWfE5m"
   },
   "source": [
    "# Part B: Implement the Key-Value Memory Network (10 points)"
   ]
  },
  {
   "cell_type": "markdown",
   "metadata": {
    "id": "xQqLE-fcI_43"
   },
   "source": [
    "This [paper](https://arxiv.org/abs/1606.03126) describes the key-value memory networks in detail, which is also sketched out below.\n",
    "\n",
    "A key-value memory network takes a natural language question. This question will be converted into a bag-of-words (i.e., a multihot) Call this $x$ and it is a 1D tensor of vocabulary length.\n",
    "\n",
    "![KVMemNet architecture](https://github.com/markriedl/kvmemnet-assignment/blob/32479dd1e88a9f8dfc72f11ccb8e9e0e1f78905f/kvmemnet-inside.png?raw=true)\n",
    "\n",
    "The KVMemNet will contain a linear layer (or embedding layer) that will produce a 1D embedding of the question $q=A(x)$.\n",
    "\n",
    "The KVMemNet will also take in a stack of keys as a tensor of shape `num_keys x vocab_size`. Each row is embedded using the same embedding, $k=A(keys)$, producing a tensor of shape `num_keys x embed_dim`. How this stack of keys is chosen will be discussed below.\n",
    "\n",
    "The KVMemNet will take in a third input, a stack of values associated with the stack of keys. This will also be of shape `num_values x vocab_size`. Each row is embedded using the same embedding, $v=A(values)$, producing a tensor of shape `num_keys x embed_dim`.\n",
    "\n",
    "The KVMemNet will also contain a second linear embedding layer, $B$. More on this later.\n",
    "\n",
    "Once we have `q`, `k`, and `v` embeddings, the next step is to use `q` and `k` to compute attention scores that can be applied against `v`. Think of $A$ as learning how to make questions and the keys that should match against values that have received the same treatment.\n",
    "\n",
    "The attention scores `p` are computed by taking the inner-product (`torch.inner()`) between `q` and `k`. The result will be a 1D tensor with `num_keys` length. Use softmax so that `p` contains scores between 1.0 and 0.0.\n",
    "\n",
    "You may be wondering why there isn't a non-linearity such as a sigmoid or ReLU after the linear layer. Softmax is a non-linearity.\n",
    "\n",
    "Next apply the `p` attention scores against `v` to apply a weight against each value in the stack of values. One should be highly weighted and the rest less weighted. Sum all the weighted values up to create a 1D tensor `o` of feature weights of length `embed_dim`. `p` can be thought of as how much of each value gets selected. Then they all get combined together and the feature weights are proportional to how much each value was attended to. The `torch.matmul()` can do the multiplication and summing in one step.\n",
    "\n",
    "The KVMemNet forward function should return this tensor of feature weights `o`.\n",
    "\n",
    "A quick note on `k` and `v`. We can't send the entire set of keys and values in our database through the network's forward function. Instead there should be a selection mechanism that selects just a subset of the database. This subset should contain the best key for the question $x$ to match against, and its corresponding value. We assume that a shallow selection process can narrow down the key-value pairs to a relatively small set, one of which will be best. For example, if the question involves \"Alexander Hamilton\", we can reasonably guess that the best key-value pair is in the part of the database associated with the named person.\n",
    "\n",
    "We are not done though. What about our linear layer $B$? Suppose variable `Y` contains our entire set of values in our databse as bags of words. $B$ is going to be used to embed our entire set of database values $y=B(Y)$. $B$ can be thought of as learning how to make all the values look like the feature weights output by the model such that the highest cosine similarity corresponds to the correct value taken from *all* values in the database.\n",
    "\n",
    "$B$ should live inside the KVMemNet object so that its parameters become trainable, but notice that we do not use $B$ in the KVMemNet's forward function. $B$ will get used to prepare the stack of all values in the database for training. It will bet used in the training loop but outside of the forward function. This is a bit unusual, but necessary to figure out the correct target (the true index of the best value to match against) for training.\n",
    "\n",
    "The above explantion only implements *single-hop* retrieval. *multi-hop* retrieval allows the results of one retrieval to inform a second (and third and so on) to get the right retrieval. This would be used in the case where the answer cannot be inferred directly from the question in a single retrieval, such as \"What was the founding date of the country that Alexander Hamilton was born in?\". To implement multi-hop retrieval, the KVMemNet will have additional linear layers $R_1...R_n$. Each $R_{i}$ will do a linear transform on `q` then attention will score and retrieve values as feature weights `o`. This will be sent to the next $R_{i+1}$ and so on until the hops are complete. This final `o` will be returned.\n",
    "\n",
    "For this assignment is is sufficient to only do *single-hop* retrieval.\n",
    "\n",
    "The above explanation does not include consideration of batching. You may want to add a batch dimension as the first dimension and input a batch as a set of questions, a set of stacks of keys, and a set of stacks of values. To do this, functions like `.inner()`, `.mm()`, and`.matmul()` will not work. Instead use `.bmm()` which handles batching correctly. You will probably need to do some `.squeeze()` and `.unsqueeze()` operations to make sure your tensors are the correct shapes.\n",
    "\n",
    "Instead of bag-of-words, one may also consider first converting each question, key, and value into a general set of embeddings such as [GLoVe](https://nlp.stanford.edu/projects/glove/). To do this one will need to consider how to combine words--convert each word into an embedding vector and then add the vectors together (or maybe average them)."
   ]
  },
  {
   "cell_type": "markdown",
   "metadata": {
    "id": "DSf1SSX7bgdE"
   },
   "source": [
    "**Complete the key-value memory net code**"
   ]
  },
  {
   "cell_type": "code",
   "source": [
    "def get_batch(data, idx, batch_size):\n",
    "  end_idx = min(idx + batch_size, data.shape[0])\n",
    "  return data[idx:end_idx]"
   ],
   "metadata": {
    "collapsed": false,
    "ExecuteTime": {
     "end_time": "2025-04-20T17:56:42.650835Z",
     "start_time": "2025-04-20T17:56:42.648731Z"
    }
   },
   "outputs": [],
   "execution_count": 21
  },
  {
   "cell_type": "code",
   "metadata": {
    "id": "9zex3XZzw0-l",
    "ExecuteTime": {
     "end_time": "2025-04-20T17:56:42.999174Z",
     "start_time": "2025-04-20T17:56:42.995011Z"
    }
   },
   "source": [
    "class KVMemNet(nn.Module):\n",
    "  def __init__(self, vocab_size, embed_dim):\n",
    "    super(KVMemNet, self).__init__()\n",
    "    self.vocab_size = vocab_size\n",
    "    self.embed_dim = embed_dim\n",
    "    \n",
    "    ### YOUR CODE HERE\n",
    "    self.A = nn.Linear(vocab_size, embed_dim, bias=False).to(device)\n",
    "    self.B = nn.Linear(vocab_size, embed_dim, bias=False).to(device)\n",
    "\n",
    "  def forward(self, x, keys, values):\n",
    "    ### YOUR CODE BELOW\n",
    "    \n",
    "    # Assume batched data\n",
    "    # x:      (vocab_size,)             --->   (batch_size, vocab_size)\n",
    "    # keys:   (num_keys, vocab_size)    --->   (batch_size, num_keys, vocab_size)\n",
    "    # values: (num_values, vocab_size)  --->   (batch_size, num_values, vocab_size)\n",
    "    \n",
    "    # Embeddings\n",
    "    q = self.A(x)       # (batch_size, embed_dim)\n",
    "    k = self.A(keys)    # (batch_size, num_keys, embed_dim)\n",
    "    v = self.A(values)  # (batch_size, num_values, embed_dim)\n",
    "    \n",
    "    # Attention scores: k⋅q = (batch, num_keys, embed_dim) x (batch, embed_dim, 1)\n",
    "    scores = torch.bmm(k, q.unsqueeze(2))   # (batch_size, num_keys, 1)\n",
    "    scores = scores.squeeze(2)              # (batch_size, num_keys)\n",
    "\n",
    "    # Attention weights\n",
    "    p = F.softmax(scores, dim=1)            # (batch, num_keys)\n",
    "    \n",
    "    # Weighted sum of values: p⋅v = (batch, num_keys) x (batch, num_values, embed_dim)\n",
    "    output = torch.bmm(p.unsqueeze(1), v)    # (batch, 1, embed_dim)\n",
    "    output = output.squeeze(1)                    # (batch, embed_dim)\n",
    "    \n",
    "    ### YOUR CODE ABOVE\n",
    "    return output"
   ],
   "outputs": [],
   "execution_count": 22
  },
  {
   "cell_type": "markdown",
   "metadata": {
    "id": "p8pshjz9hRps"
   },
   "source": [
    "\n",
    "# Synthetic Data Set\n",
    "\n",
    "This is a synthetic dataset. One way to test a model during development is to take a small piece of data and show that you can overfit a model. If you can't overfit an easily learned chunk of data, then you probably have something wrong in your code. In this case I have provided a small chunk of synthetic data that should be easy to learn.\n",
    "\n",
    "- The vocabulary is 20 word: 5 names, 5 relations, 5 question-words, 5 values\n",
    " - First 5 elements of the vocab are names (for example index 0 might be \"Hamilton\").\n",
    " - Second 5 elements of the vocab are relations (for example, \"born\", \"died\", \"occupation\").\n",
    " - Third 5 elements are random words that might be part of a query (for example, \"When was\").\n",
    " - Final 5 elements of the vocab are possible values (for example, \"1757\")\n",
    "- A \"question\" is a name (5, 1), relation (5, 1), some words (5, 1), and no values\n",
    "- The keys will all have the same name (5, 5) where each row is idential, relations (5, 5), no words, no values\n",
    "- Values will have no names, no relations, no words, and value vocab words"
   ]
  },
  {
   "cell_type": "code",
   "metadata": {
    "id": "Qvuyp-g7grYw",
    "ExecuteTime": {
     "end_time": "2025-04-20T17:56:43.894564Z",
     "start_time": "2025-04-20T17:56:43.848298Z"
    }
   },
   "source": [
    "# Turn on a different relation on each row\n",
    "relations = torch.zeros(5, 5)\n",
    "relations.fill_diagonal_(1)\n",
    "\n",
    "# training data\n",
    "train_data = {}\n",
    "for i in range(5):\n",
    "  # Name associated with questions, keys, values\n",
    "  train_data[i] = (torch.cat([F.one_hot(torch.arange(0, 5))[i].repeat(5, 1),\n",
    "                         relations,\n",
    "                         torch.randint(0, 2, (5, 5)).float(),\n",
    "                         torch.zeros(5, 5)], dim=1),\n",
    "              torch.cat([F.one_hot(torch.arange(0, 5))[i].repeat(5, 1),\n",
    "                         relations,\n",
    "                         torch.zeros(5, 5),\n",
    "                         torch.zeros(5, 5)], dim=1),\n",
    "              torch.cat([torch.zeros(5, 5),\n",
    "                         torch.zeros(5, 5),\n",
    "                         torch.zeros(5, 5),\n",
    "                         torch.randint(0, 2, (5, 5)).float()], dim=1))\n",
    "\n",
    "Y = torch.cat([v[2] for v in list(train_data.values())], dim=0).to(device)"
   ],
   "outputs": [],
   "execution_count": 23
  },
  {
   "cell_type": "markdown",
   "metadata": {
    "id": "G6R_xIi_TZVp"
   },
   "source": [
    "# Part C: Train on Synthetic Data (5 points)"
   ]
  },
  {
   "cell_type": "markdown",
   "metadata": {
    "id": "4slHUG5cPDtT"
   },
   "source": [
    "The following describes the steps to set up a training loop, including the training of the $B$ layer.\n",
    "\n",
    "![The KVMemNet being used in the training loop](https://github.com/markriedl/kvmemnet-assignment/blob/main/kvmemnet-outside.png?raw=true)\n",
    "\n",
    "- Create a model with the given vocabulary size and an embedding size that is equal to or smaller.\n",
    "- Loop through `N` epochs:\n",
    " - There are five names, loop through each name.\n",
    "   - Get a stack of questions, stack of keys, and stack of values from `DB_synth`.\n",
    "   - Loop through the relations. There is relation on each row of the keys and values.\n",
    "     - Get a single question, the `i`-th row in the questions pulled from `DB_synth` above.\n",
    "     - Compute the target: this is the `name*5 + i` element in `Y`.\n",
    "     - Run the singular question, stack of keys, and stack of values through the model and produce an output, which is a tensor of feature weights.\n",
    "     - Run all of `Y` through `model.B()` to get an embedded stack of values.\n",
    "     - Take the softmax of the inner product between the embedded stack of values from `Y` and the feature weight generated by the model.\n",
    "     - Compute the loss with `nn.CrossEntropyLoss`.\n",
    "     - Call `.backward()` on the loss.\n",
    "\n",
    "In addition to printing the loss (after every question or after every name in `DB_synth`) you can also print the target and the argmax of the softmax result to see if they match. Over time you should see the target and the argmax in agreement. For the purposes of this part of the project it is sufficient to test on the training set.\n",
    "\n",
    "Don't forget to move the model and the tensor to the GPU.\n",
    "\n",
    "You may want to speed up training by implementing batching. To do this, the model `forward()` needs to take tensors with an extra batching dimension as the first dimension. However, `.inner()`, `.mm()`, and `.matmul()` will not work properly. You will need to use `.bmm()` instead, which understands the first dimension is for batching. You will likely find that you need to perform some `.squeeze()` and `.unsqueeze()` operations. You can try batch-size of one, or take entire chunks (or even all synthetic data as a single, large batch). Try it different ways.\n",
    "\n",
    "Try training on the synthetic data first."
   ]
  },
  {
   "cell_type": "markdown",
   "source": [
    "You may make as many cells as necessary. Save your notebook outputs that plot loss and show it reducing."
   ],
   "metadata": {
    "id": "zu1CMkabZkyU"
   }
  },
  {
   "cell_type": "markdown",
   "metadata": {
    "id": "0MqIdFVAbqr1"
   },
   "source": [
    "**Write code blocks below that create the `KVMemNet`**"
   ]
  },
  {
   "cell_type": "code",
   "source": [
    "# Set up your KVMemNet, move it to the GPU, setup up optimizer (e.g., Adam), and criterion."
   ],
   "metadata": {
    "id": "wxso4hXaTKSK",
    "ExecuteTime": {
     "end_time": "2025-04-20T17:56:45.860845Z",
     "start_time": "2025-04-20T17:56:45.858853Z"
    }
   },
   "outputs": [],
   "execution_count": 24
  },
  {
   "cell_type": "code",
   "source": [
    "# Hyperparameters:\n",
    "VOCAB_SIZE_C = 20\n",
    "EMBED_SIZE_C = 100\n",
    "BATCH_SIZE_C = 5\n",
    "NUM_EPOCHS_C = 100\n",
    "LEARNING_RATE_C = 5e-4"
   ],
   "metadata": {
    "collapsed": false,
    "ExecuteTime": {
     "end_time": "2025-04-20T17:56:46.507920Z",
     "start_time": "2025-04-20T17:56:46.505839Z"
    }
   },
   "outputs": [],
   "execution_count": 25
  },
  {
   "cell_type": "code",
   "source": [
    "model = KVMemNet(VOCAB_SIZE_C, EMBED_SIZE_C).to(device)\n",
    "CRITERION = nn.CrossEntropyLoss()\n",
    "OPTIMIZER = torch.optim.AdamW(model.parameters(), lr=LEARNING_RATE_C)"
   ],
   "metadata": {
    "collapsed": false,
    "ExecuteTime": {
     "end_time": "2025-04-20T17:56:49.654965Z",
     "start_time": "2025-04-20T17:56:49.125434Z"
    }
   },
   "outputs": [],
   "execution_count": 26
  },
  {
   "cell_type": "markdown",
   "metadata": {
    "id": "001D35pTb82K"
   },
   "source": [
    "**Write and run a training testing loop. Show that your training loop loss converges with a plot**\n",
    "\n",
    "To plot a loss curve, compute the mean loss per epoch and save it in a list:\n",
    "```\n",
    "x_axis.append(epoch_number)\n",
    "y_axis.append(mean_epoch_loss_for_this_epoch)\n",
    "plt.plot(x_axis, y_axis)\n",
    "plt.show()\n",
    "```"
   ]
  },
  {
   "cell_type": "code",
   "source": [
    "def plot_loss(epoch_nums, losses):\n",
    "    plt.plot(epoch_nums, losses)\n",
    "    plt.xlabel(\"Epoch\")\n",
    "    plt.ylabel(\"Mean Loss\")\n",
    "    plt.title(\"Synthetic Data \\nTraining Loss over Epochs\")\n",
    "    plt.show()"
   ],
   "metadata": {
    "collapsed": false,
    "ExecuteTime": {
     "end_time": "2025-04-20T17:56:50.555823Z",
     "start_time": "2025-04-20T17:56:50.553703Z"
    }
   },
   "outputs": [],
   "execution_count": 27
  },
  {
   "cell_type": "code",
   "source": [
    "# Write your training loop here\n",
    "def train(model, train_data, n_epochs=NUM_EPOCHS_C, batch_size=BATCH_SIZE_C, criterion=CRITERION, optimizer=OPTIMIZER):\n",
    "    model.train()\n",
    "    epochs = []\n",
    "    train_losses = []\n",
    "    train_accs = []\n",
    "\n",
    "    start_time = time.time()\n",
    "\n",
    "    for epoch in range(n_epochs):\n",
    "        epoch_loss = 0.0\n",
    "        n_steps = 0\n",
    "        correct_total = 0\n",
    "        samples_total = 0\n",
    "        \n",
    "        for name_idx in train_data:\n",
    "            # Get training data for the current name\n",
    "            questions, keys, values = train_data[name_idx]\n",
    "            \n",
    "            # Move tensors to GPU\n",
    "            questions = questions.to(device)\n",
    "            keys = keys.to(device)\n",
    "            values = values.to(device)\n",
    "            \n",
    "            # Used for batching: to control the iteration over the dataset ensuring processing all available questions in chunks.\n",
    "            n_questions = questions.shape[0]\n",
    "                \n",
    "            for relation_idx in range(0, n_questions, batch_size):\n",
    "                # Use batched data\n",
    "                questions_b = get_batch(questions, relation_idx, batch_size)\n",
    "                keys_b = get_batch(keys, relation_idx, batch_size)\n",
    "                values_b = get_batch(values, relation_idx, batch_size)\n",
    "                \n",
    "                # Add extra dimension\n",
    "                keys_b = keys_b.unsqueeze(1)    # (batch_size, 1, vocab_size)\n",
    "                values_b = values_b.unsqueeze(1) # (batch_size, 1, vocab_size)\n",
    "                \n",
    "                # Construct target indices for current mini-batch (each name has 5 targets)\n",
    "                target_indices = [name_idx * 5 + i for i in range(relation_idx, min(relation_idx + batch_size, n_questions))]\n",
    "                target = torch.tensor(target_indices, device=device) # (batch_size,)\n",
    "                \n",
    "                \n",
    "                # Forward pass\n",
    "                output = model(questions_b, keys_b, values_b)      # (batch_size, embed_dim)\n",
    "                \n",
    "                # Embed entire database values & expand the embeddings to match the current batch size.                \n",
    "                Y_embed = model.B(Y).to(device)                    # (n_values, embed_dim)\n",
    "                Y_embed_unsq = Y_embed.unsqueeze(0)                # (1, n_values, embed_dim)\n",
    "                Y_embed_exp = Y_embed_unsq.expand(batch_size, -1, -1) # (batch_size, n_values, embed_dim)\n",
    "                \n",
    "                # Match shapes for batch matrix multiplication to compute predictions\n",
    "                outputs_unsq = output.unsqueeze(1)                 # (batch_size, 1, embed_dim)\n",
    "                Y_embed_T = Y_embed_exp.transpose(1, 2)            # (batch_size, embed_dim, n_values)\n",
    "                predictions = torch.bmm(outputs_unsq, Y_embed_T)   # (batch_size, 1, n_values)\n",
    "                predictions = predictions.squeeze(1)               # (batch_size, n_values)\n",
    "                            \n",
    "                # Compute the loss\n",
    "                loss = criterion(predictions, target)\n",
    "    \n",
    "                # Backward pass\n",
    "                optimizer.zero_grad()\n",
    "                loss.backward()\n",
    "                optimizer.step()\n",
    "                \n",
    "                # Accumulate loss\n",
    "                epoch_loss += loss.item()\n",
    "                n_steps += 1\n",
    "                \n",
    "                # Monitor progress\n",
    "                with torch.no_grad():\n",
    "                    predicted = torch.argmax(predictions, dim=1)\n",
    "                    correct_total += (predicted == target).sum().item()\n",
    "                    samples_total += target.size(0)\n",
    "                    \n",
    "                    print(f\"[Name {name_idx} | Batch index {relation_idx}], Loss: {loss.item():.4f}\")\n",
    "                    # print(f\"--- Target: {target_idx}, Predicted: {predicted}\")\n",
    "                    \n",
    "        # Plotting data\n",
    "        train_loss = epoch_loss / n_steps if n_steps > 0 else 0\n",
    "        train_acc = correct_total / samples_total if samples_total > 0 else 0\n",
    "        \n",
    "        epochs.append(epoch + 1)\n",
    "        train_losses.append(train_loss)\n",
    "        train_accs.append(train_acc)\n",
    "\n",
    "        print(f\"{'='*50}\")\n",
    "        print(f\"EPOCH {epoch+1:>2}/{n_epochs} | Mean Loss: {train_loss:.4f}, Accuracy: {train_acc:.4f}\")\n",
    "        print(f\"{'='*50}\")\n",
    "    print(f\"Time taken: {time.time() - start_time:.2f} sec\")\n",
    "\n",
    "\n",
    "    # Final results\n",
    "    print(f\"\\n{'-'*50}\")\n",
    "    print(f\"   Final Result: Loss: {train_losses[-1]:.4f}, Accuracy: {train_accs[-1]:.2%}\")\n",
    "    print(f\"{'-'*50}\")\n",
    "\n",
    "    return epochs, train_losses\n"
   ],
   "metadata": {
    "id": "InBysHJfTTYX",
    "ExecuteTime": {
     "end_time": "2025-04-20T17:56:51.327746Z",
     "start_time": "2025-04-20T17:56:51.320148Z"
    }
   },
   "outputs": [],
   "execution_count": 28
  },
  {
   "cell_type": "code",
   "source": [
    "print(\"Training on synthetic data...\\n\")\n",
    "epochs, losses = train(\n",
    "    model=model,\n",
    "    train_data=train_data,\n",
    "    n_epochs=NUM_EPOCHS_C,\n",
    "    batch_size=BATCH_SIZE_C,\n",
    "    criterion=CRITERION,\n",
    "    optimizer=OPTIMIZER)"
   ],
   "metadata": {
    "collapsed": false,
    "ExecuteTime": {
     "end_time": "2025-04-20T17:56:55.938144Z",
     "start_time": "2025-04-20T17:56:52.760345Z"
    }
   },
   "outputs": [
    {
     "name": "stdout",
     "output_type": "stream",
     "text": [
      "Training on synthetic data...\n",
      "\n",
      "[Name 0 | Batch index 0], Loss: 3.2694\n",
      "[Name 1 | Batch index 0], Loss: 3.3982\n",
      "[Name 2 | Batch index 0], Loss: 3.3881\n",
      "[Name 3 | Batch index 0], Loss: 3.2928\n",
      "[Name 4 | Batch index 0], Loss: 3.1860\n",
      "==================================================\n",
      "EPOCH  1/100 | Mean Loss: 3.3069, Accuracy: 0.0000\n",
      "==================================================\n",
      "[Name 0 | Batch index 0], Loss: 3.2137\n",
      "[Name 1 | Batch index 0], Loss: 3.3062\n",
      "[Name 2 | Batch index 0], Loss: 3.3436\n",
      "[Name 3 | Batch index 0], Loss: 3.2435\n",
      "[Name 4 | Batch index 0], Loss: 3.1435\n",
      "==================================================\n",
      "EPOCH  2/100 | Mean Loss: 3.2501, Accuracy: 0.0000\n",
      "==================================================\n",
      "[Name 0 | Batch index 0], Loss: 3.1691\n",
      "[Name 1 | Batch index 0], Loss: 3.2277\n",
      "[Name 2 | Batch index 0], Loss: 3.3010\n",
      "[Name 3 | Batch index 0], Loss: 3.1958\n",
      "[Name 4 | Batch index 0], Loss: 3.1020\n",
      "==================================================\n",
      "EPOCH  3/100 | Mean Loss: 3.1991, Accuracy: 0.0000\n",
      "==================================================\n",
      "[Name 0 | Batch index 0], Loss: 3.1275\n",
      "[Name 1 | Batch index 0], Loss: 3.1551\n",
      "[Name 2 | Batch index 0], Loss: 3.2599\n",
      "[Name 3 | Batch index 0], Loss: 3.1498\n",
      "[Name 4 | Batch index 0], Loss: 3.0616\n",
      "==================================================\n",
      "EPOCH  4/100 | Mean Loss: 3.1508, Accuracy: 0.0000\n",
      "==================================================\n",
      "[Name 0 | Batch index 0], Loss: 3.0883\n",
      "[Name 1 | Batch index 0], Loss: 3.0873\n",
      "[Name 2 | Batch index 0], Loss: 3.2202\n",
      "[Name 3 | Batch index 0], Loss: 3.1053\n",
      "[Name 4 | Batch index 0], Loss: 3.0225\n",
      "==================================================\n",
      "EPOCH  5/100 | Mean Loss: 3.1047, Accuracy: 0.0000\n",
      "==================================================\n",
      "[Name 0 | Batch index 0], Loss: 3.0513\n",
      "[Name 1 | Batch index 0], Loss: 3.0240\n",
      "[Name 2 | Batch index 0], Loss: 3.1819\n",
      "[Name 3 | Batch index 0], Loss: 3.0625\n",
      "[Name 4 | Batch index 0], Loss: 2.9845\n",
      "==================================================\n",
      "EPOCH  6/100 | Mean Loss: 3.0608, Accuracy: 0.0800\n",
      "==================================================\n",
      "[Name 0 | Batch index 0], Loss: 3.0163\n",
      "[Name 1 | Batch index 0], Loss: 2.9647\n",
      "[Name 2 | Batch index 0], Loss: 3.1449\n",
      "[Name 3 | Batch index 0], Loss: 3.0213\n",
      "[Name 4 | Batch index 0], Loss: 2.9476\n",
      "==================================================\n",
      "EPOCH  7/100 | Mean Loss: 3.0190, Accuracy: 0.0800\n",
      "==================================================\n",
      "[Name 0 | Batch index 0], Loss: 2.9833\n",
      "[Name 1 | Batch index 0], Loss: 2.9092\n",
      "[Name 2 | Batch index 0], Loss: 3.1092\n",
      "[Name 3 | Batch index 0], Loss: 2.9815\n",
      "[Name 4 | Batch index 0], Loss: 2.9118\n",
      "==================================================\n",
      "EPOCH  8/100 | Mean Loss: 2.9790, Accuracy: 0.0800\n",
      "==================================================\n",
      "[Name 0 | Batch index 0], Loss: 2.9520\n",
      "[Name 1 | Batch index 0], Loss: 2.8571\n",
      "[Name 2 | Batch index 0], Loss: 3.0745\n",
      "[Name 3 | Batch index 0], Loss: 2.9431\n",
      "[Name 4 | Batch index 0], Loss: 2.8768\n",
      "==================================================\n",
      "EPOCH  9/100 | Mean Loss: 2.9407, Accuracy: 0.0800\n",
      "==================================================\n",
      "[Name 0 | Batch index 0], Loss: 2.9224\n",
      "[Name 1 | Batch index 0], Loss: 2.8083\n",
      "[Name 2 | Batch index 0], Loss: 3.0409\n",
      "[Name 3 | Batch index 0], Loss: 2.9061\n",
      "[Name 4 | Batch index 0], Loss: 2.8427\n",
      "==================================================\n",
      "EPOCH 10/100 | Mean Loss: 2.9041, Accuracy: 0.0800\n",
      "==================================================\n",
      "[Name 0 | Batch index 0], Loss: 2.8943\n",
      "[Name 1 | Batch index 0], Loss: 2.7625\n",
      "[Name 2 | Batch index 0], Loss: 3.0082\n",
      "[Name 3 | Batch index 0], Loss: 2.8702\n",
      "[Name 4 | Batch index 0], Loss: 2.8094\n",
      "==================================================\n",
      "EPOCH 11/100 | Mean Loss: 2.8689, Accuracy: 0.1200\n",
      "==================================================\n",
      "[Name 0 | Batch index 0], Loss: 2.8675\n",
      "[Name 1 | Batch index 0], Loss: 2.7193\n",
      "[Name 2 | Batch index 0], Loss: 2.9763\n",
      "[Name 3 | Batch index 0], Loss: 2.8354\n",
      "[Name 4 | Batch index 0], Loss: 2.7768\n",
      "==================================================\n",
      "EPOCH 12/100 | Mean Loss: 2.8351, Accuracy: 0.1600\n",
      "==================================================\n",
      "[Name 0 | Batch index 0], Loss: 2.8419\n",
      "[Name 1 | Batch index 0], Loss: 2.6786\n",
      "[Name 2 | Batch index 0], Loss: 2.9452\n",
      "[Name 3 | Batch index 0], Loss: 2.8017\n",
      "[Name 4 | Batch index 0], Loss: 2.7448\n",
      "==================================================\n",
      "EPOCH 13/100 | Mean Loss: 2.8024, Accuracy: 0.2000\n",
      "==================================================\n",
      "[Name 0 | Batch index 0], Loss: 2.8175\n",
      "[Name 1 | Batch index 0], Loss: 2.6400\n",
      "[Name 2 | Batch index 0], Loss: 2.9147\n",
      "[Name 3 | Batch index 0], Loss: 2.7689\n",
      "[Name 4 | Batch index 0], Loss: 2.7134\n",
      "==================================================\n",
      "EPOCH 14/100 | Mean Loss: 2.7709, Accuracy: 0.2000\n",
      "==================================================\n",
      "[Name 0 | Batch index 0], Loss: 2.7942\n",
      "[Name 1 | Batch index 0], Loss: 2.6035\n",
      "[Name 2 | Batch index 0], Loss: 2.8849\n",
      "[Name 3 | Batch index 0], Loss: 2.7370\n",
      "[Name 4 | Batch index 0], Loss: 2.6826\n",
      "==================================================\n",
      "EPOCH 15/100 | Mean Loss: 2.7404, Accuracy: 0.2400\n",
      "==================================================\n",
      "[Name 0 | Batch index 0], Loss: 2.7717\n",
      "[Name 1 | Batch index 0], Loss: 2.5689\n",
      "[Name 2 | Batch index 0], Loss: 2.8556\n",
      "[Name 3 | Batch index 0], Loss: 2.7059\n",
      "[Name 4 | Batch index 0], Loss: 2.6523\n",
      "==================================================\n",
      "EPOCH 16/100 | Mean Loss: 2.7109, Accuracy: 0.2800\n",
      "==================================================\n",
      "[Name 0 | Batch index 0], Loss: 2.7501\n",
      "[Name 1 | Batch index 0], Loss: 2.5359\n",
      "[Name 2 | Batch index 0], Loss: 2.8269\n",
      "[Name 3 | Batch index 0], Loss: 2.6756\n",
      "[Name 4 | Batch index 0], Loss: 2.6224\n",
      "==================================================\n",
      "EPOCH 17/100 | Mean Loss: 2.6822, Accuracy: 0.2800\n",
      "==================================================\n",
      "[Name 0 | Batch index 0], Loss: 2.7294\n",
      "[Name 1 | Batch index 0], Loss: 2.5044\n",
      "[Name 2 | Batch index 0], Loss: 2.7985\n",
      "[Name 3 | Batch index 0], Loss: 2.6460\n",
      "[Name 4 | Batch index 0], Loss: 2.5930\n",
      "==================================================\n",
      "EPOCH 18/100 | Mean Loss: 2.6543, Accuracy: 0.2800\n",
      "==================================================\n",
      "[Name 0 | Batch index 0], Loss: 2.7093\n",
      "[Name 1 | Batch index 0], Loss: 2.4743\n",
      "[Name 2 | Batch index 0], Loss: 2.7706\n",
      "[Name 3 | Batch index 0], Loss: 2.6170\n",
      "[Name 4 | Batch index 0], Loss: 2.5640\n",
      "==================================================\n",
      "EPOCH 19/100 | Mean Loss: 2.6271, Accuracy: 0.2800\n",
      "==================================================\n",
      "[Name 0 | Batch index 0], Loss: 2.6899\n",
      "[Name 1 | Batch index 0], Loss: 2.4455\n",
      "[Name 2 | Batch index 0], Loss: 2.7431\n",
      "[Name 3 | Batch index 0], Loss: 2.5886\n",
      "[Name 4 | Batch index 0], Loss: 2.5355\n",
      "==================================================\n",
      "EPOCH 20/100 | Mean Loss: 2.6005, Accuracy: 0.2800\n",
      "==================================================\n",
      "[Name 0 | Batch index 0], Loss: 2.6712\n",
      "[Name 1 | Batch index 0], Loss: 2.4178\n",
      "[Name 2 | Batch index 0], Loss: 2.7160\n",
      "[Name 3 | Batch index 0], Loss: 2.5608\n",
      "[Name 4 | Batch index 0], Loss: 2.5073\n",
      "==================================================\n",
      "EPOCH 21/100 | Mean Loss: 2.5746, Accuracy: 0.3200\n",
      "==================================================\n",
      "[Name 0 | Batch index 0], Loss: 2.6531\n",
      "[Name 1 | Batch index 0], Loss: 2.3913\n",
      "[Name 2 | Batch index 0], Loss: 2.6892\n",
      "[Name 3 | Batch index 0], Loss: 2.5335\n",
      "[Name 4 | Batch index 0], Loss: 2.4796\n",
      "==================================================\n",
      "EPOCH 22/100 | Mean Loss: 2.5493, Accuracy: 0.3600\n",
      "==================================================\n",
      "[Name 0 | Batch index 0], Loss: 2.6355\n",
      "[Name 1 | Batch index 0], Loss: 2.3657\n",
      "[Name 2 | Batch index 0], Loss: 2.6627\n",
      "[Name 3 | Batch index 0], Loss: 2.5068\n",
      "[Name 4 | Batch index 0], Loss: 2.4522\n",
      "==================================================\n",
      "EPOCH 23/100 | Mean Loss: 2.5246, Accuracy: 0.3600\n",
      "==================================================\n",
      "[Name 0 | Batch index 0], Loss: 2.6185\n",
      "[Name 1 | Batch index 0], Loss: 2.3410\n",
      "[Name 2 | Batch index 0], Loss: 2.6365\n",
      "[Name 3 | Batch index 0], Loss: 2.4805\n",
      "[Name 4 | Batch index 0], Loss: 2.4252\n",
      "==================================================\n",
      "EPOCH 24/100 | Mean Loss: 2.5003, Accuracy: 0.3600\n",
      "==================================================\n",
      "[Name 0 | Batch index 0], Loss: 2.6019\n",
      "[Name 1 | Batch index 0], Loss: 2.3172\n",
      "[Name 2 | Batch index 0], Loss: 2.6106\n",
      "[Name 3 | Batch index 0], Loss: 2.4546\n",
      "[Name 4 | Batch index 0], Loss: 2.3985\n",
      "==================================================\n",
      "EPOCH 25/100 | Mean Loss: 2.4766, Accuracy: 0.3600\n",
      "==================================================\n",
      "[Name 0 | Batch index 0], Loss: 2.5858\n",
      "[Name 1 | Batch index 0], Loss: 2.2941\n",
      "[Name 2 | Batch index 0], Loss: 2.5850\n",
      "[Name 3 | Batch index 0], Loss: 2.4292\n",
      "[Name 4 | Batch index 0], Loss: 2.3722\n",
      "==================================================\n",
      "EPOCH 26/100 | Mean Loss: 2.4533, Accuracy: 0.3600\n",
      "==================================================\n",
      "[Name 0 | Batch index 0], Loss: 2.5702\n",
      "[Name 1 | Batch index 0], Loss: 2.2718\n",
      "[Name 2 | Batch index 0], Loss: 2.5596\n",
      "[Name 3 | Batch index 0], Loss: 2.4041\n",
      "[Name 4 | Batch index 0], Loss: 2.3463\n",
      "==================================================\n",
      "EPOCH 27/100 | Mean Loss: 2.4304, Accuracy: 0.3600\n",
      "==================================================\n",
      "[Name 0 | Batch index 0], Loss: 2.5551\n",
      "[Name 1 | Batch index 0], Loss: 2.2502\n",
      "[Name 2 | Batch index 0], Loss: 2.5344\n",
      "[Name 3 | Batch index 0], Loss: 2.3795\n",
      "[Name 4 | Batch index 0], Loss: 2.3207\n",
      "==================================================\n",
      "EPOCH 28/100 | Mean Loss: 2.4080, Accuracy: 0.3600\n",
      "==================================================\n",
      "[Name 0 | Batch index 0], Loss: 2.5403\n",
      "[Name 1 | Batch index 0], Loss: 2.2292\n",
      "[Name 2 | Batch index 0], Loss: 2.5095\n",
      "[Name 3 | Batch index 0], Loss: 2.3552\n",
      "[Name 4 | Batch index 0], Loss: 2.2955\n",
      "==================================================\n",
      "EPOCH 29/100 | Mean Loss: 2.3860, Accuracy: 0.4000\n",
      "==================================================\n",
      "[Name 0 | Batch index 0], Loss: 2.5260\n",
      "[Name 1 | Batch index 0], Loss: 2.2088\n",
      "[Name 2 | Batch index 0], Loss: 2.4849\n",
      "[Name 3 | Batch index 0], Loss: 2.3313\n",
      "[Name 4 | Batch index 0], Loss: 2.2707\n",
      "==================================================\n",
      "EPOCH 30/100 | Mean Loss: 2.3643, Accuracy: 0.4000\n",
      "==================================================\n",
      "[Name 0 | Batch index 0], Loss: 2.5120\n",
      "[Name 1 | Batch index 0], Loss: 2.1889\n",
      "[Name 2 | Batch index 0], Loss: 2.4604\n",
      "[Name 3 | Batch index 0], Loss: 2.3077\n",
      "[Name 4 | Batch index 0], Loss: 2.2461\n",
      "==================================================\n",
      "EPOCH 31/100 | Mean Loss: 2.3430, Accuracy: 0.4000\n",
      "==================================================\n",
      "[Name 0 | Batch index 0], Loss: 2.4984\n",
      "[Name 1 | Batch index 0], Loss: 2.1696\n",
      "[Name 2 | Batch index 0], Loss: 2.4362\n",
      "[Name 3 | Batch index 0], Loss: 2.2845\n",
      "[Name 4 | Batch index 0], Loss: 2.2219\n",
      "==================================================\n",
      "EPOCH 32/100 | Mean Loss: 2.3221, Accuracy: 0.4000\n",
      "==================================================\n",
      "[Name 0 | Batch index 0], Loss: 2.4852\n",
      "[Name 1 | Batch index 0], Loss: 2.1508\n",
      "[Name 2 | Batch index 0], Loss: 2.4121\n",
      "[Name 3 | Batch index 0], Loss: 2.2616\n",
      "[Name 4 | Batch index 0], Loss: 2.1981\n",
      "==================================================\n",
      "EPOCH 33/100 | Mean Loss: 2.3016, Accuracy: 0.4800\n",
      "==================================================\n",
      "[Name 0 | Batch index 0], Loss: 2.4723\n",
      "[Name 1 | Batch index 0], Loss: 2.1324\n",
      "[Name 2 | Batch index 0], Loss: 2.3883\n",
      "[Name 3 | Batch index 0], Loss: 2.2389\n",
      "[Name 4 | Batch index 0], Loss: 2.1746\n",
      "==================================================\n",
      "EPOCH 34/100 | Mean Loss: 2.2813, Accuracy: 0.4800\n",
      "==================================================\n",
      "[Name 0 | Batch index 0], Loss: 2.4598\n",
      "[Name 1 | Batch index 0], Loss: 2.1145\n",
      "[Name 2 | Batch index 0], Loss: 2.3647\n",
      "[Name 3 | Batch index 0], Loss: 2.2166\n",
      "[Name 4 | Batch index 0], Loss: 2.1514\n",
      "==================================================\n",
      "EPOCH 35/100 | Mean Loss: 2.2614, Accuracy: 0.4800\n",
      "==================================================\n",
      "[Name 0 | Batch index 0], Loss: 2.4476\n",
      "[Name 1 | Batch index 0], Loss: 2.0970\n",
      "[Name 2 | Batch index 0], Loss: 2.3413\n",
      "[Name 3 | Batch index 0], Loss: 2.1946\n",
      "[Name 4 | Batch index 0], Loss: 2.1285\n",
      "==================================================\n",
      "EPOCH 36/100 | Mean Loss: 2.2418, Accuracy: 0.4800\n",
      "==================================================\n",
      "[Name 0 | Batch index 0], Loss: 2.4357\n",
      "[Name 1 | Batch index 0], Loss: 2.0799\n",
      "[Name 2 | Batch index 0], Loss: 2.3180\n",
      "[Name 3 | Batch index 0], Loss: 2.1728\n",
      "[Name 4 | Batch index 0], Loss: 2.1060\n",
      "==================================================\n",
      "EPOCH 37/100 | Mean Loss: 2.2225, Accuracy: 0.4800\n",
      "==================================================\n",
      "[Name 0 | Batch index 0], Loss: 2.4242\n",
      "[Name 1 | Batch index 0], Loss: 2.0632\n",
      "[Name 2 | Batch index 0], Loss: 2.2950\n",
      "[Name 3 | Batch index 0], Loss: 2.1513\n",
      "[Name 4 | Batch index 0], Loss: 2.0838\n",
      "==================================================\n",
      "EPOCH 38/100 | Mean Loss: 2.2035, Accuracy: 0.4800\n",
      "==================================================\n",
      "[Name 0 | Batch index 0], Loss: 2.4129\n",
      "[Name 1 | Batch index 0], Loss: 2.0468\n",
      "[Name 2 | Batch index 0], Loss: 2.2721\n",
      "[Name 3 | Batch index 0], Loss: 2.1301\n",
      "[Name 4 | Batch index 0], Loss: 2.0619\n",
      "==================================================\n",
      "EPOCH 39/100 | Mean Loss: 2.1848, Accuracy: 0.4800\n",
      "==================================================\n",
      "[Name 0 | Batch index 0], Loss: 2.4019\n",
      "[Name 1 | Batch index 0], Loss: 2.0307\n",
      "[Name 2 | Batch index 0], Loss: 2.2494\n",
      "[Name 3 | Batch index 0], Loss: 2.1091\n",
      "[Name 4 | Batch index 0], Loss: 2.0404\n",
      "==================================================\n",
      "EPOCH 40/100 | Mean Loss: 2.1663, Accuracy: 0.4800\n",
      "==================================================\n",
      "[Name 0 | Batch index 0], Loss: 2.3912\n",
      "[Name 1 | Batch index 0], Loss: 2.0150\n",
      "[Name 2 | Batch index 0], Loss: 2.2269\n",
      "[Name 3 | Batch index 0], Loss: 2.0884\n",
      "[Name 4 | Batch index 0], Loss: 2.0191\n",
      "==================================================\n",
      "EPOCH 41/100 | Mean Loss: 2.1481, Accuracy: 0.4800\n",
      "==================================================\n",
      "[Name 0 | Batch index 0], Loss: 2.3807\n",
      "[Name 1 | Batch index 0], Loss: 1.9996\n",
      "[Name 2 | Batch index 0], Loss: 2.2046\n",
      "[Name 3 | Batch index 0], Loss: 2.0679\n",
      "[Name 4 | Batch index 0], Loss: 1.9982\n",
      "==================================================\n",
      "EPOCH 42/100 | Mean Loss: 2.1302, Accuracy: 0.4800\n",
      "==================================================\n",
      "[Name 0 | Batch index 0], Loss: 2.3706\n",
      "[Name 1 | Batch index 0], Loss: 1.9845\n",
      "[Name 2 | Batch index 0], Loss: 2.1824\n",
      "[Name 3 | Batch index 0], Loss: 2.0476\n",
      "[Name 4 | Batch index 0], Loss: 1.9775\n",
      "==================================================\n",
      "EPOCH 43/100 | Mean Loss: 2.1125, Accuracy: 0.4800\n",
      "==================================================\n",
      "[Name 0 | Batch index 0], Loss: 2.3606\n",
      "[Name 1 | Batch index 0], Loss: 1.9696\n",
      "[Name 2 | Batch index 0], Loss: 2.1604\n",
      "[Name 3 | Batch index 0], Loss: 2.0276\n",
      "[Name 4 | Batch index 0], Loss: 1.9572\n",
      "==================================================\n",
      "EPOCH 44/100 | Mean Loss: 2.0951, Accuracy: 0.4800\n",
      "==================================================\n",
      "[Name 0 | Batch index 0], Loss: 2.3510\n",
      "[Name 1 | Batch index 0], Loss: 1.9551\n",
      "[Name 2 | Batch index 0], Loss: 2.1386\n",
      "[Name 3 | Batch index 0], Loss: 2.0077\n",
      "[Name 4 | Batch index 0], Loss: 1.9371\n",
      "==================================================\n",
      "EPOCH 45/100 | Mean Loss: 2.0779, Accuracy: 0.4800\n",
      "==================================================\n",
      "[Name 0 | Batch index 0], Loss: 2.3415\n",
      "[Name 1 | Batch index 0], Loss: 1.9408\n",
      "[Name 2 | Batch index 0], Loss: 2.1169\n",
      "[Name 3 | Batch index 0], Loss: 1.9881\n",
      "[Name 4 | Batch index 0], Loss: 1.9174\n",
      "==================================================\n",
      "EPOCH 46/100 | Mean Loss: 2.0609, Accuracy: 0.4800\n",
      "==================================================\n",
      "[Name 0 | Batch index 0], Loss: 2.3323\n",
      "[Name 1 | Batch index 0], Loss: 1.9267\n",
      "[Name 2 | Batch index 0], Loss: 2.0954\n",
      "[Name 3 | Batch index 0], Loss: 1.9687\n",
      "[Name 4 | Batch index 0], Loss: 1.8979\n",
      "==================================================\n",
      "EPOCH 47/100 | Mean Loss: 2.0442, Accuracy: 0.4800\n",
      "==================================================\n",
      "[Name 0 | Batch index 0], Loss: 2.3233\n",
      "[Name 1 | Batch index 0], Loss: 1.9129\n",
      "[Name 2 | Batch index 0], Loss: 2.0740\n",
      "[Name 3 | Batch index 0], Loss: 1.9496\n",
      "[Name 4 | Batch index 0], Loss: 1.8787\n",
      "==================================================\n",
      "EPOCH 48/100 | Mean Loss: 2.0277, Accuracy: 0.4800\n",
      "==================================================\n",
      "[Name 0 | Batch index 0], Loss: 2.3146\n",
      "[Name 1 | Batch index 0], Loss: 1.8993\n",
      "[Name 2 | Batch index 0], Loss: 2.0528\n",
      "[Name 3 | Batch index 0], Loss: 1.9306\n",
      "[Name 4 | Batch index 0], Loss: 1.8598\n",
      "==================================================\n",
      "EPOCH 49/100 | Mean Loss: 2.0114, Accuracy: 0.4800\n",
      "==================================================\n",
      "[Name 0 | Batch index 0], Loss: 2.3060\n",
      "[Name 1 | Batch index 0], Loss: 1.8859\n",
      "[Name 2 | Batch index 0], Loss: 2.0318\n",
      "[Name 3 | Batch index 0], Loss: 1.9118\n",
      "[Name 4 | Batch index 0], Loss: 1.8412\n",
      "==================================================\n",
      "EPOCH 50/100 | Mean Loss: 1.9953, Accuracy: 0.5200\n",
      "==================================================\n",
      "[Name 0 | Batch index 0], Loss: 2.2976\n",
      "[Name 1 | Batch index 0], Loss: 1.8727\n",
      "[Name 2 | Batch index 0], Loss: 2.0109\n",
      "[Name 3 | Batch index 0], Loss: 1.8932\n",
      "[Name 4 | Batch index 0], Loss: 1.8229\n",
      "==================================================\n",
      "EPOCH 51/100 | Mean Loss: 1.9795, Accuracy: 0.5200\n",
      "==================================================\n",
      "[Name 0 | Batch index 0], Loss: 2.2895\n",
      "[Name 1 | Batch index 0], Loss: 1.8598\n",
      "[Name 2 | Batch index 0], Loss: 1.9902\n",
      "[Name 3 | Batch index 0], Loss: 1.8748\n",
      "[Name 4 | Batch index 0], Loss: 1.8048\n",
      "==================================================\n",
      "EPOCH 52/100 | Mean Loss: 1.9638, Accuracy: 0.5600\n",
      "==================================================\n",
      "[Name 0 | Batch index 0], Loss: 2.2815\n",
      "[Name 1 | Batch index 0], Loss: 1.8470\n",
      "[Name 2 | Batch index 0], Loss: 1.9696\n",
      "[Name 3 | Batch index 0], Loss: 1.8565\n",
      "[Name 4 | Batch index 0], Loss: 1.7870\n",
      "==================================================\n",
      "EPOCH 53/100 | Mean Loss: 1.9483, Accuracy: 0.5600\n",
      "==================================================\n",
      "[Name 0 | Batch index 0], Loss: 2.2737\n",
      "[Name 1 | Batch index 0], Loss: 1.8345\n",
      "[Name 2 | Batch index 0], Loss: 1.9492\n",
      "[Name 3 | Batch index 0], Loss: 1.8385\n",
      "[Name 4 | Batch index 0], Loss: 1.7695\n",
      "==================================================\n",
      "EPOCH 54/100 | Mean Loss: 1.9331, Accuracy: 0.5600\n",
      "==================================================\n",
      "[Name 0 | Batch index 0], Loss: 2.2661\n",
      "[Name 1 | Batch index 0], Loss: 1.8221\n",
      "[Name 2 | Batch index 0], Loss: 1.9289\n",
      "[Name 3 | Batch index 0], Loss: 1.8206\n",
      "[Name 4 | Batch index 0], Loss: 1.7522\n",
      "==================================================\n",
      "EPOCH 55/100 | Mean Loss: 1.9180, Accuracy: 0.5600\n",
      "==================================================\n",
      "[Name 0 | Batch index 0], Loss: 2.2587\n",
      "[Name 1 | Batch index 0], Loss: 1.8099\n",
      "[Name 2 | Batch index 0], Loss: 1.9088\n",
      "[Name 3 | Batch index 0], Loss: 1.8029\n",
      "[Name 4 | Batch index 0], Loss: 1.7352\n",
      "==================================================\n",
      "EPOCH 56/100 | Mean Loss: 1.9031, Accuracy: 0.5600\n",
      "==================================================\n",
      "[Name 0 | Batch index 0], Loss: 2.2514\n",
      "[Name 1 | Batch index 0], Loss: 1.7980\n",
      "[Name 2 | Batch index 0], Loss: 1.8888\n",
      "[Name 3 | Batch index 0], Loss: 1.7854\n",
      "[Name 4 | Batch index 0], Loss: 1.7185\n",
      "==================================================\n",
      "EPOCH 57/100 | Mean Loss: 1.8884, Accuracy: 0.5600\n",
      "==================================================\n",
      "[Name 0 | Batch index 0], Loss: 2.2443\n",
      "[Name 1 | Batch index 0], Loss: 1.7861\n",
      "[Name 2 | Batch index 0], Loss: 1.8690\n",
      "[Name 3 | Batch index 0], Loss: 1.7680\n",
      "[Name 4 | Batch index 0], Loss: 1.7020\n",
      "==================================================\n",
      "EPOCH 58/100 | Mean Loss: 1.8739, Accuracy: 0.5600\n",
      "==================================================\n",
      "[Name 0 | Batch index 0], Loss: 2.2373\n",
      "[Name 1 | Batch index 0], Loss: 1.7745\n",
      "[Name 2 | Batch index 0], Loss: 1.8493\n",
      "[Name 3 | Batch index 0], Loss: 1.7508\n",
      "[Name 4 | Batch index 0], Loss: 1.6858\n",
      "==================================================\n",
      "EPOCH 59/100 | Mean Loss: 1.8595, Accuracy: 0.5600\n",
      "==================================================\n",
      "[Name 0 | Batch index 0], Loss: 2.2305\n",
      "[Name 1 | Batch index 0], Loss: 1.7630\n",
      "[Name 2 | Batch index 0], Loss: 1.8298\n",
      "[Name 3 | Batch index 0], Loss: 1.7338\n",
      "[Name 4 | Batch index 0], Loss: 1.6698\n",
      "==================================================\n",
      "EPOCH 60/100 | Mean Loss: 1.8454, Accuracy: 0.5600\n",
      "==================================================\n",
      "[Name 0 | Batch index 0], Loss: 2.2238\n",
      "[Name 1 | Batch index 0], Loss: 1.7517\n",
      "[Name 2 | Batch index 0], Loss: 1.8104\n",
      "[Name 3 | Batch index 0], Loss: 1.7169\n",
      "[Name 4 | Batch index 0], Loss: 1.6540\n",
      "==================================================\n",
      "EPOCH 61/100 | Mean Loss: 1.8314, Accuracy: 0.6000\n",
      "==================================================\n",
      "[Name 0 | Batch index 0], Loss: 2.2173\n",
      "[Name 1 | Batch index 0], Loss: 1.7406\n",
      "[Name 2 | Batch index 0], Loss: 1.7912\n",
      "[Name 3 | Batch index 0], Loss: 1.7002\n",
      "[Name 4 | Batch index 0], Loss: 1.6385\n",
      "==================================================\n",
      "EPOCH 62/100 | Mean Loss: 1.8176, Accuracy: 0.6000\n",
      "==================================================\n",
      "[Name 0 | Batch index 0], Loss: 2.2110\n",
      "[Name 1 | Batch index 0], Loss: 1.7296\n",
      "[Name 2 | Batch index 0], Loss: 1.7721\n",
      "[Name 3 | Batch index 0], Loss: 1.6837\n",
      "[Name 4 | Batch index 0], Loss: 1.6233\n",
      "==================================================\n",
      "EPOCH 63/100 | Mean Loss: 1.8039, Accuracy: 0.6000\n",
      "==================================================\n",
      "[Name 0 | Batch index 0], Loss: 2.2047\n",
      "[Name 1 | Batch index 0], Loss: 1.7188\n",
      "[Name 2 | Batch index 0], Loss: 1.7532\n",
      "[Name 3 | Batch index 0], Loss: 1.6673\n",
      "[Name 4 | Batch index 0], Loss: 1.6082\n",
      "==================================================\n",
      "EPOCH 64/100 | Mean Loss: 1.7904, Accuracy: 0.6000\n",
      "==================================================\n",
      "[Name 0 | Batch index 0], Loss: 2.1986\n",
      "[Name 1 | Batch index 0], Loss: 1.7081\n",
      "[Name 2 | Batch index 0], Loss: 1.7344\n",
      "[Name 3 | Batch index 0], Loss: 1.6511\n",
      "[Name 4 | Batch index 0], Loss: 1.5934\n",
      "==================================================\n",
      "EPOCH 65/100 | Mean Loss: 1.7771, Accuracy: 0.6000\n",
      "==================================================\n",
      "[Name 0 | Batch index 0], Loss: 2.1926\n",
      "[Name 1 | Batch index 0], Loss: 1.6976\n",
      "[Name 2 | Batch index 0], Loss: 1.7158\n",
      "[Name 3 | Batch index 0], Loss: 1.6350\n",
      "[Name 4 | Batch index 0], Loss: 1.5789\n",
      "==================================================\n",
      "EPOCH 66/100 | Mean Loss: 1.7640, Accuracy: 0.6000\n",
      "==================================================\n",
      "[Name 0 | Batch index 0], Loss: 2.1867\n",
      "[Name 1 | Batch index 0], Loss: 1.6872\n",
      "[Name 2 | Batch index 0], Loss: 1.6974\n",
      "[Name 3 | Batch index 0], Loss: 1.6191\n",
      "[Name 4 | Batch index 0], Loss: 1.5646\n",
      "==================================================\n",
      "EPOCH 67/100 | Mean Loss: 1.7510, Accuracy: 0.6000\n",
      "==================================================\n",
      "[Name 0 | Batch index 0], Loss: 2.1810\n",
      "[Name 1 | Batch index 0], Loss: 1.6770\n",
      "[Name 2 | Batch index 0], Loss: 1.6791\n",
      "[Name 3 | Batch index 0], Loss: 1.6033\n",
      "[Name 4 | Batch index 0], Loss: 1.5505\n",
      "==================================================\n",
      "EPOCH 68/100 | Mean Loss: 1.7382, Accuracy: 0.6000\n",
      "==================================================\n",
      "[Name 0 | Batch index 0], Loss: 2.1754\n",
      "[Name 1 | Batch index 0], Loss: 1.6669\n",
      "[Name 2 | Batch index 0], Loss: 1.6609\n",
      "[Name 3 | Batch index 0], Loss: 1.5877\n",
      "[Name 4 | Batch index 0], Loss: 1.5366\n",
      "==================================================\n",
      "EPOCH 69/100 | Mean Loss: 1.7255, Accuracy: 0.6000\n",
      "==================================================\n",
      "[Name 0 | Batch index 0], Loss: 2.1698\n",
      "[Name 1 | Batch index 0], Loss: 1.6570\n",
      "[Name 2 | Batch index 0], Loss: 1.6429\n",
      "[Name 3 | Batch index 0], Loss: 1.5723\n",
      "[Name 4 | Batch index 0], Loss: 1.5229\n",
      "==================================================\n",
      "EPOCH 70/100 | Mean Loss: 1.7130, Accuracy: 0.6000\n",
      "==================================================\n",
      "[Name 0 | Batch index 0], Loss: 2.1644\n",
      "[Name 1 | Batch index 0], Loss: 1.6472\n",
      "[Name 2 | Batch index 0], Loss: 1.6250\n",
      "[Name 3 | Batch index 0], Loss: 1.5570\n",
      "[Name 4 | Batch index 0], Loss: 1.5095\n",
      "==================================================\n",
      "EPOCH 71/100 | Mean Loss: 1.7006, Accuracy: 0.6000\n",
      "==================================================\n",
      "[Name 0 | Batch index 0], Loss: 2.1591\n",
      "[Name 1 | Batch index 0], Loss: 1.6375\n",
      "[Name 2 | Batch index 0], Loss: 1.6073\n",
      "[Name 3 | Batch index 0], Loss: 1.5419\n",
      "[Name 4 | Batch index 0], Loss: 1.4963\n",
      "==================================================\n",
      "EPOCH 72/100 | Mean Loss: 1.6884, Accuracy: 0.6000\n",
      "==================================================\n",
      "[Name 0 | Batch index 0], Loss: 2.1539\n",
      "[Name 1 | Batch index 0], Loss: 1.6280\n",
      "[Name 2 | Batch index 0], Loss: 1.5898\n",
      "[Name 3 | Batch index 0], Loss: 1.5269\n",
      "[Name 4 | Batch index 0], Loss: 1.4833\n",
      "==================================================\n",
      "EPOCH 73/100 | Mean Loss: 1.6764, Accuracy: 0.6000\n",
      "==================================================\n",
      "[Name 0 | Batch index 0], Loss: 2.1488\n",
      "[Name 1 | Batch index 0], Loss: 1.6186\n",
      "[Name 2 | Batch index 0], Loss: 1.5724\n",
      "[Name 3 | Batch index 0], Loss: 1.5121\n",
      "[Name 4 | Batch index 0], Loss: 1.4705\n",
      "==================================================\n",
      "EPOCH 74/100 | Mean Loss: 1.6645, Accuracy: 0.6000\n",
      "==================================================\n",
      "[Name 0 | Batch index 0], Loss: 2.1438\n",
      "[Name 1 | Batch index 0], Loss: 1.6094\n",
      "[Name 2 | Batch index 0], Loss: 1.5552\n",
      "[Name 3 | Batch index 0], Loss: 1.4974\n",
      "[Name 4 | Batch index 0], Loss: 1.4579\n",
      "==================================================\n",
      "EPOCH 75/100 | Mean Loss: 1.6528, Accuracy: 0.6000\n",
      "==================================================\n",
      "[Name 0 | Batch index 0], Loss: 2.1389\n",
      "[Name 1 | Batch index 0], Loss: 1.6003\n",
      "[Name 2 | Batch index 0], Loss: 1.5381\n",
      "[Name 3 | Batch index 0], Loss: 1.4829\n",
      "[Name 4 | Batch index 0], Loss: 1.4455\n",
      "==================================================\n",
      "EPOCH 76/100 | Mean Loss: 1.6412, Accuracy: 0.6000\n",
      "==================================================\n",
      "[Name 0 | Batch index 0], Loss: 2.1341\n",
      "[Name 1 | Batch index 0], Loss: 1.5913\n",
      "[Name 2 | Batch index 0], Loss: 1.5212\n",
      "[Name 3 | Batch index 0], Loss: 1.4686\n",
      "[Name 4 | Batch index 0], Loss: 1.4334\n",
      "==================================================\n",
      "EPOCH 77/100 | Mean Loss: 1.6297, Accuracy: 0.6000\n",
      "==================================================\n",
      "[Name 0 | Batch index 0], Loss: 2.1294\n",
      "[Name 1 | Batch index 0], Loss: 1.5824\n",
      "[Name 2 | Batch index 0], Loss: 1.5045\n",
      "[Name 3 | Batch index 0], Loss: 1.4544\n",
      "[Name 4 | Batch index 0], Loss: 1.4214\n",
      "==================================================\n",
      "EPOCH 78/100 | Mean Loss: 1.6184, Accuracy: 0.6000\n",
      "==================================================\n",
      "[Name 0 | Batch index 0], Loss: 2.1247\n",
      "[Name 1 | Batch index 0], Loss: 1.5737\n",
      "[Name 2 | Batch index 0], Loss: 1.4879\n",
      "[Name 3 | Batch index 0], Loss: 1.4404\n",
      "[Name 4 | Batch index 0], Loss: 1.4096\n",
      "==================================================\n",
      "EPOCH 79/100 | Mean Loss: 1.6073, Accuracy: 0.6000\n",
      "==================================================\n",
      "[Name 0 | Batch index 0], Loss: 2.1202\n",
      "[Name 1 | Batch index 0], Loss: 1.5651\n",
      "[Name 2 | Batch index 0], Loss: 1.4715\n",
      "[Name 3 | Batch index 0], Loss: 1.4265\n",
      "[Name 4 | Batch index 0], Loss: 1.3980\n",
      "==================================================\n",
      "EPOCH 80/100 | Mean Loss: 1.5963, Accuracy: 0.6000\n",
      "==================================================\n",
      "[Name 0 | Batch index 0], Loss: 2.1157\n",
      "[Name 1 | Batch index 0], Loss: 1.5567\n",
      "[Name 2 | Batch index 0], Loss: 1.4552\n",
      "[Name 3 | Batch index 0], Loss: 1.4128\n",
      "[Name 4 | Batch index 0], Loss: 1.3866\n",
      "==================================================\n",
      "EPOCH 81/100 | Mean Loss: 1.5854, Accuracy: 0.6000\n",
      "==================================================\n",
      "[Name 0 | Batch index 0], Loss: 2.1114\n",
      "[Name 1 | Batch index 0], Loss: 1.5483\n",
      "[Name 2 | Batch index 0], Loss: 1.4391\n",
      "[Name 3 | Batch index 0], Loss: 1.3992\n",
      "[Name 4 | Batch index 0], Loss: 1.3754\n",
      "==================================================\n",
      "EPOCH 82/100 | Mean Loss: 1.5747, Accuracy: 0.6000\n",
      "==================================================\n",
      "[Name 0 | Batch index 0], Loss: 2.1071\n",
      "[Name 1 | Batch index 0], Loss: 1.5401\n",
      "[Name 2 | Batch index 0], Loss: 1.4231\n",
      "[Name 3 | Batch index 0], Loss: 1.3858\n",
      "[Name 4 | Batch index 0], Loss: 1.3644\n",
      "==================================================\n",
      "EPOCH 83/100 | Mean Loss: 1.5641, Accuracy: 0.6000\n",
      "==================================================\n",
      "[Name 0 | Batch index 0], Loss: 2.1028\n",
      "[Name 1 | Batch index 0], Loss: 1.5320\n",
      "[Name 2 | Batch index 0], Loss: 1.4073\n",
      "[Name 3 | Batch index 0], Loss: 1.3726\n",
      "[Name 4 | Batch index 0], Loss: 1.3536\n",
      "==================================================\n",
      "EPOCH 84/100 | Mean Loss: 1.5537, Accuracy: 0.6000\n",
      "==================================================\n",
      "[Name 0 | Batch index 0], Loss: 2.0987\n",
      "[Name 1 | Batch index 0], Loss: 1.5240\n",
      "[Name 2 | Batch index 0], Loss: 1.3917\n",
      "[Name 3 | Batch index 0], Loss: 1.3595\n",
      "[Name 4 | Batch index 0], Loss: 1.3429\n",
      "==================================================\n",
      "EPOCH 85/100 | Mean Loss: 1.5434, Accuracy: 0.6000\n",
      "==================================================\n",
      "[Name 0 | Batch index 0], Loss: 2.0946\n",
      "[Name 1 | Batch index 0], Loss: 1.5161\n",
      "[Name 2 | Batch index 0], Loss: 1.3762\n",
      "[Name 3 | Batch index 0], Loss: 1.3466\n",
      "[Name 4 | Batch index 0], Loss: 1.3324\n",
      "==================================================\n",
      "EPOCH 86/100 | Mean Loss: 1.5332, Accuracy: 0.6000\n",
      "==================================================\n",
      "[Name 0 | Batch index 0], Loss: 2.0906\n",
      "[Name 1 | Batch index 0], Loss: 1.5084\n",
      "[Name 2 | Batch index 0], Loss: 1.3609\n",
      "[Name 3 | Batch index 0], Loss: 1.3338\n",
      "[Name 4 | Batch index 0], Loss: 1.3221\n",
      "==================================================\n",
      "EPOCH 87/100 | Mean Loss: 1.5232, Accuracy: 0.6000\n",
      "==================================================\n",
      "[Name 0 | Batch index 0], Loss: 2.0867\n",
      "[Name 1 | Batch index 0], Loss: 1.5007\n",
      "[Name 2 | Batch index 0], Loss: 1.3458\n",
      "[Name 3 | Batch index 0], Loss: 1.3213\n",
      "[Name 4 | Batch index 0], Loss: 1.3119\n",
      "==================================================\n",
      "EPOCH 88/100 | Mean Loss: 1.5133, Accuracy: 0.6400\n",
      "==================================================\n",
      "[Name 0 | Batch index 0], Loss: 2.0829\n",
      "[Name 1 | Batch index 0], Loss: 1.4932\n",
      "[Name 2 | Batch index 0], Loss: 1.3308\n",
      "[Name 3 | Batch index 0], Loss: 1.3088\n",
      "[Name 4 | Batch index 0], Loss: 1.3020\n",
      "==================================================\n",
      "EPOCH 89/100 | Mean Loss: 1.5035, Accuracy: 0.6400\n",
      "==================================================\n",
      "[Name 0 | Batch index 0], Loss: 2.0791\n",
      "[Name 1 | Batch index 0], Loss: 1.4858\n",
      "[Name 2 | Batch index 0], Loss: 1.3160\n",
      "[Name 3 | Batch index 0], Loss: 1.2965\n",
      "[Name 4 | Batch index 0], Loss: 1.2921\n",
      "==================================================\n",
      "EPOCH 90/100 | Mean Loss: 1.4939, Accuracy: 0.6400\n",
      "==================================================\n",
      "[Name 0 | Batch index 0], Loss: 2.0754\n",
      "[Name 1 | Batch index 0], Loss: 1.4785\n",
      "[Name 2 | Batch index 0], Loss: 1.3013\n",
      "[Name 3 | Batch index 0], Loss: 1.2844\n",
      "[Name 4 | Batch index 0], Loss: 1.2825\n",
      "==================================================\n",
      "EPOCH 91/100 | Mean Loss: 1.4844, Accuracy: 0.6400\n",
      "==================================================\n",
      "[Name 0 | Batch index 0], Loss: 2.0717\n",
      "[Name 1 | Batch index 0], Loss: 1.4713\n",
      "[Name 2 | Batch index 0], Loss: 1.2868\n",
      "[Name 3 | Batch index 0], Loss: 1.2725\n",
      "[Name 4 | Batch index 0], Loss: 1.2730\n",
      "==================================================\n",
      "EPOCH 92/100 | Mean Loss: 1.4750, Accuracy: 0.6400\n",
      "==================================================\n",
      "[Name 0 | Batch index 0], Loss: 2.0682\n",
      "[Name 1 | Batch index 0], Loss: 1.4642\n",
      "[Name 2 | Batch index 0], Loss: 1.2724\n",
      "[Name 3 | Batch index 0], Loss: 1.2607\n",
      "[Name 4 | Batch index 0], Loss: 1.2636\n",
      "==================================================\n",
      "EPOCH 93/100 | Mean Loss: 1.4658, Accuracy: 0.6400\n",
      "==================================================\n",
      "[Name 0 | Batch index 0], Loss: 2.0647\n",
      "[Name 1 | Batch index 0], Loss: 1.4572\n",
      "[Name 2 | Batch index 0], Loss: 1.2582\n",
      "[Name 3 | Batch index 0], Loss: 1.2490\n",
      "[Name 4 | Batch index 0], Loss: 1.2544\n",
      "==================================================\n",
      "EPOCH 94/100 | Mean Loss: 1.4567, Accuracy: 0.6400\n",
      "==================================================\n",
      "[Name 0 | Batch index 0], Loss: 2.0612\n",
      "[Name 1 | Batch index 0], Loss: 1.4503\n",
      "[Name 2 | Batch index 0], Loss: 1.2442\n",
      "[Name 3 | Batch index 0], Loss: 1.2375\n",
      "[Name 4 | Batch index 0], Loss: 1.2454\n",
      "==================================================\n",
      "EPOCH 95/100 | Mean Loss: 1.4477, Accuracy: 0.6400\n",
      "==================================================\n",
      "[Name 0 | Batch index 0], Loss: 2.0578\n",
      "[Name 1 | Batch index 0], Loss: 1.4435\n",
      "[Name 2 | Batch index 0], Loss: 1.2303\n",
      "[Name 3 | Batch index 0], Loss: 1.2262\n",
      "[Name 4 | Batch index 0], Loss: 1.2364\n",
      "==================================================\n",
      "EPOCH 96/100 | Mean Loss: 1.4388, Accuracy: 0.6400\n",
      "==================================================\n",
      "[Name 0 | Batch index 0], Loss: 2.0545\n",
      "[Name 1 | Batch index 0], Loss: 1.4368\n",
      "[Name 2 | Batch index 0], Loss: 1.2166\n",
      "[Name 3 | Batch index 0], Loss: 1.2150\n",
      "[Name 4 | Batch index 0], Loss: 1.2277\n",
      "==================================================\n",
      "EPOCH 97/100 | Mean Loss: 1.4301, Accuracy: 0.6400\n",
      "==================================================\n",
      "[Name 0 | Batch index 0], Loss: 2.0512\n",
      "[Name 1 | Batch index 0], Loss: 1.4302\n",
      "[Name 2 | Batch index 0], Loss: 1.2030\n",
      "[Name 3 | Batch index 0], Loss: 1.2040\n",
      "[Name 4 | Batch index 0], Loss: 1.2190\n",
      "==================================================\n",
      "EPOCH 98/100 | Mean Loss: 1.4215, Accuracy: 0.6400\n",
      "==================================================\n",
      "[Name 0 | Batch index 0], Loss: 2.0480\n",
      "[Name 1 | Batch index 0], Loss: 1.4237\n",
      "[Name 2 | Batch index 0], Loss: 1.1896\n",
      "[Name 3 | Batch index 0], Loss: 1.1932\n",
      "[Name 4 | Batch index 0], Loss: 1.2105\n",
      "==================================================\n",
      "EPOCH 99/100 | Mean Loss: 1.4130, Accuracy: 0.6400\n",
      "==================================================\n",
      "[Name 0 | Batch index 0], Loss: 2.0449\n",
      "[Name 1 | Batch index 0], Loss: 1.4173\n",
      "[Name 2 | Batch index 0], Loss: 1.1763\n",
      "[Name 3 | Batch index 0], Loss: 1.1824\n",
      "[Name 4 | Batch index 0], Loss: 1.2021\n",
      "==================================================\n",
      "EPOCH 100/100 | Mean Loss: 1.4046, Accuracy: 0.6400\n",
      "==================================================\n",
      "Time taken: 3.18 sec\n",
      "\n",
      "--------------------------------------------------\n",
      "   Final Result: Loss: 1.4046, Accuracy: 64.00%\n",
      "--------------------------------------------------\n"
     ]
    }
   ],
   "execution_count": 29
  },
  {
   "cell_type": "code",
   "source": [
    "plot_loss(epochs, losses)"
   ],
   "metadata": {
    "collapsed": false,
    "ExecuteTime": {
     "end_time": "2025-04-20T17:56:58.646606Z",
     "start_time": "2025-04-20T17:56:58.556686Z"
    }
   },
   "outputs": [
    {
     "data": {
      "text/plain": [
       "<Figure size 640x480 with 1 Axes>"
      ],
      "image/png": "[encoded data removed]"
     },
     "metadata": {},
     "output_type": "display_data"
    }
   ],
   "execution_count": 30
  },
  {
   "cell_type": "markdown",
   "metadata": {
    "id": "nupd-Gr9P6vc"
   },
   "source": [
    "# Part D: Training on the Full Data (10 points)"
   ]
  },
  {
   "cell_type": "markdown",
   "metadata": {
    "id": "r02Y9yvhPXy8"
   },
   "source": [
    "To train on the full data, you are going to need to do some pre-processing of the data.\n",
    "\n",
    "First, there are no \"questions\". You need to generate questions for each type of relation. There a number of ways to do this. The simplest is to just assume that a question is the name of a person and a relation, e.g., \"Alexander Hamilton birth date\". Another way would be to create templates for each type of relation. For example the \"birth date\" relation would have the following template: \"When was [name] born?\", filling in the [name]. Because there are a lot of different types of relations, you may want to remove the more obscure relations so you need fewer templates and also have a smaller vocabulary. Templates work well if the questions are expected to be almost identical to the templates. You may want to generate multiple templates per relation. Continuing the previous example, a second template would be: \"What is the birthdate of [name]?\".\n",
    "\n",
    "If you are feeling more ambitious, you could use GPT-J, GPT-NeoX, GPT-3 or ChatGPT to generate templates. It works decently well and you can get some variety of templates.\n",
    "\n",
    "The question should contain information about the person and some words that are representative of the relation even if the exact relation words aren't used (the KVMemNet should figure out that \"birthdate\" and \"born\" are correlated).\n",
    "\n",
    "You only put a subset of all key-value pairs into the KVMemNet. You need a technique for sub-selecting from all the key-value pairs in `DB`. You might just need the ones that are directly associated with the person (Alexander Hamilton has 23). You may need to mix in a few key-value pairs from another person's entries in the database to help ensure against accidental overfitting.\n",
    "\n",
    "The final challenge you will have in the training loop is that there may still be too many unique values in `Y` to encode and create one big tensor. In that case, you can at least use the values that you sent to the KVMemNet, along with as many other randomly selected values as you can fit into the GPU's memory."
   ]
  },
  {
   "metadata": {
    "id": "3I3CTqeEfa1m"
   },
   "cell_type": "markdown",
   "source": "Create as many cells below as you need. Save the output of your training and testing functions, reporting loss during training and accuracy during testing. 5 points for a training loop that reduces loss. 5 points for a training function with a correct accuracy computation."
  },
  {
   "metadata": {
    "ExecuteTime": {
     "end_time": "2025-04-20T17:57:24.145086Z",
     "start_time": "2025-04-20T17:57:24.142430Z"
    }
   },
   "cell_type": "code",
   "source": [
    "from collections import Counter\n",
    "import json\n",
    "from torch.utils.data import Dataset\n",
    "from torch.utils.data import DataLoader\n",
    "import torch.nn.functional as F"
   ],
   "outputs": [],
   "execution_count": 32
  },
  {
   "metadata": {
    "ExecuteTime": {
     "end_time": "2025-04-20T17:57:25.798580Z",
     "start_time": "2025-04-20T17:57:25.793057Z"
    }
   },
   "cell_type": "code",
   "source": [
    "random.seed(42)\n",
    "np.random.seed(42)\n",
    "torch.manual_seed(42)"
   ],
   "outputs": [
    {
     "data": {
      "text/plain": [
       "<torch._C.Generator at 0x10831b3d0>"
      ]
     },
     "execution_count": 33,
     "metadata": {},
     "output_type": "execute_result"
    }
   ],
   "execution_count": 33
  },
  {
   "metadata": {
    "id": "MI3b5x2zfl8g"
   },
   "cell_type": "markdown",
   "source": "## KVMemNet"
  },
  {
   "cell_type": "code",
   "source": [
    "class KVMemNet(nn.Module):\n",
    "    def __init__(self, vocab_size, embed_dim):\n",
    "        super(KVMemNet, self).__init__()\n",
    "        self.vocab_size = vocab_size\n",
    "        self.embed_dim = embed_dim\n",
    "\n",
    "        # Define linear projections\n",
    "        self.A = nn.Linear(vocab_size, embed_dim, bias=False)  # For questions and keys\n",
    "        self.B = nn.Linear(vocab_size, embed_dim, bias=False)  # For values\n",
    "\n",
    "    def forward(self, question, keys, values):\n",
    "        \"\"\"\n",
    "        question: (batch_size, vocab_size)\n",
    "        keys:     (batch_size, num_keys, vocab_size)\n",
    "        values:   (batch_size, num_values, vocab_size)\n",
    "        \"\"\"\n",
    "        # Project inputs into embedding space\n",
    "        q = self.A(question)                  # (batch_size, embed_dim)\n",
    "        k = self.A(keys)                      # (batch_size, num_keys, embed_dim)\n",
    "        v = self.A(values)                    # (batch_size, num_values, embed_dim)\n",
    "\n",
    "        # Attention scores: dot product between q and k\n",
    "        attention_scores = torch.bmm(k, q.unsqueeze(2)).squeeze(2)\n",
    "        attention_probs = F.softmax(attention_scores, dim=1)            # (batch_size, num_keys)\n",
    "\n",
    "        # Weighted sum over values\n",
    "        output = torch.bmm(attention_probs.unsqueeze(1), v).squeeze(1)  # (batch_size, embed_dim)\n",
    "\n",
    "        return output\n"
   ],
   "metadata": {
    "id": "OEKJ1KJxTBUJ",
    "ExecuteTime": {
     "end_time": "2025-04-20T17:57:28.845010Z",
     "start_time": "2025-04-20T17:57:28.841083Z"
    }
   },
   "outputs": [],
   "execution_count": 34
  },
  {
   "metadata": {},
   "cell_type": "markdown",
   "source": "## Prepare data\n"
  },
  {
   "metadata": {},
   "cell_type": "markdown",
   "source": [
    "### Reduce Vocabulary\n",
    "\n",
    "Filter the DB to include only a subset of people -- Limits the number of samples to reduce computational load."
   ]
  },
  {
   "metadata": {
    "ExecuteTime": {
     "end_time": "2025-04-20T17:57:33.164529Z",
     "start_time": "2025-04-20T17:57:33.161700Z"
    }
   },
   "cell_type": "code",
   "source": [
    "def filter_db_by_person(DB, max_train=500, max_test=100):\n",
    "    all_people = list(DB.keys())\n",
    "    train_people = all_people[:max_train]\n",
    "    test_people = all_people[max_train:max_train+max_test]\n",
    "\n",
    "    train_db = {p: DB[p] for p in train_people}\n",
    "    test_db = {p: DB[p] for p in test_people}\n",
    "\n",
    "    return train_db, test_db\n"
   ],
   "outputs": [],
   "execution_count": 35
  },
  {
   "metadata": {
    "ExecuteTime": {
     "end_time": "2025-04-20T17:58:14.355015Z",
     "start_time": "2025-04-20T17:58:14.351614Z"
    }
   },
   "cell_type": "code",
   "source": "train_db, test_db = filter_db_by_person(DB, max_train=500, max_test=100)",
   "outputs": [],
   "execution_count": 36
  },
  {
   "metadata": {
    "ExecuteTime": {
     "end_time": "2025-04-20T06:43:48.661202Z",
     "start_time": "2025-04-20T06:43:48.460973Z"
    }
   },
   "cell_type": "code",
   "source": [
    "VOCAB2 = make_vocab(train_db)\n",
    "VOCAB_RED = reduce_vocab(VOCAB2, min_word_occurrence=2)\n",
    "save_data(path, VOCAB_RED, name=\"vocab_reduced\")"
   ],
   "outputs": [
    {
     "name": "stderr",
     "output_type": "stream",
     "text": [
      "100%|██████████| 37752/37752 [00:00<00:00, 2380637.84it/s]\n"
     ]
    }
   ],
   "execution_count": 115
  },
  {
   "metadata": {
    "ExecuteTime": {
     "end_time": "2025-04-20T17:58:44.903803Z",
     "start_time": "2025-04-20T17:58:44.900061Z"
    }
   },
   "cell_type": "code",
   "source": [
    "# VOCAB_RED = load_data(path, name=\"vocab_reduced\")\n",
    "\n",
    "print(\"VOCAB size:\", VOCAB.num_words())\n",
    "print(\"VOCAB_RED size:\", VOCAB_RED.num_words())"
   ],
   "outputs": [
    {
     "name": "stdout",
     "output_type": "stream",
     "text": [
      "VOCAB size: 96093\n",
      "VOCAB_RED size: 2802\n"
     ]
    }
   ],
   "execution_count": 37
  },
  {
   "metadata": {
    "collapsed": false
   },
   "cell_type": "markdown",
   "source": [
    "### Question generator\n",
    "\n",
    "1. Extract top relations: find most common relations\n",
    "2. Define templates for each relation: containing the person's name and words representative of the relation, even if they don’t exactly match.\n",
    "3. Create function to generate natural language questions: given a person and a relation, returns several questions."
   ]
  },
  {
   "metadata": {
    "collapsed": false,
    "ExecuteTime": {
     "end_time": "2025-04-20T17:58:52.278556Z",
     "start_time": "2025-04-20T17:58:52.275460Z"
    }
   },
   "cell_type": "code",
   "source": [
    "def get_top_relations(DB, top_n=20):\n",
    "    ignore_keys={'name', 'article_title'}\n",
    "    relation_counter = Counter()\n",
    "\n",
    "    for entity in DB.values():\n",
    "        for key in entity:\n",
    "            if key not in ignore_keys:\n",
    "                relation_counter[key] += 1\n",
    "\n",
    "    return [relation for relation, _ in relation_counter.most_common(top_n)]"
   ],
   "outputs": [],
   "execution_count": 38
  },
  {
   "metadata": {
    "collapsed": false,
    "ExecuteTime": {
     "end_time": "2025-04-20T17:58:52.480304Z",
     "start_time": "2025-04-20T17:58:52.478161Z"
    }
   },
   "cell_type": "code",
   "source": [
    "def load_template(filepath=\"question_template.json\"):\n",
    "    with open(filepath, 'r') as f:\n",
    "        templates = json.load(f)\n",
    "    return templates\n"
   ],
   "outputs": [],
   "execution_count": 39
  },
  {
   "metadata": {
    "ExecuteTime": {
     "end_time": "2025-04-20T19:20:00.508667Z",
     "start_time": "2025-04-20T19:20:00.505221Z"
    }
   },
   "cell_type": "code",
   "source": [
    "def generate_questions(person_name, person_data, templates, top_relations, num_questions=3):\n",
    "    \"\"\"\n",
    "    Given a person's name, generate up to `num_questions` per relation using templates.\n",
    "    \"\"\"\n",
    "    Qs = []\n",
    "\n",
    "    for rel in top_relations:\n",
    "        # get all templates for this relation\n",
    "        if rel not in person_data:\n",
    "            continue\n",
    "\n",
    "        rel_temps = templates.get(rel,  [f\"{person_name} {rel.replace('_', ' ')}\"])\n",
    "\n",
    "        # Shuffle and select num_questions templates\n",
    "        n = min(num_questions, len(rel_temps))\n",
    "        chosen = random.sample(rel_temps, n)\n",
    "\n",
    "        # generate questions\n",
    "        val = person_data[rel]\n",
    "        for t in chosen:\n",
    "            question = t.replace(\"[NAME]\", person_name).replace(\"[RELATION]\", rel.replace(\"_\", \" \"))\n",
    "            key = f\"{person_name} {rel}\"\n",
    "            Qs.append((question, key, val))\n",
    "\n",
    "    return Qs"
   ],
   "outputs": [],
   "execution_count": 211
  },
  {
   "metadata": {
    "ExecuteTime": {
     "end_time": "2025-04-20T19:20:00.858412Z",
     "start_time": "2025-04-20T19:20:00.697303Z"
    }
   },
   "cell_type": "code",
   "source": [
    "# Check top relations\n",
    "DB = load_data(path, name=\"data\")\n",
    "print(\"Top relations:\", get_top_relations(DB, top_n=5))"
   ],
   "outputs": [
    {
     "name": "stdout",
     "output_type": "stream",
     "text": [
      "Top relations: ['office', 'term_start', 'birth_date', 'birth_place', 'term_end']\n"
     ]
    }
   ],
   "execution_count": 212
  },
  {
   "metadata": {
    "collapsed": false,
    "ExecuteTime": {
     "end_time": "2025-04-20T19:20:01.298117Z",
     "start_time": "2025-04-20T19:20:01.294736Z"
    }
   },
   "cell_type": "code",
   "source": [
    "#Check the question template\n",
    "print(\"Question templates for 'birth_date':\")\n",
    "load_template().get(\"birth_date\", [])"
   ],
   "outputs": [
    {
     "name": "stdout",
     "output_type": "stream",
     "text": [
      "Question templates for 'birth_date':\n"
     ]
    },
    {
     "data": {
      "text/plain": [
       "['When was [NAME] born?',\n",
       " 'What is the birth date of [NAME]?',\n",
       " \"What is [NAME]'s date of birth?\",\n",
       " \"Could you tell me [NAME]'s birthday?\"]"
      ]
     },
     "execution_count": 213,
     "metadata": {},
     "output_type": "execute_result"
    }
   ],
   "execution_count": 213
  },
  {
   "metadata": {
    "ExecuteTime": {
     "end_time": "2025-04-20T19:20:06.433831Z",
     "start_time": "2025-04-20T19:20:06.430031Z"
    }
   },
   "cell_type": "code",
   "source": [
    "# Check the question generation\n",
    "person = \"alexander hamilton\"\n",
    "relation = [\"birth_date\"]\n",
    "\n",
    "print(\"\\nGenerated questions for 'birth_date':\")\n",
    "generate_questions(person, DB[person], load_template(), relation, num_questions=3)"
   ],
   "outputs": [
    {
     "name": "stdout",
     "output_type": "stream",
     "text": [
      "\n",
      "Generated questions for 'birth_date':\n"
     ]
    },
    {
     "data": {
      "text/plain": [
       "[('What is the birth date of alexander hamilton?',\n",
       "  'alexander hamilton birth_date',\n",
       "  '11 january 1755'),\n",
       " ('When was alexander hamilton born?',\n",
       "  'alexander hamilton birth_date',\n",
       "  '11 january 1755'),\n",
       " (\"What is alexander hamilton's date of birth?\",\n",
       "  'alexander hamilton birth_date',\n",
       "  '11 january 1755')]"
      ]
     },
     "execution_count": 215,
     "metadata": {},
     "output_type": "execute_result"
    }
   ],
   "execution_count": 215
  },
  {
   "metadata": {
    "collapsed": false
   },
   "cell_type": "markdown",
   "source": [
    "### Build Samples as Key-Value Pairs\n",
    "\n",
    "Prepare: Questions (x), Keys (k), and Values (v) tensors.\n",
    "\n",
    "For each person, select:\n",
    "- All their key-value pairs (primary facts)\n",
    "- Some distractors (random key-value pairs from other people or other relations of the same person)\n",
    "\n",
    "\n",
    "Steps:\n",
    "1. Build key-value pairs for each person, filtering by top relations.\n",
    "2. For each person, generate questions using templates.\n",
    "3. For each question, create a positive sample (true key-value pair).\n",
    "4. Generate negative samples (distractors).\n",
    "5. Encode all key-value options using a multihot encoding.\n"
   ]
  },
  {
   "metadata": {
    "ExecuteTime": {
     "end_time": "2025-04-20T19:20:08.088757Z",
     "start_time": "2025-04-20T19:20:08.086149Z"
    }
   },
   "cell_type": "code",
   "source": [
    "def build_true_person_kv(DB, top_relations):\n",
    "    \"\"\"\n",
    "    Build a dict {person:[(relation, value)]}, filtering by top relations.\n",
    "    \"\"\"\n",
    "    person_to_kv = {}\n",
    "    for person, facts in DB.items():\n",
    "        kv = [(rel, val) for rel, val in facts.items() if rel in top_relations]\n",
    "        if kv:\n",
    "            person_to_kv[person] = kv\n",
    "    return person_to_kv"
   ],
   "outputs": [],
   "execution_count": 216
  },
  {
   "metadata": {
    "ExecuteTime": {
     "end_time": "2025-04-20T19:20:08.249585Z",
     "start_time": "2025-04-20T19:20:08.246623Z"
    }
   },
   "cell_type": "code",
   "source": [
    "def build_distractors_diff_person(person_kv_map, exclude_person, num_distractors):\n",
    "    \"\"\"\n",
    "    Returns a list of (key, value) pairs from random other persons.\n",
    "    \"\"\"\n",
    "    all_people = list(person_kv_map.keys())\n",
    "    distractors = []\n",
    "\n",
    "    while len(distractors) < num_distractors:\n",
    "        dist_person = random.choice(all_people)\n",
    "        if dist_person == exclude_person:\n",
    "            continue\n",
    "        dist_kvs = person_kv_map.get(dist_person, [])\n",
    "        if not dist_kvs:\n",
    "            continue\n",
    "        rel, val = random.choice(dist_kvs)\n",
    "        key = f\"{dist_person} {rel.replace('_', ' ')}\"\n",
    "        distractors.append((key, val))\n",
    "\n",
    "    return distractors\n"
   ],
   "outputs": [],
   "execution_count": 217
  },
  {
   "metadata": {
    "ExecuteTime": {
     "end_time": "2025-04-20T19:20:09.335833Z",
     "start_time": "2025-04-20T19:20:09.333304Z"
    }
   },
   "cell_type": "code",
   "source": [
    "def build_distractors_same_person(person, true_key, person_kv_map, max):\n",
    "    \"\"\"\n",
    "    Get distractor (key, value) pairs from other relations of the same person,\n",
    "    excluding the correct key. Boosts key with 'relation'.\n",
    "    \"\"\"\n",
    "    distractors = []\n",
    "    for rel, val in person_kv_map.get(person, []):\n",
    "        alt_key = f\"{person} {rel.replace('_', ' ')}\"\n",
    "        if alt_key != true_key and len(distractors) < max:\n",
    "            distractors.append((alt_key, val))\n",
    "    return distractors\n"
   ],
   "outputs": [],
   "execution_count": 218
  },
  {
   "metadata": {
    "ExecuteTime": {
     "end_time": "2025-04-20T19:20:09.820809Z",
     "start_time": "2025-04-20T19:20:09.818531Z"
    }
   },
   "cell_type": "code",
   "source": [
    "def safe_multihot(text, vocab, preserve_counts=False):\n",
    "    \"\"\"\n",
    "    Replace OOV tokens with UNK before calling multihot.\n",
    "    \"\"\"\n",
    "    cleaned = unkit(text, vocab)  # replaces unknown tokens with 'unk'\n",
    "    return multihot(cleaned, vocab, preserve_counts=preserve_counts)"
   ],
   "outputs": [],
   "execution_count": 219
  },
  {
   "metadata": {
    "ExecuteTime": {
     "end_time": "2025-04-20T19:20:13.421606Z",
     "start_time": "2025-04-20T19:20:13.416557Z"
    }
   },
   "cell_type": "code",
   "source": [
    "def build_samples(DB, top_relations, templates, vocab, num_questions=2, num_distractors=3):\n",
    "    \"\"\"\n",
    "    Generate all samples as a list of tuples:\n",
    "    (question_vec, key_matrix, value_matrix, target_idx)\n",
    "    \"\"\"\n",
    "    person_kv_map = build_true_person_kv(DB, top_relations)\n",
    "    samples = []\n",
    "\n",
    "    for person in person_kv_map:\n",
    "        person_data = DB[person]\n",
    "\n",
    "        # Generate (question, key, value) triples\n",
    "        qa_samples = generate_questions(person, person_data, templates, top_relations, num_questions)\n",
    "\n",
    "        for q, key, true_val in qa_samples:\n",
    "            # 1. Positive smaple\n",
    "            k_vec = safe_multihot(key, vocab)\n",
    "            v_vec = safe_multihot(true_val, vocab)\n",
    "\n",
    "            # 2. Negative samples: different people and same person\n",
    "            max_same = num_distractors // 2\n",
    "            max_diff = num_distractors - max_same\n",
    "\n",
    "            # Get distractors from other people\n",
    "            distractor_diff = build_distractors_diff_person(person_kv_map, exclude_person=person, num_distractors=max_diff)\n",
    "\n",
    "            # Add distractors from the same person\n",
    "            distractors_same = build_distractors_same_person(person, key, person_kv_map, max_same)\n",
    "\n",
    "\n",
    "            dist_kvs = distractor_diff + distractors_same\n",
    "\n",
    "            # 3. Encode all key-value options\n",
    "            all_keys = [k_vec] + [safe_multihot(k, vocab) for k, _ in dist_kvs]\n",
    "            all_vals = [v_vec] + [safe_multihot(v, vocab) for _, v in dist_kvs]\n",
    "            q_vec = safe_multihot(q, vocab)\n",
    "\n",
    "            samples.append((q_vec, np.stack(all_keys), np.stack(all_vals), 0))  # target = 0\n",
    "\n",
    "    return samples\n"
   ],
   "outputs": [],
   "execution_count": 220
  },
  {
   "metadata": {},
   "cell_type": "markdown",
   "source": "### Dataset & DataLoader"
  },
  {
   "metadata": {
    "ExecuteTime": {
     "end_time": "2025-04-20T19:20:16.688092Z",
     "start_time": "2025-04-20T19:20:16.684106Z"
    }
   },
   "cell_type": "code",
   "source": [
    "def to_tensor(x, dtype=torch.float32):\n",
    "    \"\"\"Safely convert a numpy array or tensor to a tensor, avoiding warnings.\"\"\"\n",
    "    return x.clone().detach() if isinstance(x, torch.Tensor) else torch.tensor(x, dtype=dtype)\n",
    "\n",
    "def pad_to_max(seq_list, max_len, dtype=torch.float32):\n",
    "    \"\"\"Pads a list of tensors to the same length along dim=0.\"\"\"\n",
    "    return torch.stack([\n",
    "        F.pad(to_tensor(seq, dtype), (0, 0, 0, max_len - len(seq)))\n",
    "        for seq in seq_list\n",
    "    ])\n",
    "\n",
    "def custom_collate_fn(batch):\n",
    "    \"\"\"\n",
    "    Collate function that pads key and value matrices dynamically.\n",
    "    \"\"\"\n",
    "    q_batch, k_batch, v_batch, t_batch = zip(*batch)\n",
    "\n",
    "    # Questions and targets\n",
    "    q_tensor = torch.stack([to_tensor(q) for q in q_batch])     # (B, vocab_size)\n",
    "    t_tensor = torch.tensor(t_batch, dtype=torch.long)          # (B,)\n",
    "\n",
    "    # Determine max number of keys/values in this batch\n",
    "    max_k = max(len(k) for k in k_batch)\n",
    "\n",
    "    # Pad key/value sets per sample to max_k\n",
    "    max_k = max(len(k) for k in k_batch)\n",
    "    k_tensor = pad_to_max(k_batch, max_k)                       # (B, max_k, vocab_size)\n",
    "    v_tensor = pad_to_max(v_batch, max_k)                       # (B, max_k, vocab_size)\n",
    "\n",
    "\n",
    "    return q_tensor, k_tensor, v_tensor, t_tensor\n"
   ],
   "outputs": [],
   "execution_count": 221
  },
  {
   "metadata": {
    "ExecuteTime": {
     "end_time": "2025-04-20T19:20:17.112141Z",
     "start_time": "2025-04-20T19:20:17.109367Z"
    }
   },
   "cell_type": "code",
   "source": [
    "class KVMemDataset(Dataset):\n",
    "    def __init__(self, samples):\n",
    "        \"\"\"\n",
    "        samples: List of (question_vec, key_matrix, value_matrix, target_idx)\n",
    "        \"\"\"\n",
    "        self.samples = samples\n",
    "\n",
    "    def __len__(self):\n",
    "        return len(self.samples)\n",
    "\n",
    "    def __getitem__(self, idx):\n",
    "        q, k, v, t = self.samples[idx]\n",
    "        return (\n",
    "            torch.tensor(q, dtype=torch.float32),              # (vocab_size,)\n",
    "            torch.tensor(k, dtype=torch.float32),              # (num_keys, vocab_size)\n",
    "            torch.tensor(v, dtype=torch.float32),              # (num_values, vocab_size)\n",
    "            torch.tensor(t, dtype=torch.long)                  # scalar index\n",
    "        )"
   ],
   "outputs": [],
   "execution_count": 222
  },
  {
   "metadata": {
    "ExecuteTime": {
     "end_time": "2025-04-20T19:20:17.524772Z",
     "start_time": "2025-04-20T19:20:17.521620Z"
    }
   },
   "cell_type": "code",
   "source": [
    "def build_dataloaders(DB, top_relations, templates, vocab, batch_size=32, num_distractors=3, num_questions=2):\n",
    "\n",
    "    samples = build_samples(DB, top_relations, templates, vocab, num_questions, num_distractors)\n",
    "\n",
    "    # Create dataset and dataloader\n",
    "    dataset = KVMemDataset(samples)\n",
    "    dataloader = DataLoader(dataset, batch_size=batch_size, shuffle=True, collate_fn=custom_collate_fn)\n",
    "    return dataloader\n"
   ],
   "outputs": [],
   "execution_count": 223
  },
  {
   "metadata": {},
   "cell_type": "markdown",
   "source": "## Create datasets"
  },
  {
   "metadata": {
    "collapsed": false
   },
   "cell_type": "markdown",
   "source": [
    "**Create a training dataset and a non-overlapping testing dataset**\n",
    "\n",
    "If CPU memory becomes a problem you might want to consider a `DataLoader` so that data can be stored on file and pulled up when needed."
   ]
  },
  {
   "metadata": {
    "ExecuteTime": {
     "end_time": "2025-04-20T19:20:19.890814Z",
     "start_time": "2025-04-20T19:20:19.888368Z"
    }
   },
   "cell_type": "code",
   "source": "# VOCAB_EXP = load_data(path, name=\"vocab_expanded\")",
   "outputs": [],
   "execution_count": 224
  },
  {
   "metadata": {
    "ExecuteTime": {
     "end_time": "2025-04-20T19:20:20.045043Z",
     "start_time": "2025-04-20T19:20:20.042792Z"
    }
   },
   "cell_type": "code",
   "source": [
    "# DATA PARAMETERS\n",
    "n_relations = 5\n",
    "n_questions = 4\n",
    "n_distractors = 15\n",
    "\n",
    "TRAIN_SAMPLES = 500\n",
    "TEST_SAMPLES = 100\n",
    "BATCH_SIZE = 32"
   ],
   "outputs": [],
   "execution_count": 225
  },
  {
   "metadata": {
    "ExecuteTime": {
     "end_time": "2025-04-20T19:20:26.194992Z",
     "start_time": "2025-04-20T19:20:20.884251Z"
    }
   },
   "cell_type": "code",
   "source": [
    "## NOTE: commented code already run before\n",
    "\n",
    "# Prepare\n",
    "# train_db, test_db = filter_db_by_person(DB, max_train=TRAIN_SAMPLES, max_test=TEST_SAMPLES)\n",
    "VOCAB_RED = load_data(path, name=\"vocab_reduced\")\n",
    "top_relations = get_top_relations(train_db, top_n=n_relations)\n",
    "q_template = load_template(\"question_template.json\")\n",
    "\n",
    "# Build datasets with distractors\n",
    "train_loader = build_dataloaders(train_db, top_relations, q_template, VOCAB_RED,\n",
    "                                 batch_size=BATCH_SIZE,\n",
    "                                 num_distractors=n_distractors,\n",
    "                                 num_questions=n_questions)\n",
    "\n",
    "test_loader = build_dataloaders(test_db, top_relations, q_template, VOCAB_RED,\n",
    "                                batch_size=BATCH_SIZE,\n",
    "                                num_distractors=n_distractors,\n",
    "                                num_questions=n_questions)"
   ],
   "outputs": [],
   "execution_count": 226
  },
  {
   "metadata": {
    "ExecuteTime": {
     "end_time": "2025-04-20T19:20:26.202327Z",
     "start_time": "2025-04-20T19:20:26.200245Z"
    }
   },
   "cell_type": "code",
   "source": [
    "print(\"Train dataset size:\", len(train_loader.dataset))\n",
    "print(\"Test dataset size:\", len(test_loader.dataset))"
   ],
   "outputs": [
    {
     "name": "stdout",
     "output_type": "stream",
     "text": [
      "Train dataset size: 8748\n",
      "Test dataset size: 1732\n"
     ]
    }
   ],
   "execution_count": 227
  },
  {
   "metadata": {
    "ExecuteTime": {
     "end_time": "2025-04-20T19:20:28.388285Z",
     "start_time": "2025-04-20T19:20:28.372677Z"
    }
   },
   "cell_type": "code",
   "source": [
    "# Verify dimensions\n",
    "batch = next(iter(train_loader))\n",
    "q, k, v, t = batch\n",
    "\n",
    "print(\"Q:\", q.shape)  # (batch_size, vocab_size)\n",
    "print(\"K:\", k.shape)  # (batch_size, num_keys, vocab_size)\n",
    "print(\"V:\", v.shape)  # (batch_size, num_values, vocab_size)\n",
    "print(\"T:\", t.shape)  # (batch_size,)"
   ],
   "outputs": [
    {
     "name": "stdout",
     "output_type": "stream",
     "text": [
      "Q: torch.Size([32, 2802])\n",
      "K: torch.Size([32, 14, 2802])\n",
      "V: torch.Size([32, 14, 2802])\n",
      "T: torch.Size([32])\n"
     ]
    }
   ],
   "execution_count": 228
  },
  {
   "metadata": {},
   "cell_type": "markdown",
   "source": "## Training"
  },
  {
   "metadata": {
    "id": "9Ug_8X-2fwYD"
   },
   "cell_type": "markdown",
   "source": [
    "**Write and run a training loop, showing a loss plot**\n",
    "\n",
    "You may find it handy to also test your network on the test data periodically as it trains."
   ]
  },
  {
   "metadata": {
    "ExecuteTime": {
     "end_time": "2025-04-20T19:20:29.407267Z",
     "start_time": "2025-04-20T19:20:29.400616Z"
    }
   },
   "cell_type": "code",
   "source": [
    "import time\n",
    "def trainModel(model, train_loader, test_loader=None, num_epochs=5, criterion=None, optimizer=None, save_path=\"model.pt\"):\n",
    "    model.train()\n",
    "    start_time = time.time()\n",
    "\n",
    "    train_losses = []\n",
    "    test_losses  = []\n",
    "    test_accs    = []\n",
    "\n",
    "    for epoch in range(num_epochs):\n",
    "        model.train()\n",
    "        total_loss = 0.0\n",
    "\n",
    "        for q, k, v, tgt in train_loader:\n",
    "            q, k, v, tgt = q.to(device), k.to(device), v.to(device), tgt.to(device)\n",
    "\n",
    "            o = model(q, k, v)                    # (B, E)\n",
    "            v_emb = model.B(v)                    # (B, M, E)\n",
    "\n",
    "            scores = torch.bmm(o.unsqueeze(1), v_emb.transpose(1,2)).squeeze(1)\n",
    "            loss = criterion(scores, tgt)\n",
    "\n",
    "            optimizer.zero_grad()\n",
    "            loss.backward()\n",
    "            optimizer.step()\n",
    "\n",
    "            total_loss += loss.item()\n",
    "\n",
    "        # Monitor progress\n",
    "        avg_train_loss = total_loss / len(train_loader)\n",
    "        train_losses.append(avg_train_loss)\n",
    "        print(f\"{'='*50}\")\n",
    "        print(f\"Epoch {epoch+1:>2}/{num_epochs} | Train Loss: {avg_train_loss:.4f}\")\n",
    "\n",
    "        # Evaluate on test data\n",
    "        if test_loader is not None:\n",
    "            test_loss, test_acc = evaluateModel(model, test_loader, criterion, device)\n",
    "            test_losses.append(test_loss)\n",
    "            test_accs.append(test_acc)\n",
    "            print(f\"              Eval Loss: {test_loss:.4f},  Acc: {test_acc:.4%}\")\n",
    "\n",
    "        # Save checkpoint\n",
    "        torch.save(model.state_dict(), save_path)\n",
    "\n",
    "    end_time = time.time()\n",
    "\n",
    "    # Final Test Accuracy\n",
    "    if test_loader:\n",
    "        final_loss, final_acc = evaluateModel(model, test_loader, criterion, device)\n",
    "        print(f\"{'='*50}\")\n",
    "        print(\"\\n\\n Final Evaluation:\")\n",
    "        print(f\"{'-'*50}\")\n",
    "        print(f\"Final Test Loss:     {final_loss:.4f}\")\n",
    "        print(f\"Final Test Accuracy: {final_acc:.2%}\")\n",
    "        print(f\"{'-'*50}\\n\")\n",
    "\n",
    "    print(f\"Time taken: {end_time-start_time:.2f} sec\")\n",
    "    return train_losses, test_losses, test_accs"
   ],
   "outputs": [],
   "execution_count": 229
  },
  {
   "metadata": {
    "ExecuteTime": {
     "end_time": "2025-04-21T03:19:51.268032Z",
     "start_time": "2025-04-21T03:19:51.264088Z"
    }
   },
   "cell_type": "code",
   "source": [
    "def plot_learning_curve(train_losses, test_losses=None, test_accs=None):\n",
    "    epochs = range(1, len(train_losses) + 1)\n",
    "\n",
    "    # Plot losses\n",
    "    plt.plot(epochs, train_losses,  label='Train Loss')\n",
    "    if test_losses:\n",
    "        plt.plot(epochs, test_losses,  label='Test Loss')\n",
    "    plt.xlabel('Epoch')\n",
    "    plt.ylabel('Loss')\n",
    "    plt.title('FULL DATASET\\nLearning Curve — Loss')\n",
    "    plt.legend()\n",
    "    plt.grid(True)\n",
    "    plt.show()\n",
    "\n",
    "    # Plot test accuracy\n",
    "    if test_accs:\n",
    "        #convert to percentage\n",
    "        test_accs = [acc * 100 for acc in test_accs]\n",
    "        plt.plot(epochs, test_accs,  label='Test Accuracy', color='orange')\n",
    "        plt.xlabel('Epoch')\n",
    "        plt.ylabel('Accuracy (%)')\n",
    "        plt.title('FULL DATASET\\nTest Accuracy')\n",
    "        plt.legend()\n",
    "        plt.grid(True)\n",
    "        plt.show()"
   ],
   "outputs": [],
   "execution_count": 479
  },
  {
   "metadata": {},
   "cell_type": "markdown",
   "source": "## Evaluation"
  },
  {
   "metadata": {
    "collapsed": false
   },
   "cell_type": "markdown",
   "source": [
    "**Write the code for testing your model on the test data**\n",
    "\n",
    "Your training loop can call the testing loop. But make sure that you do one last test on the model after training completes."
   ]
  },
  {
   "metadata": {
    "ExecuteTime": {
     "end_time": "2025-04-20T19:20:30.049836Z",
     "start_time": "2025-04-20T19:20:30.046063Z"
    }
   },
   "cell_type": "code",
   "source": [
    "# USE WITH DATALOADER\n",
    "\n",
    "def evaluateModel(model, test_loader, criterion, device):\n",
    "    \"\"\"\n",
    "    Evaluate the model on the test_loader.\n",
    "\n",
    "    Args:\n",
    "        model     : KVMemNet instance\n",
    "        test_loader: DataLoader for the test set (q, k, v, tgt)\n",
    "        criterion : loss function (e.g. nn.CrossEntropyLoss())\n",
    "        device    : torch.device ('cuda' or 'cpu')\n",
    "\n",
    "    Returns:\n",
    "        avg_loss  : float, average test loss\n",
    "        accuracy  : float, fraction of correct predictions\n",
    "    \"\"\"\n",
    "    model.eval()\n",
    "    total_loss = 0.0\n",
    "    correct    = 0\n",
    "    total      = 0\n",
    "\n",
    "    with torch.no_grad():\n",
    "        for q_batch, k_batch, v_batch, tgt in test_loader:\n",
    "            # move to device\n",
    "            q = q_batch.to(device)       # (B, V)\n",
    "            k = k_batch.to(device)       # (B, K, V)\n",
    "            v = v_batch.to(device)       # (B, M, V)\n",
    "            t = tgt.to(device)           # (B,)\n",
    "\n",
    "            # forward through A\n",
    "            o = model(q, k, v)           # (B, E)\n",
    "\n",
    "            # embed values via B\n",
    "            v_emb = model.B(v)           # (B, M, E)\n",
    "\n",
    "            # compute scores and loss\n",
    "            # scores[b,i] = o[b] · v_emb[b,i]\n",
    "            scores = torch.bmm(o.unsqueeze(1), v_emb.transpose(1,2)).squeeze(1)  # (B, M)\n",
    "            loss   = criterion(scores, t)\n",
    "\n",
    "            # accumulate\n",
    "            total_loss += loss.item() * q.size(0)\n",
    "            preds = scores.argmax(dim=1)\n",
    "            correct += (preds == t).sum().item()\n",
    "            total   += q.size(0)\n",
    "\n",
    "    avg_loss = total_loss / total\n",
    "    accuracy = correct / total\n",
    "\n",
    "    model.train()  # back to train mode\n",
    "    return avg_loss, accuracy\n"
   ],
   "outputs": [],
   "execution_count": 231
  },
  {
   "metadata": {},
   "cell_type": "markdown",
   "source": "**Run the training loop**"
  },
  {
   "metadata": {
    "ExecuteTime": {
     "end_time": "2025-04-20T19:20:30.818644Z",
     "start_time": "2025-04-20T19:20:30.816249Z"
    }
   },
   "cell_type": "code",
   "source": "print(\"VOCAB reduced size:\", VOCAB_RED.num_words())",
   "outputs": [
    {
     "name": "stdout",
     "output_type": "stream",
     "text": [
      "VOCAB reduced size: 2802\n"
     ]
    }
   ],
   "execution_count": 232
  },
  {
   "metadata": {
    "ExecuteTime": {
     "end_time": "2025-04-20T19:33:09.863207Z",
     "start_time": "2025-04-20T19:33:09.861227Z"
    }
   },
   "cell_type": "code",
   "source": [
    "# FULL DATA HYPERPARAMETERS\n",
    "VOCAB_SIZE = VOCAB_RED.num_words()\n",
    "EMBED_SIZE = 200\n",
    "# BATCH_SIZE = 32\n",
    "NUM_EPOCHS = 20\n",
    "LEARNING_RATE = 5e-4"
   ],
   "outputs": [],
   "execution_count": 250
  },
  {
   "metadata": {
    "ExecuteTime": {
     "end_time": "2025-04-20T19:33:10.254192Z",
     "start_time": "2025-04-20T19:33:10.245543Z"
    }
   },
   "cell_type": "code",
   "source": [
    "model = KVMemNet(VOCAB_SIZE, EMBED_SIZE).to(device)\n",
    "CRITERION = nn.CrossEntropyLoss()\n",
    "OPTIMIZER = torch.optim.AdamW(model.parameters(),lr=LEARNING_RATE)"
   ],
   "outputs": [],
   "execution_count": 251
  },
  {
   "metadata": {
    "ExecuteTime": {
     "end_time": "2025-04-20T19:35:08.144192Z",
     "start_time": "2025-04-20T19:33:12.072794Z"
    }
   },
   "cell_type": "code",
   "source": [
    "print(\"Training on full data...\")\n",
    "\n",
    "train_losses, test_losses, test_accs = trainModel(\n",
    "    model=model,\n",
    "    train_loader=train_loader,\n",
    "    test_loader=test_loader,\n",
    "    num_epochs=NUM_EPOCHS,\n",
    "    criterion=CRITERION,\n",
    "    optimizer=OPTIMIZER,\n",
    "    save_path=\"kvmemnet.pt\"\n",
    ")"
   ],
   "outputs": [
    {
     "name": "stdout",
     "output_type": "stream",
     "text": [
      "Training on full data...\n",
      "==================================================\n",
      "Epoch  1/20 | Train Loss: 2.4880\n",
      "              Eval Loss: 2.1981,  Acc: 28.1755%\n",
      "==================================================\n",
      "Epoch  2/20 | Train Loss: 1.7510\n",
      "              Eval Loss: 1.6480,  Acc: 57.2748%\n",
      "==================================================\n",
      "Epoch  3/20 | Train Loss: 1.2104\n",
      "              Eval Loss: 1.4589,  Acc: 62.8176%\n",
      "==================================================\n",
      "Epoch  4/20 | Train Loss: 0.9854\n",
      "              Eval Loss: 1.3865,  Acc: 65.2425%\n",
      "==================================================\n",
      "Epoch  5/20 | Train Loss: 0.8659\n",
      "              Eval Loss: 1.3304,  Acc: 68.0716%\n",
      "==================================================\n",
      "Epoch  6/20 | Train Loss: 0.7998\n",
      "              Eval Loss: 1.3191,  Acc: 68.1293%\n",
      "==================================================\n",
      "Epoch  7/20 | Train Loss: 0.7492\n",
      "              Eval Loss: 1.3101,  Acc: 69.2263%\n",
      "==================================================\n",
      "Epoch  8/20 | Train Loss: 0.7129\n",
      "              Eval Loss: 1.3122,  Acc: 69.5150%\n",
      "==================================================\n",
      "Epoch  9/20 | Train Loss: 0.6871\n",
      "              Eval Loss: 1.3210,  Acc: 70.3233%\n",
      "==================================================\n",
      "Epoch 10/20 | Train Loss: 0.6692\n",
      "              Eval Loss: 1.3526,  Acc: 69.8037%\n",
      "==================================================\n",
      "Epoch 11/20 | Train Loss: 0.6502\n",
      "              Eval Loss: 1.3709,  Acc: 70.2656%\n",
      "==================================================\n",
      "Epoch 12/20 | Train Loss: 0.6362\n",
      "              Eval Loss: 1.3822,  Acc: 69.8037%\n",
      "==================================================\n",
      "Epoch 13/20 | Train Loss: 0.6266\n",
      "              Eval Loss: 1.4223,  Acc: 70.3811%\n",
      "==================================================\n",
      "Epoch 14/20 | Train Loss: 0.6148\n",
      "              Eval Loss: 1.4529,  Acc: 70.7275%\n",
      "==================================================\n",
      "Epoch 15/20 | Train Loss: 0.6071\n",
      "              Eval Loss: 1.4693,  Acc: 70.9584%\n",
      "==================================================\n",
      "Epoch 16/20 | Train Loss: 0.6023\n",
      "              Eval Loss: 1.4873,  Acc: 70.5543%\n",
      "==================================================\n",
      "Epoch 17/20 | Train Loss: 0.5943\n",
      "              Eval Loss: 1.5306,  Acc: 71.3626%\n",
      "==================================================\n",
      "Epoch 18/20 | Train Loss: 0.5901\n",
      "              Eval Loss: 1.5451,  Acc: 70.8430%\n",
      "==================================================\n",
      "Epoch 19/20 | Train Loss: 0.5856\n",
      "              Eval Loss: 1.5646,  Acc: 71.1894%\n",
      "==================================================\n",
      "Epoch 20/20 | Train Loss: 0.5834\n",
      "              Eval Loss: 1.6017,  Acc: 70.6120%\n",
      "==================================================\n",
      "\n",
      "\n",
      " Final Evaluation:\n",
      "--------------------------------------------------\n",
      "Final Test Loss:     1.6017\n",
      "Final Test Accuracy: 70.61%\n",
      "--------------------------------------------------\n",
      "\n",
      "Time taken: 115.43 sec\n"
     ]
    }
   ],
   "execution_count": 252
  },
  {
   "metadata": {
    "ExecuteTime": {
     "end_time": "2025-04-21T03:20:06.982450Z",
     "start_time": "2025-04-21T03:20:06.791364Z"
    }
   },
   "cell_type": "code",
   "source": "plot_learning_curve(train_losses, test_losses, test_accs)",
   "outputs": [
    {
     "data": {
      "text/plain": [
       "<Figure size 640x480 with 1 Axes>"
      ],
      "image/png": "[encoded data removed]"
     },
     "metadata": {},
     "output_type": "display_data"
    },
    {
     "data": {
      "text/plain": [
       "<Figure size 640x480 with 1 Axes>"
      ],
      "image/png": "[encoded data removed]"
     },
     "metadata": {},
     "output_type": "display_data"
    }
   ],
   "execution_count": 481
  },
  {
   "metadata": {},
   "cell_type": "markdown",
   "source": "**Run the evaluation loop**"
  },
  {
   "metadata": {
    "ExecuteTime": {
     "end_time": "2025-04-21T00:03:47.308866Z",
     "start_time": "2025-04-21T00:03:46.309097Z"
    }
   },
   "cell_type": "code",
   "source": [
    "test_loss, test_acc = evaluateModel(model, test_loader, CRITERION, device)\n",
    "\n",
    "print(\"\\nModel Evaluation:\")\n",
    "print(f\" - Loss: {test_loss:.4f}\\n\"\n",
    "      f\" - Accuracy: {test_acc:.2%}\")"
   ],
   "outputs": [
    {
     "name": "stdout",
     "output_type": "stream",
     "text": [
      "\n",
      "Model Evaluation:\n",
      " - Loss: 1.6017\n",
      " - Accuracy: 70.61%\n"
     ]
    }
   ],
   "execution_count": 474
  },
  {
   "metadata": {
    "id": "fSfTnmWbf0Pr"
   },
   "cell_type": "markdown",
   "source": "**Suggestion:** Once you have a model that has decent accuracy, you may want to save it to your Google Drive using ``torch.save()`` and load it when working on the next part of the assignment using ``torch.load()``."
  },
  {
   "metadata": {
    "collapsed": false,
    "ExecuteTime": {
     "end_time": "2025-04-20T19:42:17.345852Z",
     "start_time": "2025-04-20T19:42:17.333446Z"
    }
   },
   "cell_type": "code",
   "source": [
    "torch.save(model.state_dict(), \"kvmemnet_final.pt\")\n",
    "\n",
    "# load the model\n",
    "# model = KVMemNet(VOCAB_SIZE, EMBED_SIZE).to(device)\n",
    "# model.load_state_dict(torch.load(\"kvmemnet_final.pt\"))"
   ],
   "outputs": [],
   "execution_count": 253
  },
  {
   "metadata": {},
   "cell_type": "markdown",
   "source": "------------------"
  },
  {
   "metadata": {
    "id": "lRCn-LZmMNCp"
   },
   "cell_type": "markdown",
   "source": [
    "# Part E: Use the Model (5 points)\n",
    "\n",
    "Given a question in natural language, turn it into a bag of words and feed it into the model with a set of plausible keys and values. Apply the output feature embedding to the full set of values and pick the value with argmax. Return the actual text inside that value (not the bag of words or embedding).\n",
    "\n",
    "That is, given a natural language question, you are asked to create the $q$ and pick a relevant subset of $k$ and $v$. Run the $q$, $k$, and $v$ through the model and get an answer to the original question.\n",
    "\n",
    "For example a question might be \"When was Alexander Hamilton born?\" Depending on how you pre-proessed your data, you may need to extract the entity and the relation.\n",
    "\n",
    "Write a function that takes in the `question` below, the data, and the model, and outputs the text answer, e.g., \"11 january 1755\". You must use your ``KVMemNet``."
   ]
  },
  {
   "cell_type": "markdown",
   "source": [
    "**Suggestion:** To process a question you will probably want to find the entity and the relation. You may use packages such as [NLTK](https://www.nltk.org/) (already imported), [SpaCY](https://spacy.io/), [Stanza](https://stanfordnlp.github.io/stanza/), or other."
   ],
   "metadata": {
    "id": "yiRYRlRhfFUG"
   }
  },
  {
   "cell_type": "markdown",
   "source": [
    "Change the question to test your implementation, but don't delete this cell."
   ],
   "metadata": {
    "id": "ofPVuNzWeIto"
   }
  },
  {
   "cell_type": "code",
   "execution_count": null,
   "metadata": {
    "id": "JQLNvGsfm3b3"
   },
   "outputs": [],
   "source": [
    "question = \"When was alexander hamilton born?\""
   ]
  },
  {
   "cell_type": "markdown",
   "source": [
    "**Create your function for using the `KVMemNet` to answer a given question.**\n",
    "\n",
    "The function should take in the question, data, model, and any other parameters you need. The function should return a text string.\n",
    "\n",
    "You can create as many cells as necessary. Save the notebook cells showing one example of your input question and output answer. For grading we will look to see that your question is in natural language, the model is used, and the answer is in text. The example doesn't have to be correct. You will analyze your technique later in the report."
   ],
   "metadata": {
    "id": "KGSewc7jeaj1"
   }
  },
  {
   "metadata": {},
   "cell_type": "markdown",
   "source": "### Process question"
  },
  {
   "metadata": {
    "ExecuteTime": {
     "end_time": "2025-04-20T19:29:58.045249Z",
     "start_time": "2025-04-20T19:29:58.042391Z"
    }
   },
   "cell_type": "code",
   "outputs": [],
   "execution_count": 237,
   "source": [
    "RELATIONS_SYNONYM_MAP = {\n",
    "    \"birth_date\": [\n",
    "        \"birth date\", \"date of birth\", \"born\", \"when was\",\n",
    "        \"came into the world\", \"birthday\"\n",
    "    ],\n",
    "    \"birth_place\": [\n",
    "        \"where was\", \"birthplace\", \"place of birth\", \"location was\",\n",
    "        \"in which location\"\n",
    "    ],\n",
    "    \"death_date\": [\n",
    "        \"death date\", \"date of death\", \"when did\", \"passed away\",\n",
    "        \"died\", \"death\"\n",
    "    ],\n",
    "    \"office\": [\n",
    "        \"office\", \"position\", \"role\", \"what office\",\n",
    "        \"served in\", \"official position\"\n",
    "    ],\n",
    "    \"term_start\": [\n",
    "        \"term start\", \"start date\", \"when did\", \"began their office\",\n",
    "        \"term began\", \"start their term\"\n",
    "    ],\n",
    "    \"term_end\": [\n",
    "        \"term end\", \"end date\", \"left office\", \"term concluded\",\n",
    "        \"when did\", \"term end\"\n",
    "    ]\n",
    "}\n"
   ]
  },
  {
   "metadata": {
    "ExecuteTime": {
     "end_time": "2025-04-20T20:24:58.281352Z",
     "start_time": "2025-04-20T20:24:58.278782Z"
    }
   },
   "cell_type": "code",
   "source": [
    "def extract_entity(question: str, DB: dict) -> str:\n",
    "    q_lower = question.lower()\n",
    "    candidates = [name for name in DB if name in q_lower]\n",
    "\n",
    "    if not candidates:\n",
    "        raise ValueError(\"extract_entity: No entity found in question.\")\n",
    "\n",
    "    return max(candidates, key=len)"
   ],
   "outputs": [],
   "execution_count": 348
  },
  {
   "metadata": {
    "ExecuteTime": {
     "end_time": "2025-04-20T20:24:58.426286Z",
     "start_time": "2025-04-20T20:24:58.424078Z"
    }
   },
   "cell_type": "code",
   "source": [
    "def extract_relation(question: str, synonym_map: dict) -> str:\n",
    "    q_lower = question.lower()\n",
    "    for rel, patterns in synonym_map.items():\n",
    "        for phr in patterns:\n",
    "            if phr in q_lower:\n",
    "                return rel\n",
    "    raise ValueError(\"extract_relation: No matching relation found in question.\")"
   ],
   "outputs": [],
   "execution_count": 349
  },
  {
   "metadata": {
    "ExecuteTime": {
     "end_time": "2025-04-20T22:27:21.085783Z",
     "start_time": "2025-04-20T22:27:21.082572Z"
    }
   },
   "cell_type": "code",
   "source": [
    "# def build_kv_context(person, relation, DB):\n",
    "#     \"\"\"\n",
    "#     Select (key, value) pairs only for the relevant person and relation.\n",
    "#     \"\"\"\n",
    "#     facts = DB.get(person, {})\n",
    "#     kvs = []\n",
    "#\n",
    "#     if relation in facts:\n",
    "#         key = f\"{person} {relation.replace('_', ' ')}\"\n",
    "#         val = facts[relation]\n",
    "#         kvs.append((key, val))\n",
    "#\n",
    "#     return kvs\n",
    "\n",
    "def build_kv_context(person, DB):\n",
    "    \"\"\"\n",
    "    Returns all (key, value) pairs for the person.\n",
    "    Each key is formed by concatenating the person's name and the relation.\n",
    "    \"\"\"\n",
    "    facts = DB.get(person, {})\n",
    "    kvs = []\n",
    "\n",
    "    for relation, val in facts.items():\n",
    "        # Key becomes: \"alexander hamilton birth date\"\n",
    "        key = f\"{person} {relation.replace('_', ' ')}\"\n",
    "        kvs.append((key, val))\n",
    "\n",
    "    return kvs\n"
   ],
   "outputs": [],
   "execution_count": 405
  },
  {
   "metadata": {
    "ExecuteTime": {
     "end_time": "2025-04-20T22:27:21.700857Z",
     "start_time": "2025-04-20T22:27:21.697150Z"
    }
   },
   "cell_type": "code",
   "source": [
    "def select_best_answer(question, kv_pairs, model, vocab):\n",
    "    # Encode question\n",
    "    q_vec = torch.tensor(safe_multihot(question, vocab), dtype=torch.float32).unsqueeze(0).to(device)\n",
    "\n",
    "    # Encode keys and values\n",
    "    k_vecs = [safe_multihot(k, vocab) for k, _ in kv_pairs]\n",
    "    v_vecs = [safe_multihot(v, vocab) for _, v in kv_pairs]\n",
    "\n",
    "    k_tensor = torch.tensor(np.stack(k_vecs), dtype=torch.float32).unsqueeze(0).to(device)\n",
    "    v_tensor = torch.tensor(np.stack(v_vecs), dtype=torch.float32).unsqueeze(0).to(device)\n",
    "\n",
    "    # Forward pass\n",
    "    with torch.no_grad():\n",
    "        o = model(q_vec, k_tensor, v_tensor)         # (1, E)\n",
    "        v_embeds = model.B(v_tensor)                 # (1, K, E)\n",
    "        scores = F.cosine_similarity(o.unsqueeze(1), v_embeds, dim=-1)  # (1, K)\n",
    "        best_idx = scores.argmax(dim=1).item()\n",
    "\n",
    "    return kv_pairs[best_idx][1]  # Return the raw value\n"
   ],
   "outputs": [],
   "execution_count": 406
  },
  {
   "metadata": {
    "ExecuteTime": {
     "end_time": "2025-04-20T22:27:22.110882Z",
     "start_time": "2025-04-20T22:27:22.108468Z"
    }
   },
   "cell_type": "code",
   "source": [
    "def handle_error(e: str) -> str:\n",
    "    msg = str(e).lower()\n",
    "    if \"extract_entity\" in msg:\n",
    "        return \"Error: Entity not present in DB.\"\n",
    "    elif \"extract_relation\" in msg:\n",
    "        return \"Error: Relation not present in DB for given entity.\"\n",
    "    else:\n",
    "        return \"Error: An error occurred while processing the question.\"\n"
   ],
   "outputs": [],
   "execution_count": 407
  },
  {
   "metadata": {
    "ExecuteTime": {
     "end_time": "2025-04-20T22:27:27.360424Z",
     "start_time": "2025-04-20T22:27:27.357168Z"
    }
   },
   "cell_type": "code",
   "source": [
    "def answer_question(question, DB, model, vocab):\n",
    "    try:\n",
    "        person = extract_entity(question, DB)\n",
    "        relation = extract_relation(question, RELATIONS_SYNONYM_MAP)\n",
    "\n",
    "        kv_candidates = build_kv_context(person, DB)#build_kv_context(person, relation, DB)\n",
    "\n",
    "        if not kv_candidates:\n",
    "            return \"Error: No entity or relation found in DB.\"\n",
    "\n",
    "        answer = select_best_answer(question, kv_candidates, model, vocab)\n",
    "        return answer\n",
    "\n",
    "    except Exception as e:\n",
    "        return handle_error(e)\n"
   ],
   "outputs": [],
   "execution_count": 408
  },
  {
   "metadata": {},
   "cell_type": "markdown",
   "source": "### Test QA System"
  },
  {
   "metadata": {},
   "cell_type": "markdown",
   "source": "#### Correct examples"
  },
  {
   "metadata": {
    "ExecuteTime": {
     "end_time": "2025-04-20T22:35:26.854021Z",
     "start_time": "2025-04-20T22:35:26.839487Z"
    }
   },
   "cell_type": "code",
   "source": [
    "# Question 1\n",
    "question = \"What is Alexander Hamilton's date of birth?\"\n",
    "answer = answer_question(question, DB, model, VOCAB_RED)\n",
    "print(f\"\\nQ: {question}\\nA: {answer}\")\n",
    "print(\"\\nExpected:\", DB['alexander hamilton']['birth_date'])"
   ],
   "outputs": [
    {
     "name": "stdout",
     "output_type": "stream",
     "text": [
      "\n",
      "Q: What is Alexander Hamilton's date of birth?\n",
      "A: 11 january 1755\n",
      "\n",
      "Expected: 11 january 1755\n"
     ]
    }
   ],
   "execution_count": 433
  },
  {
   "metadata": {
    "ExecuteTime": {
     "end_time": "2025-04-20T22:28:19.520691Z",
     "start_time": "2025-04-20T22:28:19.504963Z"
    }
   },
   "cell_type": "code",
   "source": [
    "# Question 2\n",
    "question = \"When is jean-marie le pen's birthday?\"\n",
    "answer = answer_question(question, DB, model, VOCAB_RED)\n",
    "print(f\"\\nQ: {question}\\nA: {answer}\")\n",
    "print(\"\\nExpected:\", DB['jean-marie le pen']['birth_date'])"
   ],
   "outputs": [
    {
     "name": "stdout",
     "output_type": "stream",
     "text": [
      "\n",
      "Q: When is jean-marie le pen's birthday?\n",
      "A: 20 june 1928\n",
      "\n",
      "Expected: 20 june 1928\n"
     ]
    }
   ],
   "execution_count": 415
  },
  {
   "metadata": {
    "ExecuteTime": {
     "end_time": "2025-04-20T22:28:21.007087Z",
     "start_time": "2025-04-20T22:28:20.992005Z"
    }
   },
   "cell_type": "code",
   "source": [
    "# Question 3\n",
    "question = \"What is the birthplace of jean-marie le pen?\"\n",
    "answer = answer_question(question, DB, model, VOCAB_RED)\n",
    "print(f\"\\nQ: {question}\\nA: {answer}\")\n",
    "print(\"\\nExpected:\", DB['jean-marie le pen']['birth_place'])"
   ],
   "outputs": [
    {
     "name": "stdout",
     "output_type": "stream",
     "text": [
      "\n",
      "Q: What is the birthplace of jean-marie le pen?\n",
      "A: la trinité brittany france\n",
      "\n",
      "Expected: la trinité brittany france\n"
     ]
    }
   ],
   "execution_count": 416
  },
  {
   "metadata": {
    "ExecuteTime": {
     "end_time": "2025-04-20T22:34:18.959169Z",
     "start_time": "2025-04-20T22:34:18.942459Z"
    }
   },
   "cell_type": "code",
   "source": [
    "# Question 4\n",
    "question = \"What office did antonio nariño hold?\"\n",
    "answer = answer_question(question, DB, model, VOCAB_RED)\n",
    "print(f\"\\nQ: {question}\\nA: {answer}\")\n",
    "print(\"\\nExpected:\", DB['antonio nariño']['office'])"
   ],
   "outputs": [
    {
     "name": "stdout",
     "output_type": "stream",
     "text": [
      "\n",
      "Q: What office did antonio nariño hold?\n",
      "A: vice president of the republic of colombia governor president of the state of cundinamarca governor president of the state of cundinamarca and viceregent of the king person\n",
      "\n",
      "Expected: vice president of the republic of colombia governor president of the state of cundinamarca governor president of the state of cundinamarca and viceregent of the king person\n"
     ]
    }
   ],
   "execution_count": 432
  },
  {
   "metadata": {},
   "cell_type": "markdown",
   "source": "#### Incorrect examples"
  },
  {
   "metadata": {
    "ExecuteTime": {
     "end_time": "2025-04-20T23:06:10.628939Z",
     "start_time": "2025-04-20T23:06:10.612014Z"
    }
   },
   "cell_type": "code",
   "source": [
    "# Question 5\n",
    "question = \"When did alexander hamilton die?\"\n",
    "answer = answer_question(question, DB, model, VOCAB_RED)\n",
    "print(f\"\\nQ: {question}\\nA: {answer}\")\n",
    "print(f\"\\nExpected: Error\")\n",
    "print(\"Reason: Relation exists but model was trained on a REDUCED DB with a limited set of relations. \"\n",
    "      \"Misidentified relation in the question.\")"
   ],
   "outputs": [
    {
     "name": "stdout",
     "output_type": "stream",
     "text": [
      "\n",
      "Q: When did alexander hamilton die?\n",
      "A: alexander hamilton signaturert\n",
      "\n",
      "Expected: Error\n",
      "Reason: Relation exists but model was trained on a REDUCED DB with a limited set of relations. Misidentified relation in the question.\n"
     ]
    }
   ],
   "execution_count": 472
  },
  {
   "metadata": {
    "ExecuteTime": {
     "end_time": "2025-04-20T23:03:25.390879Z",
     "start_time": "2025-04-20T23:03:25.374897Z"
    }
   },
   "cell_type": "code",
   "source": [
    "# Question 6\n",
    "question = \"When did jean-marie le pen die?\"\n",
    "answer = answer_question(question, DB, model, VOCAB_RED)\n",
    "print(f\"\\nQ: {question}\\nA: {answer}\")\n",
    "print(f\"\\nExpected: Error\"\n",
    "      f\"\\nReason: Relation does not exist in DB for given entity. Answer given is due to the first matching synonym in the template ('When').\")"
   ],
   "outputs": [
    {
     "name": "stdout",
     "output_type": "stream",
     "text": [
      "\n",
      "Q: When did jean-marie le pen die?\n",
      "A: 20 june 1928\n",
      "\n",
      "Expected: Error\n",
      "Reason: Relation does not exist in DB for given entity. Answer given is due to the first matching synonym in the template ('When').\n"
     ]
    }
   ],
   "execution_count": 467
  },
  {
   "metadata": {
    "ExecuteTime": {
     "end_time": "2025-04-20T23:04:04.183556Z",
     "start_time": "2025-04-20T23:04:04.174655Z"
    }
   },
   "cell_type": "code",
   "source": [
    "# Question 7\n",
    "question = \"What is jean-marie le pen nationality?\"\n",
    "answer = answer_question(question, DB, model, VOCAB_RED)\n",
    "print(f\"\\nQ: {question}\\nA: {answer}\")\n",
    "print(\"\\nExpected: Error\")\n",
    "print(\"Reason: model was trained on a REDUCED DB with a limited set of relations. Unable to match to a relation in the DB.\")"
   ],
   "outputs": [
    {
     "name": "stdout",
     "output_type": "stream",
     "text": [
      "\n",
      "Q: What is jean-marie le pen nationality?\n",
      "A: Error: Relation not present in DB for given entity.\n",
      "\n",
      "Expected: Error\n",
      "Reason: model was trained on a REDUCED DB with a limited set of relations. Unable to match to a relation in the DB.\n"
     ]
    }
   ],
   "execution_count": 468
  },
  {
   "cell_type": "markdown",
   "source": [
    "# Part F: Reporting (15 points)\n",
    "\n",
    "Your report should answer the following three questions:\n",
    "\n",
    " **Q1:** What pre-processing of the data did you do? What motivated the design decisions and how did it impact training and any processing of natural language questions (Parts A and D)?\n",
    "\n",
    " Hint: This should help one understand any code modifications you made in Parts A and the first part of Part D. But you shouldn't use this to document your code (hopefully you commented your code with code comments and text cells above), but to justify your choices as well as to explain what worked and what didn't work.\n",
    "\n",
    " **Q2:** Report on your training on the real data (Part D). Show your loss curve and report on the testing accuracy. There are many ways to implement the training loop, particularly with the choice of keys and values. What decisions did you make when developing your training loop? Justify your decisions. How did they impact the training?\n",
    "\n",
    " Hint: This assignment doesn't grade you on how well your model learns---your solution will not be perfect. We focus more on how you worked through the process. This part of the report should show how well your solution worked, but also the intuition for why it works, and to document the things you tried that didn't work.\n",
    "\n",
    " **Q3:** Describe your technique on how you process natural language questions (Part E). Provide some examples of your technique answering questions correctly and some examples of your technique answering questions incorrectly. Discuss what causes the failure cases.\n",
    "\n",
    " Hint: You are not penalized for incorrectly answered questions---your model will not be perfect---we are looking for honest reflection. Preferably, show the example as code blocks running your model with notebook outputs saved.\n",
    "\n",
    " We have provided three prompts below. You can create as many text and code cells as necessary."
   ],
   "metadata": {
    "id": "N27-OtrzpT-u"
   }
  },
  {
   "metadata": {},
   "cell_type": "markdown",
   "source": "---------------------------"
  },
  {
   "cell_type": "markdown",
   "source": "## **Q1: Report on Data Pre-processing**",
   "metadata": {
    "id": "V8dovCuyuEvL"
   }
  },
  {
   "metadata": {},
   "cell_type": "markdown",
   "source": [
    "Data Parameters:\n",
    "- Data Split: 500 train / 100 test\n",
    "- Top n relations: 5 most frequent relations\n",
    "- Negative Samples: 15 distractors\n",
    "- Question Templates: 4 per relation\n",
    "\n",
    "\n",
    "### Pre-processing Steps\n",
    "\n",
    "1. **DB reduction by person:**\n",
    "    We take the full DB and partition it into two non‑overlapping subsets: the first 500 people for training and the next 100 for testing. This keeps memory and compute requirements manageable and ensures that our evaluation set contains only entirely unseen individuals.\n",
    "\n",
    "2. **Vocabulary reduction:**\n",
    "    From the training DB we build an initial vocabulary of roughly 96k tokens, then discard any word that appears only once. The resulting reduced vocabulary of about 2800 words makes every multihot vector smaller and faster to process, while also reducing noise from rare words.\n",
    "\n",
    "3. **Select top relations:**\n",
    "    We count how often each relation key appears in the training data and select the five most frequent. Concentrating on the most frequent relations ensures the model’s memory is dedicated to the most relevant fact types, speeding up both training and inference.\n",
    "\n",
    "4. **Question Generation:**\n",
    "    For each of the five most frequent relations, we produce multiple templated paraphrases—about four unique question strings per person–relation pair, so the model sees different ways to express the same query. In Part E, we expanded this diversity by integrating a synonym map to capture even more linguistic variation.\n",
    "\n",
    "5. **Negative Sampling (Distractors):**\n",
    "    - Every true question–key–value triple is augmented with incorrect key–value pairs: half sampled from other people’s facts and half from different relations of the same person. This setup forces the memory network to learn fine‑grained discrimination: distractors drawn from other relations of the same individual force the model to distinguish which fact applies to that person, while distractors from different individuals compel it to recognize the correct person.\n",
    "    - We then combine the true encoding with its distractors into a single matrix, always placing the correct answer at index 0 as our target for easy retrieval. The distractors are randomly shuffled to prevent the model from simply memorizing their order.\n",
    "    - Too many distractors (>15) slowed down each batch and lightly hurt accuracy, while fewer than 5 distractors led to overfitting. 15 distractors strikes the right balance, giving the model with a realistic set of plausible alternatives and pushing it to learn precise distinctions.\n",
    "\n",
    "\n",
    "6. **Key Formatting:**\n",
    "    During Part E, after observing that the QA system was underperforming, we introduced a natural language formatting step for the keys, converting internal keys such as \"alexander hamilton birth_date\" into natural phrases like \"alexander hamilton birth date\". Aligning the key wording with question language improved the model’s ability to compute attention based on overlapping vocabulary.\n",
    "\n",
    "7. **Encoding & Padding:**\n",
    "    Questions, keys, and values are each transformed into fixed‑length multihot vectors over the reduced vocabulary, using an UNK fallback for any out‑of‑vocab tokens. At batch time, we zero‑pad each sample’s set of key/value vectors so that every tensor in the batch shares the same shape.\n",
    "\n",
    "8. **Building the final Datasets:**\n",
    "    Finally, we wrap all samples in a custom Dataset and DataLoader (batch size 32, 4 questions per person, 15 distractors per question) for both training and testing. This produces approximately 8700 training samples and 1700 test samples as (Q, K, V, target) tensors. By building both sets with the same pipeline, we ensure that evaluation truly mirrors the training setup."
   ]
  },
  {
   "metadata": {},
   "cell_type": "markdown",
   "source": "-----------------------------"
  },
  {
   "metadata": {
    "id": "3VBW1vSduN4U"
   },
   "cell_type": "markdown",
   "source": "## **Q2: Report on Training and Testing**\n"
  },
  {
   "metadata": {},
   "cell_type": "markdown",
   "source": [
    "### Model\n",
    "We used the Key‑Value Memory Network (KVMemNet) architecture as described in the project instructions.\n",
    "- A shared linear embedding **layer A** for questions, keys, and values\n",
    "- A separate linear embedding **layer B** for values during final similarity scoring.\n",
    "\n",
    "All inputs are bag‑of‑words multihot vectors over a reduced vocabulary.\n",
    "\n",
    "\n",
    "### Hyperparameters\n",
    "- Batch Size: 32\n",
    "- Vocabulary Size: Reduced to ~2800 words\n",
    "- Embedding Size: 200\n",
    "- Epochs: 20\n",
    "-\n",
    "- Learning Rate: 5e-4\n",
    "- Optimizer: AdamW\n",
    "- Loss Function: CrossEntropyLoss\n",
    "\n",
    "Justification:\n",
    "\n",
    "- **Batch Size (32):** Provides a good balance between stability and memory efficiency. Smaller batches led to noisy updates, while larger batches slowed per‐epoch iteration.\n",
    "- **Vocabulary Size (~2800):** Reduced from ~96K to focus on the most frequent words. This reduced sparsity and improved convergence speed.\n",
    "- **Embedding Size (200):** Sufficient capacity for key/value representations without excessive overfitting. Larger sizes led to overfitting and slower training.\n",
    "- **Epochs (20):** Long enough to observe convergence and early overfitting. We noted test accuracy plateauing around epoch 7–10. Extending to 20 epochs led to overfitting, with test accuracy dropping by the end.\n",
    "- **Learning Rate (5e-4):** A standard choice for AdamW. Lower rates (1e-4) slowed convergence significantly, while higher rates led to instability.\n",
    "\n",
    "\n",
    "### Training\n",
    "\n",
    "We trained the KVMemNet model for 20 epochs on our reduced dataset, using PyTorch’s DataLoader (batch size 32, shuffle=True) to stream mini‑batches of input tensors. Each training step proceeds as follows:\n",
    "\n",
    "- The question vector and the stacked key/value matrices are passed through the model’s “A” module to produce a fixed‑length embeddings.\n",
    "- The raw value matrix is then fed to the model’s “B” module to produce a second set of embeddings.\n",
    "Scoring: We compute dot‐products between the query embedding and each value embedding to produce a similarity score for each key-value pair.\n",
    "- Loss & Backpropagation: We apply CrossEntropyLoss to these logits with the true index (always 0 in our construction) as the target. Gradients are backpropagated and parameters updated using the AdamW optimizer (learning rate=5e-4).\n",
    "- After each epoch, we switch the model to eval() mode and measure average loss and accuracy on the held‑out test data.\n",
    "\n",
    "\n",
    "### Results\n",
    "\n",
    "- **Training Loss:** fell from ~2.49 → ~0.58 over 20 epochs, confirming the network was fitting the training samples.\n",
    "- **Test Loss:** dropped to ~1.31 by epoch 7 then gradually rose to ~1.60 by epoch 20, signaling mild overfitting.\n",
    "- **Test Accuracy:** jumped from 28.2% at epoch 1 to 68.1% by epoch 5, peaked at 71.4% on epoch 17, and finished at 70.6% in the final evaluation.\n",
    "\n",
    "Final Metrics:\n",
    "- Average Test Loss: 1.6017\n",
    "- Final Test Accuracy: 70.61%"
   ]
  },
  {
   "metadata": {},
   "cell_type": "markdown",
   "source": [
    "### Plots\n",
    "Loss and accuracy plots (see below).\n",
    "\n",
    "- **Learning Curves:** the gap between training and test loss begins widening after epoch 7, even as train loss continues to drop indicating overfitting. The model is learning to fit the training data but is not generalizing well enough to unseen data.\n",
    "- **Test Accuracy:** peaks at epoch 17, then drops slightly by the end. This suggests that the model is learning to generalize but may be overfitting to the training data.\n"
   ]
  },
  {
   "metadata": {
    "ExecuteTime": {
     "end_time": "2025-04-21T03:19:55.759937Z",
     "start_time": "2025-04-21T03:19:55.567239Z"
    }
   },
   "cell_type": "code",
   "source": "plot_learning_curve(train_losses, test_losses, test_accs)",
   "outputs": [
    {
     "data": {
      "text/plain": [
       "<Figure size 640x480 with 1 Axes>"
      ],
      "image/png": "[encoded data removed]"
     },
     "metadata": {},
     "output_type": "display_data"
    },
    {
     "data": {
      "text/plain": [
       "<Figure size 640x480 with 1 Axes>"
      ],
      "image/png": "[encoded data removed]"
     },
     "metadata": {},
     "output_type": "display_data"
    }
   ],
   "execution_count": 480
  },
  {
   "metadata": {},
   "cell_type": "markdown",
   "source": "-------------------------"
  },
  {
   "cell_type": "markdown",
   "source": "## **Q3: Report on Model Use**",
   "metadata": {
    "id": "d6YimJ0KuScb"
   }
  },
  {
   "metadata": {},
   "cell_type": "markdown",
   "source": [
    "### **Processing natural language questions**\n",
    "\n",
    "1. **Extract the entity (person) from the question:**\n",
    "    we find the longest person name substring present in the reduced DB from all person‑keys. Use a simple name lookup that favors more specific matches so that the longest match handles nested names and avoids false positives (e.g., \"alexander hamilton\" vs. \"alexander\").\n",
    "   However, this approach fails if the question contains a name not in the DB or if the name is misspelled. To solve this, we could extract named entities using  libraries such as SpaCy but opted for a simpler approach for this task.\n",
    "\n",
    "2. **Extract the relation using a synonym map:**\n",
    "    we scan each relation’s list of synonym phrases (e.g. \"born\", \"birth date\") using a synonym map to match against known relations and return the first matching key. This offers a simple way to handle synonyms and variations in phrasing.\n",
    "   However, it fails if the question uses a synonym not present in the map or if the relation is not in the DB for that person, or it can even misassign overlapping phrases (e.g.: \"when did\" may map to term_start instead of term_end depending on which relation comes first.\n",
    "\n",
    "3. **Buils all key-value data for that person:**\n",
    "    we retrieve that person’s (key, value) pairs for the requested relation, if it exists, ensuring the model sees a consistent format.\n",
    "\n",
    "4. **Select the best answer using the trained KVMemNet model and return the value:**\n",
    "    We trained the network on multihot inputs, so we also encode our inputs before feeding them through the trained KVMemNet. The value whose embedding has the highest cosine score compared to the output is chosen as the answer, since it aligns most closely with the question in the learned space. Finally, we return it as the answer."
   ]
  },
  {
   "metadata": {},
   "cell_type": "markdown",
   "source": [
    "### **Correctly Answered Examples**\n",
    "\n",
    "**Example 1**\n",
    "\n",
    "    - Question: What is alexander hamilton’s date of birth?\n",
    "    - Answer: 11 january 1755\n",
    "    - Expected: 11 january 1755\n",
    "\n",
    "**Example 2**\n",
    "\n",
    "    - Question: When is jean‑marie le pen’s birthday?\n",
    "    - Answer: 20 june 1928\n",
    "    - Expected: 20 june 1928\n",
    "\n",
    "**Example 3**\n",
    "\n",
    "    - Question: What is the birthplace of jean‑marie le pen?\n",
    "    - Answer: la trinité brittany france\n",
    "    - Expected: la trinité brittany france\n",
    "\n",
    "**Example 4**\n",
    "\n",
    "    - Question: What office did antonio nariño hold?\n",
    "    - Answer: vice president of the republic of colombia governor president of the state of cundinamarca governor president of the state of cundinamarca and viceregent of the king person\n",
    "    - Expected: vice president of the republic of colombia governor president of the state of cundinamarca governor president of the state of cundinamarca and viceregent of the king person\n",
    "\n",
    "\n",
    "These cases work well because the question template closely matches training examples. The model has learned clear associations between words like \"date of birth\" or \"birthday\" → birth_date, \"birthplace\" → birth_place, and \"office\" → office."
   ]
  },
  {
   "metadata": {},
   "cell_type": "markdown",
   "source": [
    "### **Incorrectly Answered Examples**\n",
    "\n",
    "**Example 5**\n",
    "\n",
    "    - Question: “When did alexander hamilton die?”\n",
    "    - Answer: alexander hamilton signaturert\n",
    "    - Expected: Error\n",
    "\n",
    "**Example 6**\n",
    "\n",
    "    - Question: “When did jean‑marie le pen die?”\n",
    "    - Answer: 20 june 1928\n",
    "    - Expected: Error\n",
    "\n",
    "**Example 7**\n",
    "\n",
    "    - Question: “What is jean‑marie le pen nationality?”\n",
    "    - Answer: Error: Relation not present in DB for given entity.\n",
    "    - Expected: Error\n",
    "\n",
    "\n",
    "These cases fail for several reasons:\n",
    "- **Synonym ambiguity:** some keywords appear under multiple relations. The simple first‑match strategy may contribute to pick the wrong one (e.g. \"when did\" matched to birth_date instead of death_date in example 6 or in exmaple 7 the model scores a completely unrelated fact).\n",
    "- **Reduced relation set:** we only trained on the most frequent relations and ignored other (e.g. \"nationality\" in example 7). This means that any question about a less common relation will error, even if it exists in the original DB.\n",
    "- Other failures may be due to a strict substring matching for entities, if the question’s capitalization or minor punctuation differs (“jean-marie le pen’s birthday” vs. \"jean-marie le pen\")."
   ]
  },
  {
   "metadata": {},
   "cell_type": "markdown",
   "source": [
    "## **Reflections:**\n",
    "Overall, the KVMemNet current approach works well with many templated fact questions but breaks when the phrasing or target relation falls outside our manual synonym map or reduced DB. To improve the model’s performance, we could consider entity normalization using a more robust named‐entity recognizer. Also, we could expand the synonym map to include more variations and synonyms for each relation and help the model generalize better by reduce ambiguity in relation extraction. Or we could use a more complex attention mechanism to help the model learn to disambiguate between similar relations (birth_date and birth_place) with contrastive distractors during training.\n"
   ]
  },
  {
   "metadata": {},
   "cell_type": "code",
   "outputs": [],
   "execution_count": null,
   "source": ""
  }
 ],
 "metadata": {
  "accelerator": "GPU",
  "colab": {
   "machine_shape": "hm",
   "provenance": []
  },
  "gpuClass": "standard",
  "kernelspec": {
   "name": "python3",
   "language": "python",
   "display_name": "Python 3 (ipykernel)"
  },
  "language_info": {
   "name": "python"
  }
 },
 "nbformat": 4,
 "nbformat_minor": 0
}
