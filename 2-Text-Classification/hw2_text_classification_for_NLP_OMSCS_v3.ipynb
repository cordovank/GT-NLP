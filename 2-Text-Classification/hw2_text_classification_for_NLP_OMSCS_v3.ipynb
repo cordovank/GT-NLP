{
 "cells": [
  {
   "cell_type": "markdown",
   "metadata": {
    "editable": false,
    "id": "ywvLShfXIKS1",
    "tags": []
   },
   "source": [
    "# NLP Classification\n",
    "\n",
    "In this assignment we look at several ways of classifying texts:\n",
    "- Naive Bayes\n",
    "- Logistic Regression\n",
    "- Multinomial Regression\n",
    "\n",
    "We also look at binary label classification problems (e.g., sentiment analysis) and multinomial classification problems (e.g., topic analysis).\n",
    "\n",
    "We will use two datasets:\n",
    "- [IMDb movie review sentiment](http://ai.stanford.edu/~amaas/data/sentiment/)\n",
    "- [AG News topics](https://huggingface.co/datasets/ag_news)\n",
    "\n",
    "**Tips:**\n",
    "- Read all the code. We don't ask you to write the training loops, or evaluation loops, but it is often instructive to see how the models are trained and evaluated.\n",
    "- If you have a model that is learning (loss is decreasing), but you want to increase accuracy, try using ``nn.Dropout`` layers just before the final linear layer to force the model to handle missing or unfamiliar data."
   ]
  },
  {
   "cell_type": "code",
   "execution_count": 1,
   "metadata": {
    "editable": false,
    "tags": [
     "raises-exception"
    ],
    "id": "BIktLO-8681K",
    "ExecuteTime": {
     "end_time": "2025-02-04T23:42:01.517093Z",
     "start_time": "2025-02-04T23:42:00.813984Z"
    }
   },
   "outputs": [],
   "source": [
    "# start time - notebook execution\n",
    "import time\n",
    "start_nb = time.time()"
   ]
  },
  {
   "cell_type": "markdown",
   "metadata": {
    "editable": false,
    "id": "1xVv6McXodZG",
    "tags": []
   },
   "source": [
    "# Set up"
   ]
  },
  {
   "cell_type": "markdown",
   "metadata": {
    "editable": false,
    "id": "vMRiPTv7vHe2",
    "tags": []
   },
   "source": [
    "Import packages."
   ]
  },
  {
   "cell_type": "code",
   "execution_count": 2,
   "metadata": {
    "editable": false,
    "id": "S5VeRBOiIKS4",
    "tags": [
     "raises-exception"
    ],
    "ExecuteTime": {
     "end_time": "2025-02-04T23:42:02.719924Z",
     "start_time": "2025-02-04T23:42:00.818157Z"
    }
   },
   "outputs": [],
   "source": [
    "import nltk\n",
    "import numpy as np\n",
    "import os\n",
    "import pandas as pd\n",
    "import re\n",
    "import torch\n",
    "import torch.nn as nn\n",
    "import torch.optim as optim"
   ]
  },
  {
   "cell_type": "markdown",
   "metadata": {
    "collapsed": false,
    "editable": false,
    "tags": [],
    "id": "tskEz4ZU681L"
   },
   "source": [
    "# Initialize the Autograder"
   ]
  },
  {
   "cell_type": "code",
   "execution_count": 3,
   "metadata": {
    "editable": false,
    "tags": [
     "raises-exception"
    ],
    "id": "t82U7CdK681L",
    "ExecuteTime": {
     "end_time": "2025-02-04T23:42:02.724110Z",
     "start_time": "2025-02-04T23:42:02.720244Z"
    }
   },
   "outputs": [],
   "source": [
    "# import the autograder tests\n",
    "import hw2_tests as ag"
   ]
  },
  {
   "cell_type": "markdown",
   "metadata": {
    "editable": false,
    "id": "qyRo0v0JIKTK",
    "tags": []
   },
   "source": [
    "# Functions for cleaning up raw texts and tokenizing the corpus\n",
    "\n",
    "We perform text preprocessing that includes: removing HTML tags, making text lower case, stemming, and disposing of stopwords.\n",
    "In the end, we will split the entire dataset into training, validation and test sets."
   ]
  },
  {
   "cell_type": "code",
   "execution_count": 4,
   "metadata": {
    "editable": false,
    "id": "JvfvVWHyIKTL",
    "tags": [
     "raises-exception"
    ],
    "ExecuteTime": {
     "end_time": "2025-02-04T23:42:02.727525Z",
     "start_time": "2025-02-04T23:42:02.725726Z"
    }
   },
   "outputs": [],
   "source": [
    "# Stemming the text\n",
    "def simple_stemmer(text):\n",
    "    ps=nltk.porter.PorterStemmer()\n",
    "    text= [ps.stem(word) for word in text]\n",
    "    return text"
   ]
  },
  {
   "cell_type": "code",
   "execution_count": 5,
   "metadata": {
    "editable": false,
    "id": "Wr_LdWWoIKTL",
    "tags": [
     "raises-exception"
    ],
    "ExecuteTime": {
     "end_time": "2025-02-04T23:42:02.732258Z",
     "start_time": "2025-02-04T23:42:02.729806Z"
    }
   },
   "outputs": [
    {
     "name": "stdout",
     "output_type": "stream",
     "text": [
      "['i', 'me', 'my', 'myself', 'we', 'our', 'ours', 'ourselves', 'you', 'your', 'yours', 'yourself', 'yourselves', 'he', 'him', 'his', 'himself', 'she', 'her', 'hers', 'herself', 'it', 'its', 'itself', 'they', 'them', 'their', 'theirs', 'themselves', 'what', 'which', 'who', 'whom', 'this', 'that', 'these', 'those', 'am', 'is', 'are', 'was', 'were', 'be', 'been', 'being', 'have', 'has', 'had', 'having', 'do', 'does', 'did', 'doing', 'a', 'an', 'the', 'and', 'but', 'if', 'or', 'because', 'as', 'until', 'while', 'of', 'at', 'by', 'for', 'with', 'about', 'against', 'between', 'into', 'through', 'during', 'before', 'after', 'above', 'below', 'to', 'from', 'up', 'down', 'in', 'out', 'on', 'off', 'over', 'under', 'again', 'further', 'then', 'once', 'here', 'there', 'when', 'where', 'why', 'how', 'all', 'any', 'both', 'each', 'few', 'more', 'most', 'other', 'some', 'such', 'no', 'nor', 'not', 'only', 'own', 'same', 'so', 'than', 'too', 'very', 's', 't', 'can', 'will', 'just', 'don', 'should', 'now']\n"
     ]
    }
   ],
   "source": [
    "stopwords_english = [\"i\", \"me\", \"my\", \"myself\", \"we\", \"our\", \"ours\", \"ourselves\", \"you\", \"your\", \"yours\", \"yourself\", \"yourselves\", \"he\", \"him\", \"his\", \"himself\", \"she\", \"her\", \"hers\", \"herself\", \"it\", \"its\", \"itself\", \"they\", \"them\", \"their\", \"theirs\", \"themselves\", \"what\", \"which\", \"who\", \"whom\", \"this\", \"that\", \"these\", \"those\", \"am\", \"is\", \"are\", \"was\", \"were\", \"be\", \"been\", \"being\", \"have\", \"has\", \"had\", \"having\", \"do\", \"does\", \"did\", \"doing\", \"a\", \"an\", \"the\", \"and\", \"but\", \"if\", \"or\", \"because\", \"as\", \"until\", \"while\", \"of\", \"at\", \"by\", \"for\", \"with\", \"about\", \"against\", \"between\", \"into\", \"through\", \"during\", \"before\", \"after\", \"above\", \"below\", \"to\", \"from\", \"up\", \"down\", \"in\", \"out\", \"on\", \"off\", \"over\", \"under\", \"again\", \"further\", \"then\", \"once\", \"here\", \"there\", \"when\", \"where\", \"why\", \"how\", \"all\", \"any\", \"both\", \"each\", \"few\", \"more\", \"most\", \"other\", \"some\", \"such\", \"no\", \"nor\", \"not\", \"only\", \"own\", \"same\", \"so\", \"than\", \"too\", \"very\", \"s\", \"t\", \"can\", \"will\", \"just\", \"don\", \"should\", \"now\"]\n",
    "print(stopwords_english)\n",
    "\n",
    "#removing the stopwords\n",
    "def remove_stopwords(text, stopword_list):\n",
    "    tokens = [token.strip() for token in text]\n",
    "    filtered_tokens = [token for token in tokens if token.lower() not in stopword_list]\n",
    "    return filtered_tokens"
   ]
  },
  {
   "cell_type": "code",
   "execution_count": 6,
   "metadata": {
    "editable": false,
    "id": "NCXHv_tZIKTM",
    "tags": [
     "raises-exception"
    ],
    "ExecuteTime": {
     "end_time": "2025-02-04T23:42:02.735102Z",
     "start_time": "2025-02-04T23:42:02.732809Z"
    }
   },
   "outputs": [],
   "source": [
    "def tokenize_and_clean(line, stem_and_remove_stop_words = True):\n",
    "\n",
    "    line = re.sub(r\"<.*?>\", \"\", line).strip() # remove all HTML tags\n",
    "    line = re.sub(r'[^a-zA-Z0-9]', ' ', line) # remove punc\n",
    "    line = line.lower().split()  # lower case\n",
    "    if stem_and_remove_stop_words:\n",
    "        line = remove_stopwords(line, stopwords_english)\n",
    "        line = simple_stemmer(line)\n",
    "\n",
    "    return line"
   ]
  },
  {
   "cell_type": "markdown",
   "metadata": {
    "editable": false,
    "id": "ohc6u_lDIKS-",
    "tags": []
   },
   "source": [
    "# Download and unpack the sentiment data\n",
    "\n"
   ]
  },
  {
   "cell_type": "markdown",
   "metadata": {
    "editable": false,
    "id": "zIklHox9vjMI",
    "tags": []
   },
   "source": [
    "We are using IMDb Dataset for binary sentiment classification that provides a set of 25K highly polar reviews for training, and 25K for testing\n",
    "(each set contains an equal number of positive and negative examples).\n",
    "\n",
    "Dataset folder structure is as follows:\n",
    "\n",
    "dataset/ \\\n",
    "├── test/ \\\n",
    "│     ├── pos/ \\\n",
    "│     ├── neg/ \\\n",
    "├── train/ \\\n",
    "      ├── pos/ \\\n",
    "      └── neg/"
   ]
  },
  {
   "cell_type": "code",
   "execution_count": 7,
   "metadata": {
    "editable": false,
    "tags": [
     "raises-exception"
    ],
    "id": "pxYJtzVj681M",
    "ExecuteTime": {
     "end_time": "2025-02-04T23:42:02.737729Z",
     "start_time": "2025-02-04T23:42:02.735780Z"
    }
   },
   "outputs": [],
   "source": [
    "# check if dataset is downloaded\n",
    "if not os.path.isfile('aclImdb_v1.tar'):\n",
    "    print(\"Downloading dataset...\")\n",
    "    !wget http://ai.stanford.edu/~amaas/data/sentiment/aclImdb_v1.tar.gz\n",
    "    !gunzip aclImdb_v1.tar.gz\n",
    "    !tar -xvf aclImdb_v1.tar"
   ]
  },
  {
   "cell_type": "markdown",
   "metadata": {
    "editable": false,
    "id": "GRD03KapvnI0",
    "tags": []
   },
   "source": [
    "Load in the text from the folders."
   ]
  },
  {
   "cell_type": "code",
   "execution_count": 8,
   "metadata": {
    "editable": false,
    "id": "HI3VdrTnIKTO",
    "tags": [
     "raises-exception"
    ],
    "ExecuteTime": {
     "end_time": "2025-02-04T23:42:02.765760Z",
     "start_time": "2025-02-04T23:42:02.738870Z"
    }
   },
   "outputs": [],
   "source": [
    "def load_text_from_folders(path, file_list, dataset, samples = 2000, stem_and_remove_stop_words = True):\n",
    "    \"\"\"Read set of files from given directory and save returned lines to list.\n",
    "\n",
    "    Parameters\n",
    "    ----------\n",
    "    path : str\n",
    "        Absolute or relative path to given file (or set of files).\n",
    "    file_list: list\n",
    "        List of files names to read.\n",
    "    dataset: list\n",
    "        List that stores read lines.\n",
    "    samples: int\n",
    "        Number of samples in the output\n",
    "    \"\"\"\n",
    "    for i, file in enumerate(file_list):\n",
    "        if i >= samples:\n",
    "            break\n",
    "        with open(os.path.join(path, file), 'r', encoding='utf8') as text:\n",
    "            contents = text.read()\n",
    "            contents_tokenized = tokenize_and_clean(contents, stem_and_remove_stop_words=stem_and_remove_stop_words)\n",
    "            dataset.append(contents_tokenized)"
   ]
  },
  {
   "cell_type": "markdown",
   "metadata": {
    "editable": false,
    "id": "_8KuCNoXIKTO",
    "tags": []
   },
   "source": [
    "# Creating training and test sets\n",
    "\n",
    "This creates four arrays:\n",
    "\n",
    "\n",
    "*   ```train_pos``` -- instances in the training set with positive sentiment labels\n",
    "*   ```train_neg``` -- instances in the training set with negative sentiment labels\n",
    "*   ```test_pos``` -- instances in the testing set with positive sentiment labels\n",
    "*   ```test_neg``` -- instances in the testing set with negative sentiment labels\n",
    "\n",
    "\n",
    "\n"
   ]
  },
  {
   "cell_type": "code",
   "execution_count": 9,
   "metadata": {
    "editable": false,
    "id": "4Nv5FvBIIKTO",
    "tags": [
     "raises-exception"
    ],
    "ExecuteTime": {
     "end_time": "2025-02-04T23:42:12.844366Z",
     "start_time": "2025-02-04T23:42:02.743173Z"
    }
   },
   "outputs": [],
   "source": [
    "# Path to dataset location\n",
    "path = 'aclImdb/'\n",
    "\n",
    "# Create lists that will contain read lines\n",
    "train_pos, train_neg, test_pos, test_neg = [], [], [], []\n",
    "\n",
    "# Create a dictionary of paths and lists that store lines (key: value = path: list)\n",
    "sets_dict = {'train/pos/': train_pos, 'train/neg/': train_neg,\n",
    "             'test/pos/': test_pos, 'test/neg/': test_neg}\n",
    "\n",
    "# Load the data\n",
    "for dataset in sets_dict:\n",
    "  file_list = [f for f in sorted(os.listdir(os.path.join(path, dataset))) if f.endswith('.txt')]\n",
    "  load_text_from_folders(os.path.join(path, dataset), file_list, sets_dict[dataset])"
   ]
  },
  {
   "cell_type": "markdown",
   "metadata": {
    "editable": false,
    "id": "3t5nCE_xpvx7",
    "tags": []
   },
   "source": [
    "Convert into Pandas dataframes. Pandas is a virtual spreadsheet with a programmatic API. A ```DataFrame``` is a spreadsheet. We will make a spreadsheet of training data and one for testing data and one with everything together."
   ]
  },
  {
   "cell_type": "code",
   "execution_count": 10,
   "metadata": {
    "editable": false,
    "id": "kovNgXqIIKTP",
    "tags": [
     "raises-exception"
    ],
    "ExecuteTime": {
     "end_time": "2025-02-04T23:42:12.849877Z",
     "start_time": "2025-02-04T23:42:12.848003Z"
    }
   },
   "outputs": [],
   "source": [
    "# Concatenate training and testing examples into one dataset\n",
    "TRAIN = pd.concat([pd.DataFrame({'review': train_pos, 'label':1}),\n",
    "                     pd.DataFrame({'review': train_neg, 'label':0})],\n",
    "                     axis=0, ignore_index=True)\n",
    "\n",
    "TEST = pd.concat([pd.DataFrame({'review': test_pos, 'label':1}),\n",
    "                    pd.DataFrame({'review': test_neg, 'label':0})],\n",
    "                    axis=0, ignore_index=True)\n",
    "\n",
    "ALL = pd.concat([TRAIN, TEST])"
   ]
  },
  {
   "cell_type": "markdown",
   "metadata": {
    "editable": false,
    "id": "CKUFtqERp79N",
    "tags": []
   },
   "source": [
    "Look at the data.\n",
    "\n",
    "This is a summary of the data. We see that the data is balanced between labels"
   ]
  },
  {
   "cell_type": "code",
   "execution_count": 11,
   "metadata": {
    "editable": false,
    "id": "0xPnt_CDIKTP",
    "tags": [
     "raises-exception"
    ],
    "ExecuteTime": {
     "end_time": "2025-02-04T23:42:12.855039Z",
     "start_time": "2025-02-04T23:42:12.850140Z"
    }
   },
   "outputs": [
    {
     "data": {
      "text/plain": "label\n1    2000\n0    2000\nName: count, dtype: int64"
     },
     "execution_count": 11,
     "metadata": {},
     "output_type": "execute_result"
    }
   ],
   "source": [
    "TRAIN.label.value_counts()"
   ]
  },
  {
   "cell_type": "markdown",
   "metadata": {
    "editable": false,
    "id": "QlV_TMBLqOYB",
    "tags": []
   },
   "source": [
    "This is the first few rows of the training set:"
   ]
  },
  {
   "cell_type": "code",
   "execution_count": 12,
   "outputs": [
    {
     "data": {
      "text/plain": "                                              review  label\n0  [bromwel, high, cartoon, comedi, ran, time, pr...      1\n1  [bromwel, high, cartoon, comedi, ran, time, pr...      1\n2  [homeless, houseless, georg, carlin, state, is...      1\n3  [brilliant, act, lesley, ann, warren, best, dr...      1\n4  [easili, underr, film, inn, brook, cannon, sur...      1",
      "text/html": "<div>\n<style scoped>\n    .dataframe tbody tr th:only-of-type {\n        vertical-align: middle;\n    }\n\n    .dataframe tbody tr th {\n        vertical-align: top;\n    }\n\n    .dataframe thead th {\n        text-align: right;\n    }\n</style>\n<table border=\"1\" class=\"dataframe\">\n  <thead>\n    <tr style=\"text-align: right;\">\n      <th></th>\n      <th>review</th>\n      <th>label</th>\n    </tr>\n  </thead>\n  <tbody>\n    <tr>\n      <th>0</th>\n      <td>[bromwel, high, cartoon, comedi, ran, time, pr...</td>\n      <td>1</td>\n    </tr>\n    <tr>\n      <th>1</th>\n      <td>[bromwel, high, cartoon, comedi, ran, time, pr...</td>\n      <td>1</td>\n    </tr>\n    <tr>\n      <th>2</th>\n      <td>[homeless, houseless, georg, carlin, state, is...</td>\n      <td>1</td>\n    </tr>\n    <tr>\n      <th>3</th>\n      <td>[brilliant, act, lesley, ann, warren, best, dr...</td>\n      <td>1</td>\n    </tr>\n    <tr>\n      <th>4</th>\n      <td>[easili, underr, film, inn, brook, cannon, sur...</td>\n      <td>1</td>\n    </tr>\n  </tbody>\n</table>\n</div>"
     },
     "execution_count": 12,
     "metadata": {},
     "output_type": "execute_result"
    }
   ],
   "source": [
    "TRAIN.head()"
   ],
   "metadata": {
    "collapsed": false,
    "ExecuteTime": {
     "end_time": "2025-02-04T23:42:12.861461Z",
     "start_time": "2025-02-04T23:42:12.855405Z"
    }
   }
  },
  {
   "cell_type": "markdown",
   "metadata": {
    "editable": false,
    "id": "3jP5U6usIKTR",
    "tags": []
   },
   "source": [
    "# Creating a vocabulary file\n",
    "\n",
    "Next, we have to build a vocabulary. This is effectively a look-up table where every unique word in your data set has a corresponding index (an integer).\n",
    "We do this as our machine learning model cannot operate on strings, but only numbers. Each index is used to construct a one-hot vector for each word."
   ]
  },
  {
   "cell_type": "code",
   "execution_count": 13,
   "metadata": {
    "editable": false,
    "id": "Oz6hQlCgqckU",
    "tags": [
     "raises-exception"
    ],
    "ExecuteTime": {
     "end_time": "2025-02-04T23:42:12.898295Z",
     "start_time": "2025-02-04T23:42:12.870065Z"
    }
   },
   "outputs": [],
   "source": [
    "class Vocab:\n",
    "    def __init__(self, name):\n",
    "        self.name = name\n",
    "        self._word2index = {}\n",
    "        self._word2count = {}\n",
    "        self._index2word = {}\n",
    "        self._n_words = 0\n",
    "\n",
    "    def get_words(self):\n",
    "      return list(self._word2count.keys())\n",
    "\n",
    "    def num_words(self):\n",
    "      return self._n_words\n",
    "\n",
    "    def word2index(self, word):\n",
    "      return self._word2index[word]\n",
    "\n",
    "    def index2word(self, word):\n",
    "      return self._index2word[word]\n",
    "\n",
    "    def word2count(self, word):\n",
    "      return self._word2count[word]\n",
    "\n",
    "    def add_sentence(self, sentence):\n",
    "        for word in sentence.split(' '):\n",
    "            self.add_word(word)\n",
    "\n",
    "    def add_word(self, word):\n",
    "        if word not in self._word2index:\n",
    "            self._word2index[word] = self._n_words\n",
    "            self._word2count[word] = 1\n",
    "            self._index2word[self._n_words] = word\n",
    "            self._n_words += 1\n",
    "        else:\n",
    "            self._word2count[word] += 1"
   ]
  },
  {
   "cell_type": "markdown",
   "metadata": {
    "editable": false,
    "id": "UT7oI7pXw9wA",
    "tags": []
   },
   "source": [
    "Make a vocab object."
   ]
  },
  {
   "cell_type": "code",
   "execution_count": 14,
   "metadata": {
    "editable": false,
    "id": "-FLxtGNgw79Q",
    "tags": [
     "raises-exception"
    ],
    "ExecuteTime": {
     "end_time": "2025-02-04T23:42:12.898466Z",
     "start_time": "2025-02-04T23:42:12.873991Z"
    }
   },
   "outputs": [],
   "source": [
    "VOCAB = Vocab(\"imdb\")\n",
    "VOCAB_SIZE = 1000\n",
    "NUM_LABELS = 2"
   ]
  },
  {
   "cell_type": "markdown",
   "metadata": {
    "editable": false,
    "id": "ggqgPtCSxAG-",
    "tags": []
   },
   "source": [
    "Load the first ```n``` frequent words in the vocabulary. Do this by sorting by frequency and then truncating."
   ]
  },
  {
   "cell_type": "code",
   "execution_count": 15,
   "metadata": {
    "editable": false,
    "id": "DAiKNELzwC2T",
    "tags": [
     "raises-exception"
    ],
    "ExecuteTime": {
     "end_time": "2025-02-04T23:42:13.436055Z",
     "start_time": "2025-02-04T23:42:12.894236Z"
    }
   },
   "outputs": [],
   "source": [
    "# Get word frequency counts\n",
    "word_freq_dict = {}   # key = word, value = frequency\n",
    "for review in ALL['review']:\n",
    "  for word in review:\n",
    "    if word in word_freq_dict:\n",
    "      word_freq_dict[word] += 1\n",
    "    else:\n",
    "      word_freq_dict[word] = 1\n",
    "\n",
    "# Get a list of (word, freq) tuples sorted by frequency\n",
    "kv_list = []  # list of word-freq tuples so can sort\n",
    "for (k,v) in word_freq_dict.items():\n",
    "  kv_list.append((k,v))\n",
    "sorted_kv_list = sorted(kv_list, key=lambda x: x[1], reverse=True)\n",
    "\n",
    "# Load top n words in to vocab object\n",
    "for word, freq in sorted_kv_list[:VOCAB_SIZE]:\n",
    "  VOCAB.add_word(word)"
   ]
  },
  {
   "cell_type": "markdown",
   "metadata": {
    "editable": false,
    "id": "hvh0yHT_IKTi",
    "tags": []
   },
   "source": [
    "# Naive Bayes\n",
    "Naive Bayes Algorithm is based on the Bayes Rule which describes the probability of an event,\n",
    "based on prior knowledge of conditions that might be related to the event.\n",
    "\n",
    "According to Bayes theorem:\n",
    "\n",
    "\n",
    "```Posterior = likelihood * proposition/evidence```\n",
    "\n",
    "or\n",
    "\n",
    "```P(A|B) = P(B|A) * P(A)/P(B)```\n"
   ]
  },
  {
   "cell_type": "markdown",
   "metadata": {
    "editable": false,
    "id": "vELAfeWDRrNq",
    "tags": []
   },
   "source": [
    "Using word presence as features, create an array of features for each review. Each review will thus be an array of size ```len(vocab)``` where each index in the array is a token number and the value in that position is whether the token is present in the review. There will be ```num_rows``` arrays, making a ```num_rows x len(vocab)``` 2D array."
   ]
  },
  {
   "cell_type": "markdown",
   "metadata": {
    "editable": false,
    "id": "DFf6zYmozBtc",
    "tags": []
   },
   "source": [
    "This function creates a bag of words. It returns a vector where each element is a count of the words in the sentence corresponding to the word index."
   ]
  },
  {
   "cell_type": "code",
   "execution_count": 16,
   "metadata": {
    "editable": false,
    "id": "DKCwfenwIKTw",
    "tags": [
     "raises-exception"
    ],
    "ExecuteTime": {
     "end_time": "2025-02-04T23:42:13.436193Z",
     "start_time": "2025-02-04T23:42:13.039924Z"
    }
   },
   "outputs": [],
   "source": [
    "def make_bow(sentence):\n",
    "    vec = torch.zeros(VOCAB_SIZE, dtype=torch.float64)\n",
    "    for word in sentence:\n",
    "        if word not in VOCAB.get_words():\n",
    "            continue\n",
    "        vec[VOCAB.word2index(word)] += 1\n",
    "    return vec.view(1, -1)"
   ]
  },
  {
   "cell_type": "markdown",
   "metadata": {
    "editable": false,
    "id": "NHweI8gPzOdh",
    "tags": []
   },
   "source": [
    "Prepare data ```X_TRAIN``` is a 2D array of size ```num_reviews x vocab_size``` that contains training data. Each row will be a bag of words, except each index contains a 1 or 0 based on word presence in the example. Each row is a vector of features $\\phi_1 ... \\phi_{|V|}$ assumed to be independent, where $|V|$ is size of the vocabulary. We don't need to know what the features are, only whether they are present in each example in the training set.\n",
    "\n",
    "```X_TEST``` is the same as above but containing testing data.\n",
    "\n"
   ]
  },
  {
   "cell_type": "code",
   "execution_count": 17,
   "metadata": {
    "editable": false,
    "id": "c30F5ZwyIKTw",
    "tags": [
     "raises-exception"
    ],
    "ExecuteTime": {
     "end_time": "2025-02-04T23:42:21.153744Z",
     "start_time": "2025-02-04T23:42:13.042696Z"
    }
   },
   "outputs": [],
   "source": [
    "# Vectorize text reviews to numbers\n",
    "# Make empty vectors\n",
    "X_TRAIN = np.zeros((len(TRAIN), VOCAB_SIZE))\n",
    "X_TEST = np.zeros((len(TEST), VOCAB_SIZE))\n",
    "\n",
    "# Load in frequency counts\n",
    "for i, row in TRAIN.iterrows():\n",
    "    X_TRAIN[i] = np.array(make_bow(row['review'])) > 0 # The > 0 converts to presence instead of counts\n",
    "\n",
    "for i, row in TEST.iterrows():\n",
    "    X_TEST[i] = np.array(make_bow(row['review'])) > 0 # The > 0 converts to presence instead of counts\n",
    "\n",
    "# The labels\n",
    "Y_TRAIN = np.array(TRAIN['label'])\n",
    "Y_TEST = np.array(TEST['label'])"
   ]
  },
  {
   "cell_type": "markdown",
   "source": [
    "What you want to do is to compute probabilities over the training data and then apply those probabilities to the testing examples. Use the Bayes formula to compute $P_{\\rm test}(L_{+}|\\phi_{0:|V|})$ and $P_{\\rm test}(L_{-}|\\phi_{0:|V|})$ for each review. Classify examples based on whether one probability is higher than another. That is, $sign(P_{\\rm test}(L_{+}|\\phi_{0:|V|}) - P_{\\rm test}(L_{-}|\\phi_{0:|V|}))$ indicates a positive review when greater than 0 and a negative review when less than 0.\n",
    "\n",
    "**Hint:** You do not need to implement any loops. Numpy indexing and slicing operations, along with built in functions like `.mean()`, `.sum()`, etc. will allow all operations to be performed on each row of the data in parallel."
   ],
   "metadata": {
    "collapsed": false
   }
  },
  {
   "cell_type": "markdown",
   "source": [
    "Step 1: Compute the positive label condition:\n",
    "$P(L_{+}|\\phi_{0:|V|}) = P(\\phi_{0:|V|}|L_{+})P(L_{+}) / P(\\phi_{0:|V|})$"
   ],
   "metadata": {
    "collapsed": false
   }
  },
  {
   "cell_type": "code",
   "execution_count": 18,
   "outputs": [
    {
     "data": {
      "text/plain": "' Same as above but for negative label '"
     },
     "execution_count": 18,
     "metadata": {},
     "output_type": "execute_result"
    }
   ],
   "source": [
    "''' NAIVE BAYES '''\n",
    "# POSTERIOR = LIKELIHOOD * PRIOR / EVIDENCE\n",
    "    \n",
    "''' PROBABILITY TERMS '''\n",
    "# - POSTERIOR:  P(L+ | phi_0:|V|)   How likely is a + review given a word\n",
    "# - LIKELIHOOD: P(phi_0:|V| | L+)   How likely is the word given a + review\n",
    "# - PRIOR:      P(L+)               How likely is a + review\n",
    "# - EVIDENCE:   P(phi_0:|V|)        # How likely is the word in general\n",
    "''' NOTE: Ignore the evidence term because does not affect the classification.'''\n",
    "\n",
    "\n",
    "''' USING LOG PROBABILITIES'''\n",
    "# LOG_POSTERIOR = LOG_LIKELIHOOD + LOG_PRIOR\n",
    "\n",
    "# - LOG_LIKELIHOOD = log(P(phi_0:|V| | L+))\n",
    "#   P(phi_0:|V| | L+) = sum(log(P(phi_i | L+)))     for i = 0 to |V|\n",
    "#   P(phi_i | L+) = (# of + reviews with word_i) / (# of + reviews)\n",
    "#   Smoothing: add 1 to the numerator and add |V| to the denominator\n",
    "\n",
    "# - LOG_PRIOR = log(P(L+))\n",
    "#   P(L+) = # of + reviews / total # of reviews\n",
    "\n",
    "''' Same as above but for negative label ''' "
   ],
   "metadata": {
    "collapsed": false,
    "ExecuteTime": {
     "end_time": "2025-02-04T23:42:21.157055Z",
     "start_time": "2025-02-04T23:42:21.154477Z"
    }
   }
  },
  {
   "cell_type": "code",
   "execution_count": 19,
   "metadata": {
    "editable": true,
    "id": "AwAAV9Zq7YbI",
    "nbgrader": {
     "grade": false,
     "grade_id": "cell-4e927fe9f8caf96a",
     "locked": false,
     "schema_version": 3,
     "solution": true,
     "task": false
    },
    "tags": [
     "raises-exception"
    ],
    "ExecuteTime": {
     "end_time": "2025-02-04T23:42:21.160098Z",
     "start_time": "2025-02-04T23:42:21.157718Z"
    }
   },
   "outputs": [],
   "source": [
    "def prob_pos_given_features(x_train, y_train):\n",
    "    log_probs = np.array([0] * x_train.shape[1])\n",
    "    \n",
    "    ### BEGIN SOLUTION \n",
    "    \n",
    "    # SELECT LABEL\n",
    "    label = 1\n",
    "    label_idxs = np.where(y_train == label)[0]\n",
    "\n",
    "    # COUNT WORD OCCURRENCES IN FILTERED REVIEWS\n",
    "    filtered_reviews = x_train[label_idxs]\n",
    "    word_counts = filtered_reviews.sum(axis=0) \n",
    "    total_count = len(label_idxs)\n",
    "\n",
    "    # PROBABILITY: P_smooth(phi_i | L)\n",
    "    p_smooth = (1 + word_counts) / (x_train.shape[1] + total_count)\n",
    "    p_label = len(label_idxs) / y_train.shape[0]\n",
    "    log_probs = np.log(p_smooth) + np.log(p_label)  \n",
    "    \n",
    "    ### END SOLUTION\n",
    "\n",
    "    return log_probs"
   ]
  },
  {
   "cell_type": "markdown",
   "metadata": {
    "editable": false,
    "id": "5eeKepgkNpNa",
    "tags": []
   },
   "source": [
    "Step 2: Compute the negative label condition:\n",
    "$P(L_{-}|\\phi_{0:|V|}) = P(\\phi_{0:|V|}|L_{-})P(L_{-}) / P(\\phi_{0:|V|})$"
   ]
  },
  {
   "cell_type": "code",
   "execution_count": 20,
   "metadata": {
    "editable": true,
    "id": "nWP9U3BuMess",
    "nbgrader": {
     "grade": false,
     "grade_id": "cell-996c909da2d8b8bd",
     "locked": false,
     "schema_version": 3,
     "solution": true,
     "task": false
    },
    "tags": [
     "raises-exception"
    ],
    "ExecuteTime": {
     "end_time": "2025-02-04T23:42:21.163263Z",
     "start_time": "2025-02-04T23:42:21.160851Z"
    }
   },
   "outputs": [],
   "source": [
    "def prob_neg_given_features(x_train, y_train):\n",
    "    log_probs = np.array([0] * x_train.shape[1])\n",
    "    # ### BEGIN SOLUTION\n",
    "    \n",
    "    # SELECT LABEL\n",
    "    label = 0\n",
    "    label_idxs = np.where(y_train == label)[0]\n",
    "\n",
    "    # COUNT WORD OCCURRENCES IN FILTERED REVIEWS\n",
    "    filtered_reviews = x_train[label_idxs]\n",
    "    word_counts = filtered_reviews.sum(axis=0) \n",
    "    total_count = len(label_idxs)\n",
    "\n",
    "    # PROBABILITY: P_smooth(phi_i | L)\n",
    "    p_smooth = (1 + word_counts) / (x_train.shape[1] + total_count)\n",
    "    p_label = len(label_idxs) / y_train.shape[0]\n",
    "    log_probs = np.log(p_smooth) + np.log(p_label)  \n",
    "    \n",
    "    ### END SOLUTION\n",
    "    \n",
    "    return log_probs"
   ]
  },
  {
   "cell_type": "code",
   "execution_count": 21,
   "metadata": {
    "editable": false,
    "id": "ZXdgx0Ku9sYq",
    "tags": [
     "raises-exception"
    ],
    "ExecuteTime": {
     "end_time": "2025-02-04T23:42:21.169728Z",
     "start_time": "2025-02-04T23:42:21.163594Z"
    }
   },
   "outputs": [],
   "source": [
    "pos_probs = prob_pos_given_features(X_TRAIN, Y_TRAIN)\n",
    "neg_probs = prob_neg_given_features(X_TRAIN, Y_TRAIN)"
   ]
  },
  {
   "cell_type": "markdown",
   "metadata": {
    "editable": false,
    "id": "q9wbtxDZNuj3",
    "tags": []
   },
   "source": [
    "Step 3: Make a label prediction. Subtract (in log scale) the positive from the negative. If the result is greater than zero then it is a prediction of `+` label. If the result is less thn zero then we make a prediction of `-` label."
   ]
  },
  {
   "cell_type": "code",
   "execution_count": 22,
   "metadata": {
    "editable": true,
    "id": "xaz7KBdd_CD1",
    "nbgrader": {
     "grade": false,
     "grade_id": "cell-7b4cde57fd68ac07",
     "locked": false,
     "schema_version": 3,
     "solution": true,
     "task": false
    },
    "tags": [
     "raises-exception"
    ],
    "ExecuteTime": {
     "end_time": "2025-02-04T23:42:21.172772Z",
     "start_time": "2025-02-04T23:42:21.170556Z"
    }
   },
   "outputs": [],
   "source": [
    "def naive_bayes(x, pos_probs, neg_probs):\n",
    "    label = 0\n",
    "    ### BEGIN SOLUTION\n",
    "    pos_score = x @ pos_probs\n",
    "    neg_score = x @ neg_probs\n",
    "    \n",
    "    diff = pos_score - neg_score\n",
    "    label = 1 if diff >= 0 else label\n",
    "    ### END SOLUTION\n",
    "    \n",
    "    return label"
   ]
  },
  {
   "cell_type": "markdown",
   "metadata": {
    "editable": false,
    "id": "VUOFzFVU_is3",
    "tags": []
   },
   "source": [
    "# Naive Bayes Test (20 Points)"
   ]
  },
  {
   "cell_type": "code",
   "execution_count": 23,
   "metadata": {
    "editable": false,
    "id": "T1rcPgnWP_6V",
    "tags": [
     "raises-exception"
    ],
    "ExecuteTime": {
     "end_time": "2025-02-04T23:42:21.203782Z",
     "start_time": "2025-02-04T23:42:21.172747Z"
    }
   },
   "outputs": [
    {
     "name": "stdout",
     "output_type": "stream",
     "text": [
      "Accuracy:  0.86175\n",
      "Test A: 20/20\n"
     ]
    }
   ],
   "source": [
    "# student check - accuracies >= 78% will receive full credit (no credit for less than 78%)\n",
    "ag.test_naive_bayes(X_TRAIN, Y_TRAIN, X_TEST, Y_TEST)"
   ]
  },
  {
   "cell_type": "markdown",
   "metadata": {
    "editable": false,
    "id": "hUTymITZIKT5",
    "tags": []
   },
   "source": [
    "# Logistic Regression - Part 1\n",
    "\n",
    "We will be using a neural network to perform logistic regression. We will use word counts as the input feature vector.\n"
   ]
  },
  {
   "cell_type": "markdown",
   "metadata": {
    "editable": false,
    "id": "DWKJNb2CXhe5",
    "tags": []
   },
   "source": [
    "Reload the data, but use word counts instead of word presence."
   ]
  },
  {
   "cell_type": "code",
   "execution_count": 24,
   "metadata": {
    "editable": false,
    "id": "sBjsMbDSIKT6",
    "tags": [
     "raises-exception"
    ],
    "ExecuteTime": {
     "end_time": "2025-02-04T23:42:29.332514Z",
     "start_time": "2025-02-04T23:42:21.192679Z"
    }
   },
   "outputs": [],
   "source": [
    "# Randomize the data\n",
    "TRAIN = TRAIN.sample(frac=1).reset_index(drop=True)\n",
    "TEST = TEST.sample(frac=1).reset_index(drop=True)\n",
    "\n",
    "# Vectorize text reviews to numbers\n",
    "X_TRAIN = np.zeros((len(TRAIN), VOCAB_SIZE))\n",
    "X_TEST = np.zeros((len(TEST), VOCAB_SIZE))\n",
    "\n",
    "for i, row in TRAIN.iterrows():\n",
    "  X_TRAIN[i] = np.array(make_bow(row['review']))\n",
    "\n",
    "for i, row in TEST.iterrows():\n",
    "  X_TEST[i] = np.array(make_bow(row['review']))\n",
    "\n",
    "Y_TRAIN = np.array(TRAIN['label'])\n",
    "Y_TEST = np.array(TEST['label'])"
   ]
  },
  {
   "cell_type": "markdown",
   "metadata": {
    "editable": false,
    "id": "mSBC93Ge6F1e",
    "tags": []
   },
   "source": [
    "Make a logistic classifier torch neural network.\n",
    "\n",
    "Complete the constructor and forward function. The net will take an arbitrary number of outputs, but for binary logistic regression, only one is needed because the single output neuron can take a value that is between 0 and 1, with 0 meaning negative sentiment and 1 meaning positive sentiment. There should only be as many parameters as ```num_features x (num_labels-1)``` in binary logistic regression and ```num_features x num_labels``` for multinomial logistic regression.\n",
    "\n",
    "The input will be a one-hot vector of size `vocab_size`."
   ]
  },
  {
   "cell_type": "code",
   "execution_count": 25,
   "outputs": [],
   "source": [
    "# Defining neural network structure\n",
    "class BoWClassifier(nn.Module):  # inheriting from nn.Module!\n",
    "\n",
    "  def __init__(self, num_labels, vocab_size):\n",
    "    super(BoWClassifier, self).__init__()\n",
    "\n",
    "    # BEGIN SOLUTION\n",
    "    self.linear = nn.Linear(vocab_size, num_labels)\n",
    "    # END SOLUTION\n",
    "\n",
    "  def forward(self, bow_vec):\n",
    "    # BEGIN SOLUTION\n",
    "    out = self.linear(bow_vec)\n",
    "    out = torch.sigmoid(out)  \n",
    "    # END SOLUTION\n",
    "    \n",
    "    return out"
   ],
   "metadata": {
    "collapsed": false,
    "ExecuteTime": {
     "end_time": "2025-02-04T23:42:29.336751Z",
     "start_time": "2025-02-04T23:42:29.333752Z"
    }
   }
  },
  {
   "cell_type": "code",
   "execution_count": 26,
   "outputs": [],
   "source": [
    "# Initialize the model\n",
    "# Use one label because the head can signify a 1 or 0 because of the sigmoid.\n",
    "bow_nn_model = BoWClassifier(NUM_LABELS-1, VOCAB_SIZE)"
   ],
   "metadata": {
    "collapsed": false,
    "ExecuteTime": {
     "end_time": "2025-02-04T23:42:29.339680Z",
     "start_time": "2025-02-04T23:42:29.336100Z"
    }
   }
  },
  {
   "cell_type": "code",
   "execution_count": 27,
   "outputs": [
    {
     "data": {
      "text/plain": "BoWClassifier(\n  (linear): Linear(in_features=1000, out_features=1, bias=True)\n)"
     },
     "execution_count": 27,
     "metadata": {},
     "output_type": "execute_result"
    }
   ],
   "source": [
    "bow_nn_model"
   ],
   "metadata": {
    "collapsed": false,
    "ExecuteTime": {
     "end_time": "2025-02-04T23:42:29.342371Z",
     "start_time": "2025-02-04T23:42:29.339358Z"
    }
   }
  },
  {
   "cell_type": "markdown",
   "metadata": {
    "editable": false,
    "id": "xaBdfHfDQ5oI",
    "tags": []
   },
   "source": [
    "This function should return two tensors. The first, containing training data, shoud be of size ```batch_size x vocab_size``` for the ```i```th batch. The second should be a list of labels of size ```batch_size```. Both tensors should be of type ```dtype=torch.float```."
   ]
  },
  {
   "cell_type": "code",
   "execution_count": 28,
   "metadata": {
    "editable": true,
    "id": "RPxjUwUTPZTq",
    "nbgrader": {
     "grade": false,
     "grade_id": "cell-abf634c3a00755c7",
     "locked": false,
     "schema_version": 3,
     "solution": true,
     "task": false
    },
    "tags": [
     "raises-exception"
    ],
    "ExecuteTime": {
     "end_time": "2025-02-04T23:42:29.345728Z",
     "start_time": "2025-02-04T23:42:29.342888Z"
    }
   },
   "outputs": [],
   "source": [
    "def get_batch(i, batch_size, x_data, y_data):\n",
    "    # Make some empty tensors\n",
    "    x = None\n",
    "    y = None\n",
    "    \n",
    "    ### BEGIN SOLUTION\n",
    "    start = i * batch_size\n",
    "    end = min(start + batch_size, len(x_data))\n",
    "    \n",
    "    # TENSORS: X(batch_size, vocab_size), Y(batch_size)\n",
    "    x = torch.tensor(x_data[start:end], dtype=torch.float)\n",
    "    y = torch.tensor(y_data[start:end], dtype=torch.float)\n",
    "    ### END SOLUTION\n",
    "    \n",
    "    return x, y"
   ]
  },
  {
   "cell_type": "markdown",
   "metadata": {
    "editable": false,
    "id": "2eMh98LwOwv_",
    "tags": []
   },
   "source": [
    "# Logistic Regression - Part 1 Test (20 Points)"
   ]
  },
  {
   "cell_type": "code",
   "execution_count": 29,
   "metadata": {
    "editable": false,
    "id": "tp-B0qeXNnyo",
    "tags": [
     "raises-exception"
    ],
    "ExecuteTime": {
     "end_time": "2025-02-04T23:42:29.350378Z",
     "start_time": "2025-02-04T23:42:29.345379Z"
    }
   },
   "outputs": [
    {
     "name": "stdout",
     "output_type": "stream",
     "text": [
      "Output shape looks good!\n",
      "Test B: 5/5\n"
     ]
    }
   ],
   "source": [
    "# student check\n",
    "ag.test_batch_output_shape(get_batch, X_TRAIN, Y_TRAIN, VOCAB_SIZE)"
   ]
  },
  {
   "cell_type": "code",
   "execution_count": 30,
   "metadata": {
    "editable": false,
    "id": "FdPVSLtrN_2k",
    "tags": [
     "raises-exception"
    ],
    "ExecuteTime": {
     "end_time": "2025-02-04T23:42:29.385441Z",
     "start_time": "2025-02-04T23:42:29.351236Z"
    }
   },
   "outputs": [
    {
     "name": "stdout",
     "output_type": "stream",
     "text": [
      "Model has the expected number of layers.\n",
      "Test C: 5/5\n",
      "First layer is a Linear layer.\n",
      "Test D: 5/5\n"
     ]
    }
   ],
   "source": [
    "# student check - your model must have the expected number of layers to receive full credit, no credit otherwise\n",
    "ag.check_bow_architecture(bow_nn_model)"
   ]
  },
  {
   "cell_type": "code",
   "execution_count": 31,
   "metadata": {
    "editable": false,
    "id": "FOYrmRVUj7g7",
    "tags": [
     "raises-exception"
    ],
    "ExecuteTime": {
     "end_time": "2025-02-04T23:42:29.386199Z",
     "start_time": "2025-02-04T23:42:29.354885Z"
    }
   },
   "outputs": [
    {
     "name": "stdout",
     "output_type": "stream",
     "text": [
      "Forward pass output shape looks good!\n",
      "Test E: 5/5\n"
     ]
    }
   ],
   "source": [
    "# student check\n",
    "ag.test_forward_pass_shape(X_TRAIN, Y_TRAIN, bow_nn_model)"
   ]
  },
  {
   "cell_type": "markdown",
   "metadata": {
    "editable": false,
    "id": "rN5v9cjKif_H",
    "tags": []
   },
   "source": [
    "# Logistic Regression - Part 2\n",
    "\n",
    "Create a dataset as an array of (X_train, label).\n",
    "\n",
    "Complete ```get_batch(i)``` and set ```batch_size``` and ```num_epochs```.\n",
    "\n",
    "Training loop will call ```get_batch()``` with the iteration number and do everything else.\n"
   ]
  },
  {
   "cell_type": "code",
   "execution_count": 32,
   "metadata": {
    "editable": false,
    "id": "paJEFuigIKT-",
    "tags": [
     "raises-exception"
    ],
    "ExecuteTime": {
     "end_time": "2025-02-04T23:42:29.386338Z",
     "start_time": "2025-02-04T23:42:29.360267Z"
    }
   },
   "outputs": [],
   "source": [
    "# Train the model\n",
    "def train(model, train_data, test_data, epochs, batch_size):\n",
    "  n_iter = len(train_data) // batch_size\n",
    "  print(n_iter, 'batches per epoch')\n",
    "  # Loss Function\n",
    "  loss_function = nn.BCELoss()\n",
    "  # Optimizer initlialization\n",
    "  optimizer = optim.SGD(bow_nn_model.parameters(), lr=0.1)\n",
    "\n",
    "  for epoch in range(epochs):\n",
    "    # Make BOW vector for input features and target label\n",
    "    for i in range(n_iter):\n",
    "      x, y = get_batch(i, batch_size, train_data, test_data)\n",
    "\n",
    "      # Step 3. Run the forward pass.\n",
    "      y_hat = model(x)\n",
    "      y_hat = y_hat.reshape(-1)\n",
    "\n",
    "      # Step 4. Compute the loss, gradients, and update the parameters by\n",
    "      loss = loss_function(y_hat,y)\n",
    "      optimizer.zero_grad()\n",
    "      loss.backward()\n",
    "      optimizer.step()\n",
    "\n",
    "      if (epoch+1)%10 == 0 and (i+1) == n_iter:\n",
    "        print('epoch:', epoch+1,',loss =',loss.item(), ', training accuracy =',(torch.round(y_hat)==y).float().mean())\n",
    "  return model"
   ]
  },
  {
   "cell_type": "code",
   "execution_count": 33,
   "metadata": {
    "editable": true,
    "id": "gzD90s3KQgJd",
    "tags": [
     "raises-exception"
    ],
    "ExecuteTime": {
     "end_time": "2025-02-04T23:42:29.386409Z",
     "start_time": "2025-02-04T23:42:29.362623Z"
    }
   },
   "outputs": [],
   "source": [
    "# It's ok to modify this cell.\n",
    "BATCH_SIZE = 100\n",
    "N_EPOCHS = 1000"
   ]
  },
  {
   "cell_type": "code",
   "execution_count": 34,
   "outputs": [
    {
     "name": "stdout",
     "output_type": "stream",
     "text": [
      "40 batches per epoch\n",
      "epoch: 10 ,loss = 0.2610127627849579 , training accuracy = tensor(0.9000)\n",
      "epoch: 20 ,loss = 0.2115323692560196 , training accuracy = tensor(0.9300)\n",
      "epoch: 30 ,loss = 0.1852746158838272 , training accuracy = tensor(0.9400)\n",
      "epoch: 40 ,loss = 0.1676221340894699 , training accuracy = tensor(0.9500)\n",
      "epoch: 50 ,loss = 0.15462158620357513 , training accuracy = tensor(0.9500)\n",
      "epoch: 60 ,loss = 0.14451341331005096 , training accuracy = tensor(0.9700)\n",
      "epoch: 70 ,loss = 0.13635000586509705 , training accuracy = tensor(0.9700)\n",
      "epoch: 80 ,loss = 0.1295657902956009 , training accuracy = tensor(0.9700)\n",
      "epoch: 90 ,loss = 0.12379904836416245 , training accuracy = tensor(0.9700)\n",
      "epoch: 100 ,loss = 0.11880707740783691 , training accuracy = tensor(0.9800)\n",
      "epoch: 110 ,loss = 0.11442063003778458 , training accuracy = tensor(0.9800)\n",
      "epoch: 120 ,loss = 0.1105181872844696 , training accuracy = tensor(0.9800)\n",
      "epoch: 130 ,loss = 0.10701003670692444 , training accuracy = tensor(0.9800)\n",
      "epoch: 140 ,loss = 0.10382857173681259 , training accuracy = tensor(0.9800)\n",
      "epoch: 150 ,loss = 0.10092174261808395 , training accuracy = tensor(0.9800)\n",
      "epoch: 160 ,loss = 0.09824878722429276 , training accuracy = tensor(0.9800)\n",
      "epoch: 170 ,loss = 0.09577718377113342 , training accuracy = tensor(0.9800)\n",
      "epoch: 180 ,loss = 0.09348078072071075 , training accuracy = tensor(0.9800)\n",
      "epoch: 190 ,loss = 0.091338150203228 , training accuracy = tensor(0.9800)\n",
      "epoch: 200 ,loss = 0.08933144807815552 , training accuracy = tensor(0.9900)\n",
      "epoch: 210 ,loss = 0.08744577318429947 , training accuracy = tensor(0.9900)\n",
      "epoch: 220 ,loss = 0.08566858619451523 , training accuracy = tensor(0.9900)\n",
      "epoch: 230 ,loss = 0.08398916572332382 , training accuracy = tensor(0.9900)\n",
      "epoch: 240 ,loss = 0.08239823579788208 , training accuracy = tensor(0.9900)\n",
      "epoch: 250 ,loss = 0.08088796585798264 , training accuracy = tensor(0.9900)\n",
      "epoch: 260 ,loss = 0.07945121079683304 , training accuracy = tensor(0.9900)\n",
      "epoch: 270 ,loss = 0.07808199524879456 , training accuracy = tensor(0.9900)\n",
      "epoch: 280 ,loss = 0.07677481323480606 , training accuracy = tensor(0.9900)\n",
      "epoch: 290 ,loss = 0.07552491873502731 , training accuracy = tensor(0.9900)\n",
      "epoch: 300 ,loss = 0.07432802021503448 , training accuracy = tensor(0.9900)\n",
      "epoch: 310 ,loss = 0.0731804221868515 , training accuracy = tensor(0.9900)\n",
      "epoch: 320 ,loss = 0.07207854092121124 , training accuracy = tensor(0.9900)\n",
      "epoch: 330 ,loss = 0.07101943343877792 , training accuracy = tensor(0.9900)\n",
      "epoch: 340 ,loss = 0.07000020891427994 , training accuracy = tensor(0.9900)\n",
      "epoch: 350 ,loss = 0.06901835650205612 , training accuracy = tensor(0.9900)\n",
      "epoch: 360 ,loss = 0.06807158142328262 , training accuracy = tensor(0.9900)\n",
      "epoch: 370 ,loss = 0.0671578049659729 , training accuracy = tensor(0.9900)\n",
      "epoch: 380 ,loss = 0.06627506017684937 , training accuracy = tensor(0.9900)\n",
      "epoch: 390 ,loss = 0.06542163342237473 , training accuracy = tensor(0.9900)\n",
      "epoch: 400 ,loss = 0.06459593027830124 , training accuracy = tensor(0.9900)\n",
      "epoch: 410 ,loss = 0.06379647552967072 , training accuracy = tensor(0.9900)\n",
      "epoch: 420 ,loss = 0.06302184611558914 , training accuracy = tensor(0.9900)\n",
      "epoch: 430 ,loss = 0.06227082386612892 , training accuracy = tensor(0.9900)\n",
      "epoch: 440 ,loss = 0.06154218688607216 , training accuracy = tensor(0.9900)\n",
      "epoch: 450 ,loss = 0.06083495542407036 , training accuracy = tensor(0.9900)\n",
      "epoch: 460 ,loss = 0.06014806777238846 , training accuracy = tensor(0.9900)\n",
      "epoch: 470 ,loss = 0.05948059633374214 , training accuracy = tensor(0.9900)\n",
      "epoch: 480 ,loss = 0.05883163958787918 , training accuracy = tensor(0.9900)\n",
      "epoch: 490 ,loss = 0.05820044130086899 , training accuracy = tensor(0.9900)\n",
      "epoch: 500 ,loss = 0.05758623033761978 , training accuracy = tensor(0.9900)\n",
      "epoch: 510 ,loss = 0.05698837712407112 , training accuracy = tensor(0.9900)\n",
      "epoch: 520 ,loss = 0.05640610679984093 , training accuracy = tensor(0.9900)\n",
      "epoch: 530 ,loss = 0.05583877116441727 , training accuracy = tensor(1.)\n",
      "epoch: 540 ,loss = 0.05528581142425537 , training accuracy = tensor(1.)\n",
      "epoch: 550 ,loss = 0.05474674329161644 , training accuracy = tensor(1.)\n",
      "epoch: 560 ,loss = 0.05422096326947212 , training accuracy = tensor(1.)\n",
      "epoch: 570 ,loss = 0.05370796099305153 , training accuracy = tensor(1.)\n",
      "epoch: 580 ,loss = 0.05320734530687332 , training accuracy = tensor(1.)\n",
      "epoch: 590 ,loss = 0.05271860957145691 , training accuracy = tensor(1.)\n",
      "epoch: 600 ,loss = 0.052241306751966476 , training accuracy = tensor(1.)\n",
      "epoch: 610 ,loss = 0.05177508667111397 , training accuracy = tensor(1.)\n",
      "epoch: 620 ,loss = 0.05131947621703148 , training accuracy = tensor(1.)\n",
      "epoch: 630 ,loss = 0.050874195992946625 , training accuracy = tensor(1.)\n",
      "epoch: 640 ,loss = 0.050438858568668365 , training accuracy = tensor(1.)\n",
      "epoch: 650 ,loss = 0.05001307651400566 , training accuracy = tensor(1.)\n",
      "epoch: 660 ,loss = 0.04959653317928314 , training accuracy = tensor(1.)\n",
      "epoch: 670 ,loss = 0.0491890050470829 , training accuracy = tensor(1.)\n",
      "epoch: 680 ,loss = 0.048790160566568375 , training accuracy = tensor(1.)\n",
      "epoch: 690 ,loss = 0.048399653285741806 , training accuracy = tensor(1.)\n",
      "epoch: 700 ,loss = 0.04801725223660469 , training accuracy = tensor(1.)\n",
      "epoch: 710 ,loss = 0.04764267057180405 , training accuracy = tensor(1.)\n",
      "epoch: 720 ,loss = 0.04727568477392197 , training accuracy = tensor(1.)\n",
      "epoch: 730 ,loss = 0.04691601172089577 , training accuracy = tensor(1.)\n",
      "epoch: 740 ,loss = 0.04656345024704933 , training accuracy = tensor(1.)\n",
      "epoch: 750 ,loss = 0.04621778428554535 , training accuracy = tensor(1.)\n",
      "epoch: 760 ,loss = 0.04587871953845024 , training accuracy = tensor(1.)\n",
      "epoch: 770 ,loss = 0.04554618522524834 , training accuracy = tensor(1.)\n",
      "epoch: 780 ,loss = 0.04521996155381203 , training accuracy = tensor(1.)\n",
      "epoch: 790 ,loss = 0.044899798929691315 , training accuracy = tensor(1.)\n",
      "epoch: 800 ,loss = 0.04458549991250038 , training accuracy = tensor(1.)\n",
      "epoch: 810 ,loss = 0.044276896864175797 , training accuracy = tensor(1.)\n",
      "epoch: 820 ,loss = 0.04397384077310562 , training accuracy = tensor(1.)\n",
      "epoch: 830 ,loss = 0.04367620125412941 , training accuracy = tensor(1.)\n",
      "epoch: 840 ,loss = 0.043383773416280746 , training accuracy = tensor(1.)\n",
      "epoch: 850 ,loss = 0.04309644177556038 , training accuracy = tensor(1.)\n",
      "epoch: 860 ,loss = 0.04281407222151756 , training accuracy = tensor(1.)\n",
      "epoch: 870 ,loss = 0.042536452412605286 , training accuracy = tensor(1.)\n",
      "epoch: 880 ,loss = 0.04226352274417877 , training accuracy = tensor(1.)\n",
      "epoch: 890 ,loss = 0.041995104402303696 , training accuracy = tensor(1.)\n",
      "epoch: 900 ,loss = 0.041731107980012894 , training accuracy = tensor(1.)\n",
      "epoch: 910 ,loss = 0.0414714477956295 , training accuracy = tensor(1.)\n",
      "epoch: 920 ,loss = 0.041215941309928894 , training accuracy = tensor(1.)\n",
      "epoch: 930 ,loss = 0.04096454754471779 , training accuracy = tensor(1.)\n",
      "epoch: 940 ,loss = 0.04071708023548126 , training accuracy = tensor(1.)\n",
      "epoch: 950 ,loss = 0.04047352448105812 , training accuracy = tensor(1.)\n",
      "epoch: 960 ,loss = 0.04023365676403046 , training accuracy = tensor(1.)\n",
      "epoch: 970 ,loss = 0.03999752178788185 , training accuracy = tensor(1.)\n",
      "epoch: 980 ,loss = 0.039764903485774994 , training accuracy = tensor(1.)\n",
      "epoch: 990 ,loss = 0.03953581675887108 , training accuracy = tensor(1.)\n",
      "epoch: 1000 ,loss = 0.03931004926562309 , training accuracy = tensor(1.)\n"
     ]
    }
   ],
   "source": [
    "try:\n",
    "    bow_nn_model = train(bow_nn_model, X_TRAIN, Y_TRAIN, N_EPOCHS, BATCH_SIZE)\n",
    "except:\n",
    "    print(\"Training failed. Please check your code.\")\n",
    "    # show error stack trace \n",
    "    # import traceback\n",
    "    # traceback.print_exc()\n",
    "    # \n",
    "    #     # DEBUGGING INFORMATION\n",
    "    # print(\"\\nDebugging information:\")\n",
    "    # print(\"Model architecture:\", bow_nn_model)"
   ],
   "metadata": {
    "collapsed": false,
    "ExecuteTime": {
     "end_time": "2025-02-04T23:42:34.791590Z",
     "start_time": "2025-02-04T23:42:29.364986Z"
    }
   }
  },
  {
   "cell_type": "markdown",
   "metadata": {
    "editable": false,
    "id": "G4D7NpQlkBGf",
    "tags": []
   },
   "source": [
    "# Logistic Regression - Part 2 Test (20 Points)"
   ]
  },
  {
   "cell_type": "code",
   "execution_count": 35,
   "metadata": {
    "editable": false,
    "id": "qW0uESVguCuL",
    "tags": [
     "raises-exception"
    ],
    "ExecuteTime": {
     "end_time": "2025-02-04T23:42:38.870464Z",
     "start_time": "2025-02-04T23:42:34.791483Z"
    }
   },
   "outputs": [
    {
     "name": "stdout",
     "output_type": "stream",
     "text": [
      "              precision    recall  f1-score   support\n",
      "\n",
      "           0       0.80      0.81      0.81      2000\n",
      "           1       0.81      0.80      0.81      2000\n",
      "\n",
      "    accuracy                           0.81      4000\n",
      "   macro avg       0.81      0.81      0.81      4000\n",
      "weighted avg       0.81      0.81      0.81      4000\n",
      "\n",
      "Accuracy:  0.8\n",
      "Test F: 20/20\n"
     ]
    }
   ],
   "source": [
    "# student check - accuracies >= 78% will receive full credit (no credit for less than 78%)\n",
    "ag.test_model_accuracy_lr(TEST, bow_nn_model)"
   ]
  },
  {
   "cell_type": "markdown",
   "metadata": {
    "editable": false,
    "id": "DphmlDCk5sr5",
    "tags": []
   },
   "source": [
    "# Multinomial Regression\n",
    "\n",
    "Load data."
   ]
  },
  {
   "cell_type": "code",
   "execution_count": 36,
   "metadata": {
    "editable": false,
    "id": "SIiy4PBJVh7h",
    "scrolled": true,
    "tags": [
     "raises-exception"
    ],
    "ExecuteTime": {
     "end_time": "2025-02-04T23:42:39.581649Z",
     "start_time": "2025-02-04T23:42:38.870387Z"
    }
   },
   "outputs": [
    {
     "name": "stdout",
     "output_type": "stream",
     "text": [
      "Requirement already satisfied: datasets in /Applications/anaconda3/envs/nlp_hw2/lib/python3.10/site-packages (2.16.1)\r\n",
      "Requirement already satisfied: filelock in /Applications/anaconda3/envs/nlp_hw2/lib/python3.10/site-packages (from datasets) (3.16.1)\r\n",
      "Requirement already satisfied: numpy>=1.17 in /Applications/anaconda3/envs/nlp_hw2/lib/python3.10/site-packages (from datasets) (1.25.2)\r\n",
      "Requirement already satisfied: pyarrow>=8.0.0 in /Applications/anaconda3/envs/nlp_hw2/lib/python3.10/site-packages (from datasets) (18.1.0)\r\n",
      "Requirement already satisfied: pyarrow-hotfix in /Applications/anaconda3/envs/nlp_hw2/lib/python3.10/site-packages (from datasets) (0.6)\r\n",
      "Requirement already satisfied: dill<0.3.8,>=0.3.0 in /Applications/anaconda3/envs/nlp_hw2/lib/python3.10/site-packages (from datasets) (0.3.7)\r\n",
      "Requirement already satisfied: pandas in /Applications/anaconda3/envs/nlp_hw2/lib/python3.10/site-packages (from datasets) (2.1.4)\r\n",
      "Requirement already satisfied: requests>=2.19.0 in /Applications/anaconda3/envs/nlp_hw2/lib/python3.10/site-packages (from datasets) (2.32.3)\r\n",
      "Requirement already satisfied: tqdm>=4.62.1 in /Applications/anaconda3/envs/nlp_hw2/lib/python3.10/site-packages (from datasets) (4.67.1)\r\n",
      "Requirement already satisfied: xxhash in /Applications/anaconda3/envs/nlp_hw2/lib/python3.10/site-packages (from datasets) (3.5.0)\r\n",
      "Requirement already satisfied: multiprocess in /Applications/anaconda3/envs/nlp_hw2/lib/python3.10/site-packages (from datasets) (0.70.15)\r\n",
      "Requirement already satisfied: fsspec<=2023.10.0,>=2023.1.0 in /Applications/anaconda3/envs/nlp_hw2/lib/python3.10/site-packages (from fsspec[http]<=2023.10.0,>=2023.1.0->datasets) (2023.10.0)\r\n",
      "Requirement already satisfied: aiohttp in /Applications/anaconda3/envs/nlp_hw2/lib/python3.10/site-packages (from datasets) (3.11.11)\r\n",
      "Requirement already satisfied: huggingface-hub>=0.19.4 in /Applications/anaconda3/envs/nlp_hw2/lib/python3.10/site-packages (from datasets) (0.27.1)\r\n",
      "Requirement already satisfied: packaging in /Applications/anaconda3/envs/nlp_hw2/lib/python3.10/site-packages (from datasets) (24.2)\r\n",
      "Requirement already satisfied: pyyaml>=5.1 in /Applications/anaconda3/envs/nlp_hw2/lib/python3.10/site-packages (from datasets) (6.0.2)\r\n",
      "Requirement already satisfied: aiohappyeyeballs>=2.3.0 in /Applications/anaconda3/envs/nlp_hw2/lib/python3.10/site-packages (from aiohttp->datasets) (2.4.4)\r\n",
      "Requirement already satisfied: aiosignal>=1.1.2 in /Applications/anaconda3/envs/nlp_hw2/lib/python3.10/site-packages (from aiohttp->datasets) (1.3.2)\r\n",
      "Requirement already satisfied: async-timeout<6.0,>=4.0 in /Applications/anaconda3/envs/nlp_hw2/lib/python3.10/site-packages (from aiohttp->datasets) (5.0.1)\r\n",
      "Requirement already satisfied: attrs>=17.3.0 in /Applications/anaconda3/envs/nlp_hw2/lib/python3.10/site-packages (from aiohttp->datasets) (24.3.0)\r\n",
      "Requirement already satisfied: frozenlist>=1.1.1 in /Applications/anaconda3/envs/nlp_hw2/lib/python3.10/site-packages (from aiohttp->datasets) (1.5.0)\r\n",
      "Requirement already satisfied: multidict<7.0,>=4.5 in /Applications/anaconda3/envs/nlp_hw2/lib/python3.10/site-packages (from aiohttp->datasets) (6.1.0)\r\n",
      "Requirement already satisfied: propcache>=0.2.0 in /Applications/anaconda3/envs/nlp_hw2/lib/python3.10/site-packages (from aiohttp->datasets) (0.2.1)\r\n",
      "Requirement already satisfied: yarl<2.0,>=1.17.0 in /Applications/anaconda3/envs/nlp_hw2/lib/python3.10/site-packages (from aiohttp->datasets) (1.18.3)\r\n",
      "Requirement already satisfied: typing-extensions>=3.7.4.3 in /Applications/anaconda3/envs/nlp_hw2/lib/python3.10/site-packages (from huggingface-hub>=0.19.4->datasets) (4.12.2)\r\n",
      "Requirement already satisfied: charset-normalizer<4,>=2 in /Applications/anaconda3/envs/nlp_hw2/lib/python3.10/site-packages (from requests>=2.19.0->datasets) (3.4.1)\r\n",
      "Requirement already satisfied: idna<4,>=2.5 in /Applications/anaconda3/envs/nlp_hw2/lib/python3.10/site-packages (from requests>=2.19.0->datasets) (3.10)\r\n",
      "Requirement already satisfied: urllib3<3,>=1.21.1 in /Applications/anaconda3/envs/nlp_hw2/lib/python3.10/site-packages (from requests>=2.19.0->datasets) (2.3.0)\r\n",
      "Requirement already satisfied: certifi>=2017.4.17 in /Applications/anaconda3/envs/nlp_hw2/lib/python3.10/site-packages (from requests>=2.19.0->datasets) (2024.12.14)\r\n",
      "Requirement already satisfied: python-dateutil>=2.8.2 in /Applications/anaconda3/envs/nlp_hw2/lib/python3.10/site-packages (from pandas->datasets) (2.9.0.post0)\r\n",
      "Requirement already satisfied: pytz>=2020.1 in /Applications/anaconda3/envs/nlp_hw2/lib/python3.10/site-packages (from pandas->datasets) (2024.2)\r\n",
      "Requirement already satisfied: tzdata>=2022.1 in /Applications/anaconda3/envs/nlp_hw2/lib/python3.10/site-packages (from pandas->datasets) (2024.2)\r\n",
      "Requirement already satisfied: six>=1.5 in /Applications/anaconda3/envs/nlp_hw2/lib/python3.10/site-packages (from python-dateutil>=2.8.2->pandas->datasets) (1.17.0)\r\n"
     ]
    }
   ],
   "source": [
    "!pip install datasets"
   ]
  },
  {
   "cell_type": "code",
   "execution_count": 37,
   "metadata": {
    "editable": false,
    "id": "GrcwUiN-VfSf",
    "tags": [
     "raises-exception"
    ],
    "ExecuteTime": {
     "end_time": "2025-02-04T23:42:39.922016Z",
     "start_time": "2025-02-04T23:42:39.582901Z"
    }
   },
   "outputs": [],
   "source": [
    "from datasets import load_dataset"
   ]
  },
  {
   "cell_type": "markdown",
   "metadata": {
    "editable": true,
    "id": "gqcveFex52Fy",
    "tags": []
   },
   "source": [
    "Unlike earlier, we will use a pre-defined set of embeddings, called [GLoVe](https://nlp.stanford.edu/projects/glove/). GLoVe replaces every word with a 100-dimensional vector of floating point values. The advantage of this is that words with similar semantic meanings will have similar vectors. This is important because the vocabulary size of the corpus we will use is 400,000.\n",
    "\n",
    "For the assigment, instead of getting a one-hot vector for each word, the neural network will get a `batch_size x num_words x 100` tensor containing floating point values.\n",
    "\n",
    "Download the GLoVe embedding vectors."
   ]
  },
  {
   "cell_type": "code",
   "execution_count": 38,
   "metadata": {
    "editable": false,
    "id": "7zIXPea4pZCi",
    "tags": [
     "raises-exception"
    ],
    "ExecuteTime": {
     "end_time": "2025-02-04T23:42:39.973316Z",
     "start_time": "2025-02-04T23:42:39.922509Z"
    }
   },
   "outputs": [],
   "source": [
    "import gensim.downloader"
   ]
  },
  {
   "cell_type": "code",
   "execution_count": 39,
   "metadata": {
    "editable": false,
    "id": "-_CNat0Qpf_b",
    "tags": [
     "raises-exception"
    ],
    "ExecuteTime": {
     "end_time": "2025-02-04T23:42:52.191603Z",
     "start_time": "2025-02-04T23:42:39.973751Z"
    }
   },
   "outputs": [],
   "source": [
    "glove_vectors = gensim.downloader.load('glove-wiki-gigaword-100')\n",
    "VOCAB_SIZE = len(glove_vectors.vectors)\n",
    "EMBEDDING_DIM = 100"
   ]
  },
  {
   "cell_type": "markdown",
   "metadata": {
    "editable": false,
    "id": "jRcY0APp-9YI",
    "tags": []
   },
   "source": [
    "This function will embed the dataset into sequences of 100-dimension vectors."
   ]
  },
  {
   "cell_type": "code",
   "execution_count": 40,
   "metadata": {
    "editable": false,
    "id": "Yo6wUdb9s97G",
    "tags": [
     "raises-exception"
    ],
    "ExecuteTime": {
     "end_time": "2025-02-04T23:42:52.195450Z",
     "start_time": "2025-02-04T23:42:52.192407Z"
    }
   },
   "outputs": [],
   "source": [
    "# pad dataset to a maximum review length in words\n",
    "MAX_LEN = 50\n",
    "\n",
    "def get_glove_seq(review, max_len):\n",
    "  seq = np.zeros((max_len, 100))\n",
    "  for i, word in enumerate(review):\n",
    "    if i < max_len and word in glove_vectors:\n",
    "      seq[i] = glove_vectors[word]\n",
    "  return seq"
   ]
  },
  {
   "cell_type": "code",
   "execution_count": 41,
   "metadata": {
    "editable": false,
    "id": "ZtpvG4mJnwMf",
    "tags": [
     "raises-exception"
    ],
    "ExecuteTime": {
     "end_time": "2025-02-04T23:43:02.470146Z",
     "start_time": "2025-02-04T23:42:52.195020Z"
    }
   },
   "outputs": [],
   "source": [
    "news_data_train = load_dataset(\"ag_news\", split=\"train\").shuffle()\n",
    "news_data_test = load_dataset(\"ag_news\", split=\"test\").shuffle()\n",
    "NEWS_TRAIN = pd.DataFrame(news_data_train)[:5000]\n",
    "NEWS_TEST = pd.DataFrame(news_data_test)[:5000]\n",
    "NUM_LABELS = 4"
   ]
  },
  {
   "cell_type": "code",
   "execution_count": 42,
   "metadata": {
    "editable": false,
    "id": "pmx1OElZaAki",
    "tags": [
     "raises-exception"
    ],
    "ExecuteTime": {
     "end_time": "2025-02-04T23:43:02.477872Z",
     "start_time": "2025-02-04T23:43:02.471760Z"
    }
   },
   "outputs": [
    {
     "data": {
      "text/plain": "                                                text  label\n0  Rugby-Lions accept extra match on 2005 New Zea...      1\n1  Game on as Sony puts 100 tag on PSP system SON...      3\n2  Final edition for a respected Asian newsweekly...      2\n3  Automakers sue California over emissions FRESN...      2\n4  The Newest Hope ; Marriage of Necessity Just M...      1",
      "text/html": "<div>\n<style scoped>\n    .dataframe tbody tr th:only-of-type {\n        vertical-align: middle;\n    }\n\n    .dataframe tbody tr th {\n        vertical-align: top;\n    }\n\n    .dataframe thead th {\n        text-align: right;\n    }\n</style>\n<table border=\"1\" class=\"dataframe\">\n  <thead>\n    <tr style=\"text-align: right;\">\n      <th></th>\n      <th>text</th>\n      <th>label</th>\n    </tr>\n  </thead>\n  <tbody>\n    <tr>\n      <th>0</th>\n      <td>Rugby-Lions accept extra match on 2005 New Zea...</td>\n      <td>1</td>\n    </tr>\n    <tr>\n      <th>1</th>\n      <td>Game on as Sony puts 100 tag on PSP system SON...</td>\n      <td>3</td>\n    </tr>\n    <tr>\n      <th>2</th>\n      <td>Final edition for a respected Asian newsweekly...</td>\n      <td>2</td>\n    </tr>\n    <tr>\n      <th>3</th>\n      <td>Automakers sue California over emissions FRESN...</td>\n      <td>2</td>\n    </tr>\n    <tr>\n      <th>4</th>\n      <td>The Newest Hope ; Marriage of Necessity Just M...</td>\n      <td>1</td>\n    </tr>\n  </tbody>\n</table>\n</div>"
     },
     "execution_count": 42,
     "metadata": {},
     "output_type": "execute_result"
    }
   ],
   "source": [
    "NEWS_TEST.head()"
   ]
  },
  {
   "cell_type": "markdown",
   "metadata": {
    "editable": false,
    "id": "e5IzjEK0Ixxl",
    "tags": []
   },
   "source": [
    "Train/Test Sets using GloVe embeddings."
   ]
  },
  {
   "cell_type": "code",
   "execution_count": 43,
   "metadata": {
    "editable": false,
    "id": "-I8PSBk-I6qM",
    "tags": [
     "raises-exception"
    ],
    "ExecuteTime": {
     "end_time": "2025-02-04T23:43:03.104079Z",
     "start_time": "2025-02-04T23:43:02.474806Z"
    }
   },
   "outputs": [],
   "source": [
    "# Vectorize text reviews to numbers\n",
    "X_NEWS_TRAIN = np.zeros((len(NEWS_TRAIN), MAX_LEN, 100))\n",
    "X_NEWS_TEST = np.zeros((len(NEWS_TEST), MAX_LEN, 100))\n",
    "\n",
    "for i, row in NEWS_TRAIN.iterrows():\n",
    "  X_NEWS_TRAIN[i] = get_glove_seq(tokenize_and_clean(row['text'], stem_and_remove_stop_words=False), MAX_LEN)\n",
    "\n",
    "for i, row in NEWS_TEST.iterrows():\n",
    "  X_NEWS_TEST[i] = get_glove_seq(tokenize_and_clean(row['text'], stem_and_remove_stop_words=False), MAX_LEN)\n",
    "\n",
    "Y_NEWS_TRAIN = np.array(NEWS_TRAIN['label'])\n",
    "Y_NEWS_TEST = np.array(NEWS_TEST['label'])\n",
    "NUM_LABELS = 4"
   ]
  },
  {
   "cell_type": "code",
   "execution_count": 44,
   "metadata": {
    "editable": true,
    "id": "i1-mK1-EPbQL",
    "nbgrader": {
     "grade": false,
     "grade_id": "cell-64776db849e2cffa",
     "locked": false,
     "schema_version": 3,
     "solution": true,
     "task": false
    },
    "tags": [
     "raises-exception"
    ],
    "ExecuteTime": {
     "end_time": "2025-02-04T23:43:03.106049Z",
     "start_time": "2025-02-04T23:43:03.103338Z"
    }
   },
   "outputs": [],
   "source": [
    "# Defining neural network structure\n",
    "class MultinomialBoWClassifier(nn.Module):  # inheriting from nn.Module!\n",
    "  def __init__(self, max_word_len, embedding_dim, num_labels):\n",
    "    super(MultinomialBoWClassifier, self).__init__()\n",
    "    self.max_word_len = max_word_len\n",
    "    self.embedding_dim = embedding_dim\n",
    "    self.num_labels = num_labels\n",
    "    \n",
    "    ### BEGIN SOLUTION\n",
    "    self.linear = nn.Linear(max_word_len * embedding_dim, num_labels)\n",
    "    ### END SOLUTION\n",
    "\n",
    "  def forward(self, x):\n",
    "    out = None\n",
    "    ### BEGIN SOLUTION\n",
    "    # Flatten the input tensor to 2D\n",
    "    #   - 3D: (batch_size, max_word_len, embedding_dim) \n",
    "    #   - 2D: (batch_size, max_word_len * embedding_dim)\n",
    "    x = x.flatten(start_dim=1) \n",
    "    out = self.linear(x)\n",
    "    ### END SOLUTION\n",
    "    return out"
   ]
  },
  {
   "cell_type": "code",
   "execution_count": 45,
   "metadata": {
    "editable": false,
    "id": "_eVavHp7TOxv",
    "tags": [
     "raises-exception"
    ],
    "ExecuteTime": {
     "end_time": "2025-02-04T23:43:03.121201Z",
     "start_time": "2025-02-04T23:43:03.106010Z"
    }
   },
   "outputs": [],
   "source": [
    "multibow_model = MultinomialBoWClassifier(max_word_len=MAX_LEN, embedding_dim=EMBEDDING_DIM, num_labels=NUM_LABELS)"
   ]
  },
  {
   "cell_type": "code",
   "execution_count": 46,
   "metadata": {
    "editable": false,
    "id": "wc0JD91dP9-a",
    "tags": [
     "raises-exception"
    ],
    "ExecuteTime": {
     "end_time": "2025-02-04T23:43:03.121322Z",
     "start_time": "2025-02-04T23:43:03.110626Z"
    }
   },
   "outputs": [],
   "source": [
    "# Train the model\n",
    "def train(model, x_train_data, y_train_data, epochs, batch_size, lr, weight_decay):\n",
    "  print('Training Started!')\n",
    "  optimizer = optim.Adam(model.parameters(), lr=lr, weight_decay=weight_decay)\n",
    "  criterion = nn.CrossEntropyLoss()\n",
    "  n_iter = len(x_train_data) // batch_size\n",
    "  print(n_iter, 'batches per epoch')\n",
    "\n",
    "  for epoch in range(epochs):\n",
    "    num_correct = 0\n",
    "    total_loss = 0.0\n",
    "    model.train()\n",
    "\n",
    "    for i in range(n_iter):\n",
    "      x, y = get_batch(i, batch_size, x_train_data, y_train_data)\n",
    "      x = x\n",
    "      y = y.long()\n",
    "\n",
    "      y_hat = model(x)\n",
    "      loss = criterion(y_hat, y)\n",
    "      total_loss += loss\n",
    "      optimizer.zero_grad()\n",
    "      loss.backward()\n",
    "      optimizer.step()\n",
    "\n",
    "      if (epoch+1)%10 == 0 and (i+1) == n_iter:\n",
    "        print('epoch:', epoch+1,',loss =',loss.item(), ', training accuracy =',(y_hat.argmax(dim=1)==y).float().mean().item())"
   ]
  },
  {
   "cell_type": "code",
   "execution_count": 47,
   "metadata": {
    "editable": true,
    "id": "POVLJlC0_mEl",
    "tags": [
     "raises-exception"
    ],
    "ExecuteTime": {
     "end_time": "2025-02-04T23:43:03.121365Z",
     "start_time": "2025-02-04T23:43:03.114391Z"
    }
   },
   "outputs": [],
   "source": [
    "# It's ok to modify this cell.\n",
    "BATCH_SIZE = 10\n",
    "N_EPOCHS = 100\n",
    "LEARNING_RATE = 2e-3\n",
    "WEIGHT_DECAY = 1e-2"
   ]
  },
  {
   "cell_type": "code",
   "execution_count": 48,
   "metadata": {
    "editable": false,
    "id": "uhVQB2RCbPj7",
    "scrolled": true,
    "tags": [
     "raises-exception"
    ],
    "ExecuteTime": {
     "end_time": "2025-02-04T23:43:20.166168Z",
     "start_time": "2025-02-04T23:43:03.116982Z"
    }
   },
   "outputs": [
    {
     "name": "stdout",
     "output_type": "stream",
     "text": [
      "Training Started!\n",
      "500 batches per epoch\n",
      "epoch: 10 ,loss = 0.0255872905254364 , training accuracy = 1.0\n",
      "epoch: 20 ,loss = 0.15662696957588196 , training accuracy = 0.8999999761581421\n",
      "epoch: 30 ,loss = 0.05577061325311661 , training accuracy = 1.0\n",
      "epoch: 40 ,loss = 0.055762164294719696 , training accuracy = 1.0\n",
      "epoch: 50 ,loss = 0.027530983090400696 , training accuracy = 1.0\n",
      "epoch: 60 ,loss = 0.07867641746997833 , training accuracy = 1.0\n",
      "epoch: 70 ,loss = 0.050207387655973434 , training accuracy = 1.0\n",
      "epoch: 80 ,loss = 0.060886871069669724 , training accuracy = 1.0\n",
      "epoch: 90 ,loss = 0.18843160569667816 , training accuracy = 0.8999999761581421\n",
      "epoch: 100 ,loss = 0.05550125986337662 , training accuracy = 1.0\n"
     ]
    }
   ],
   "source": [
    "try:\n",
    "    train(multibow_model, X_NEWS_TRAIN, Y_NEWS_TRAIN, N_EPOCHS, BATCH_SIZE, lr=LEARNING_RATE, weight_decay=WEIGHT_DECAY)\n",
    "except:\n",
    "    print(\"Training failed. Please check your code.\")"
   ]
  },
  {
   "cell_type": "markdown",
   "metadata": {
    "editable": false,
    "id": "50_KqANXCtbs",
    "tags": []
   },
   "source": [
    "# Multinomial Regression - Test (40 Points)"
   ]
  },
  {
   "cell_type": "code",
   "execution_count": 49,
   "metadata": {
    "editable": false,
    "id": "Ltz2NZ_4u9Cr",
    "tags": [
     "raises-exception"
    ],
    "ExecuteTime": {
     "end_time": "2025-02-04T23:43:20.231845Z",
     "start_time": "2025-02-04T23:43:20.164422Z"
    }
   },
   "outputs": [
    {
     "name": "stdout",
     "output_type": "stream",
     "text": [
      "Accuracy:  0.8108000159263611\n",
      "Test G: 40/40\n"
     ]
    }
   ],
   "source": [
    "# student check - accuracies >= 80% will receive full credit (no credit for less than 80%)\n",
    "ag.test_model_accuracy_mr(X_NEWS_TEST, Y_NEWS_TEST, multibow_model)"
   ]
  },
  {
   "cell_type": "markdown",
   "metadata": {
    "editable": false,
    "id": "hKEYvlbhS7n9",
    "tags": []
   },
   "source": [
    "# Grading\n",
    "\n",
    "Please submit this .ipynb file to Gradescope for grading."
   ]
  },
  {
   "cell_type": "markdown",
   "metadata": {
    "collapsed": false,
    "editable": false,
    "tags": [],
    "id": "yGJoiI-m681a"
   },
   "source": [
    "## Final Grade"
   ]
  },
  {
   "cell_type": "code",
   "execution_count": 50,
   "metadata": {
    "editable": false,
    "tags": [
     "raises-exception"
    ],
    "id": "r5xdXQJy681a",
    "ExecuteTime": {
     "end_time": "2025-02-04T23:43:20.263478Z",
     "start_time": "2025-02-04T23:43:20.184598Z"
    }
   },
   "outputs": [
    {
     "name": "stdout",
     "output_type": "stream",
     "text": [
      "Your projected points for this assignment is 100/100.\n",
      "\n",
      "NOTE: THIS IS NOT YOUR FINAL GRADE. YOUR FINAL GRADE FOR THIS ASSIGNMENT WILL BE AT LEAST 100 OR MORE, BUT NOT LESS\n"
     ]
    }
   ],
   "source": [
    "# student check\n",
    "ag.FINAL_GRADE()"
   ]
  },
  {
   "cell_type": "markdown",
   "metadata": {
    "collapsed": false,
    "editable": false,
    "tags": [],
    "id": "3QabthAf681b"
   },
   "source": [
    "## Notebook Runtime"
   ]
  },
  {
   "cell_type": "code",
   "execution_count": 51,
   "metadata": {
    "editable": false,
    "tags": [
     "raises-exception"
    ],
    "id": "lZGz8usd681b",
    "ExecuteTime": {
     "end_time": "2025-02-04T23:43:20.264461Z",
     "start_time": "2025-02-04T23:43:20.187617Z"
    }
   },
   "outputs": [
    {
     "name": "stdout",
     "output_type": "stream",
     "text": [
      "Notebook execution time in minutes = 1.322880482673645\n"
     ]
    }
   ],
   "source": [
    "# end time - notebook execution\n",
    "end_nb = time.time()\n",
    "# print notebook execution time in minutes\n",
    "print(\"Notebook execution time in minutes =\", (end_nb - start_nb)/60)\n",
    "# warn student if notebook execution time is greater than 30 minutes\n",
    "if (end_nb - start_nb)/60 > 30:\n",
    "  print(\"WARNING: Notebook execution time is greater than 30 minutes. Your submission may not complete auto-grading on Gradescope. Please optimize your code to reduce the notebook execution time.\")"
   ]
  }
 ],
 "metadata": {
  "accelerator": "GPU",
  "bento_stylesheets": {
   "bento/extensions/flow/main.css": true,
   "bento/extensions/kernel_selector/main.css": true,
   "bento/extensions/kernel_ui/main.css": true,
   "bento/extensions/new_kernel/main.css": true,
   "bento/extensions/system_usage/main.css": true,
   "bento/extensions/theme/main.css": true
  },
  "captumWidgetMessage": {},
  "colab": {
   "gpuType": "T4",
   "private_outputs": true,
   "provenance": [
    {
     "file_id": "1TsKPn8cwghhFR-TwD0la25YRRzhw4XF9",
     "timestamp": 1685998969758
    }
   ]
  },
  "dataExplorerConfig": {},
  "kernelspec": {
   "display_name": "Python 3 (ipykernel)",
   "language": "python",
   "name": "python3"
  },
  "language_info": {
   "codemirror_mode": {
    "name": "ipython",
    "version": 3
   },
   "file_extension": ".py",
   "mimetype": "text/x-python",
   "name": "python",
   "nbconvert_exporter": "python",
   "pygments_lexer": "ipython3",
   "version": "3.8.1"
  },
  "last_base_url": "https://11238.od.fbinfra.net/",
  "last_kernel_id": "8832c409-9272-44ac-a889-c233991c3bb0",
  "last_msg_id": "354bb3e2-f350a4bd64779ec7f6ce4382_4332",
  "last_server_session_id": "5625d4d2-18a1-473d-bf89-0f1a5ecc7c7b",
  "outputWidgetContext": {}
 },
 "nbformat": 4,
 "nbformat_minor": 0
}
